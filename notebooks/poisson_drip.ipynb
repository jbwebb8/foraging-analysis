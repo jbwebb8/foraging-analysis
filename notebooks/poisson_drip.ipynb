{
 "cells": [
  {
   "cell_type": "markdown",
   "metadata": {},
   "source": [
    "# Markov Drip Process"
   ]
  },
  {
   "cell_type": "markdown",
   "metadata": {},
   "source": [
    "## Initial setup"
   ]
  },
  {
   "cell_type": "code",
   "execution_count": 117,
   "metadata": {},
   "outputs": [],
   "source": [
    "import numpy as np\n",
    "import math\n",
    "import matplotlib.pyplot as plt"
   ]
  },
  {
   "cell_type": "markdown",
   "metadata": {},
   "source": [
    "## Poisson distribution"
   ]
  },
  {
   "cell_type": "markdown",
   "metadata": {},
   "source": [
    "### Create handling class"
   ]
  },
  {
   "cell_type": "code",
   "execution_count": 119,
   "metadata": {},
   "outputs": [],
   "source": [
    "class Poisson:\n",
    "    \n",
    "    def __init__(self, lam):\n",
    "        self.lam = lam\n",
    "        \n",
    "    def cdf(self, t):\n",
    "        return 1.0 - np.exp(-self.lam*t)\n",
    "    \n",
    "    def inv_cdf(self, F):\n",
    "        return -(1.0/self.lam)*np.log(1.0 - F)\n",
    "        \n",
    "    def times(self, n=1, t_max=np.inf):\n",
    "        \"\"\"Returns inter-event interval times sampled from Poisson distribution.\"\"\"\n",
    "        F = np.random.uniform(size=n)\n",
    "        t = self.inv_cdf(F)\n",
    "        t[t > t_max] = t_max\n",
    "        return t\n",
    "    \n",
    "    def events(self, s):\n",
    "        \"\"\"Returns number of events N(s) in interval [0, s) sampled from Poisson distribution.\"\"\"\n",
    "        # Guess number of events as Poisson mean\n",
    "        mean = self.lam*s\n",
    "        chunk = max(int(mean), 1)\n",
    "        T = np.cumsum(self.times(chunk))\n",
    "        idx = np.searchsorted(T, s, side='left')\n",
    "        n = idx\n",
    "        \n",
    "        # Continue sampling time until time s reached\n",
    "        while (idx == T.size):\n",
    "            T = np.cumsum(self.times(chunk)) + T[-1]\n",
    "            idx = np.searchsorted(T, s, side='left')\n",
    "            n += idx\n",
    "        \n",
    "        return n\n",
    "    \n",
    "    def P(self, n, s):\n",
    "        \"\"\"Returns probability of N(s) = n\"\"\" \n",
    "        return np.exp(-self.lam*s)*(np.power(self.lam*s, n))/self._factorial(n)\n",
    "    \n",
    "    def _factorial(self, n):\n",
    "        if isinstance(n, np.ndarray):\n",
    "            fact = np.zeros(n.size)\n",
    "            for i, n_i in enumerate(n):\n",
    "                fact[i] = np.prod(np.arange(max(n_i, 1))+1)\n",
    "        else:\n",
    "            fact = np.prod(np.arange(max(n_i, 1))+1)\n",
    "    \n",
    "        return fact"
   ]
  },
  {
   "cell_type": "markdown",
   "metadata": {},
   "source": [
    "### Test inter-event time sampling\n",
    "This should be drawn from an exponential distribution: $t \\sim \\lambda e^{-\\lambda t}$"
   ]
  },
  {
   "cell_type": "code",
   "execution_count": 107,
   "metadata": {},
   "outputs": [
    {
     "name": "stdout",
     "output_type": "stream",
     "text": [
      "Expected mean: 2.00000e+00\n",
      "Actual mean: 2.03639e+00\n",
      "Expected std: 2.00000e+00\n",
      "Actual std: 2.03890e+00\n"
     ]
    },
    {
     "data": {
      "image/png": "[encoded data removed]",
      "text/plain": [
       "<Figure size 432x288 with 1 Axes>"
      ]
     },
     "metadata": {
      "needs_background": "light"
     },
     "output_type": "display_data"
    }
   ],
   "source": [
    "# Settings\n",
    "lam = 0.5\n",
    "poisson = Poisson(lam)\n",
    "\n",
    "# Get inter-event times\n",
    "sample = poisson.times(10000)\n",
    "\n",
    "# Print results\n",
    "print('Expected mean: %.5e' % (1.0/lam))\n",
    "print('Actual mean: %.5e' % (np.mean(sample)))\n",
    "print('Expected std: %.5e' % (1.0/lam))\n",
    "print('Actual std: %.5e' % (np.std(sample)))\n",
    "\n",
    "# Plot results\n",
    "plt.hist(sample, bins=25);"
   ]
  },
  {
   "cell_type": "markdown",
   "metadata": {},
   "source": [
    "### Test event sampling\n",
    "This should be drawn from the Poisson distribution: $N(s) \\sim Poisson(\\lambda s)$"
   ]
  },
  {
   "cell_type": "code",
   "execution_count": 110,
   "metadata": {
    "scrolled": true
   },
   "outputs": [
    {
     "name": "stdout",
     "output_type": "stream",
     "text": [
      "Expected mean: 10.00000\n",
      "Actual mean: 10.15500\n",
      "Expected std: 3.16228\n",
      "Actual std: 3.09338\n"
     ]
    },
    {
     "data": {
      "image/png": "[encoded data removed]",
      "text/plain": [
       "<Figure size 432x288 with 2 Axes>"
      ]
     },
     "metadata": {
      "needs_background": "light"
     },
     "output_type": "display_data"
    }
   ],
   "source": [
    "# Settings\n",
    "lam = 2.0\n",
    "s = 5.0\n",
    "iters = 1000\n",
    "\n",
    "# Create distribution\n",
    "poisson = Poisson(lam)\n",
    "\n",
    "# Sample number of events\n",
    "sample = np.zeros(iters, dtype=np.int64)\n",
    "for i in range(iters):\n",
    "    sample[i] = poisson.events(s)\n",
    "    \n",
    "# Get probabilities of events samples\n",
    "n_range = np.arange(2*lam*s)\n",
    "probs = poisson.P(n=n_range, s=s)\n",
    "\n",
    "# Print results\n",
    "print('Expected mean: %.5f' % (lam*s))\n",
    "print('Actual mean: %.5f' % (np.mean(sample)))\n",
    "print('Expected std: %.5f' % ((lam*s)**0.5))\n",
    "print('Actual std: %.5f' % (np.std(sample)))\n",
    "\n",
    "# Plot results\n",
    "fig, ax = plt.subplots()\n",
    "ax.hist(sample, bins=np.arange(np.max(sample))+0.5, color='C1', alpha=0.5)\n",
    "ax2 = ax.twinx()\n",
    "ax2.plot(n_range, probs, color='C7', alpha=0.75);"
   ]
  },
  {
   "cell_type": "markdown",
   "metadata": {},
   "source": [
    "## Patch modeling"
   ]
  },
  {
   "cell_type": "markdown",
   "metadata": {},
   "source": [
    "### Model single patch"
   ]
  },
  {
   "cell_type": "code",
   "execution_count": 140,
   "metadata": {},
   "outputs": [],
   "source": [
    "# Settings\n",
    "lam_drip = 1.0 # initial drip parameter\n",
    "lam_lick = 1.0/5.0 # lick parameter\n",
    "lick_timeout = 1.0 # minimum time between rewarded licks\n",
    "tau = 30.0 # rate of decay of lambda\n",
    "V_drip = 2.0 # drip volume (uL)\n",
    "V_reward = 2.0 # reward volume (uL)\n",
    "t_total = 300 # total seconds to model\n",
    "t = 0 # current time (s)\n",
    "\n",
    "# Create initial distribution\n",
    "mouse = Poisson(lam_lick)\n",
    "drip = Poisson(lam_drip)\n",
    "bucket = 0.0 # volume in bucket\n",
    "\n",
    "# Placeholders (for debugging)\n",
    "t_drip = [] # drip times\n",
    "t_lick = [] # lick times\n",
    "t_event = []\n",
    "V_bucket = [] # bucket volume\n",
    "\n",
    "t, t_next_drip, t_next_lick = 0, 0, 0\n",
    "t_prev_reward = -lick_timeout\n",
    "while (t <= t_total):\n",
    "    # Increment timer to next event\n",
    "    t = min(t_next_drip, t_next_lick)\n",
    "    \n",
    "    # Update Poisson params\n",
    "    drip.lam = lam_0 * np.exp(-t/tau)\n",
    "    \n",
    "    # Handle drip event\n",
    "    if (t == t_next_drip):\n",
    "        bucket += V_drip\n",
    "        t_drip.append(t)\n",
    "        t_next_drip = t + drip.times(t_max=100.0)\n",
    "    \n",
    "    # Handle lick event\n",
    "    if (t == t_next_lick):\n",
    "        if (bucket >= V_reward) and (t - t_prev_reward > lick_timeout):\n",
    "            bucket -= V_reward\n",
    "            t_prev_reward = t\n",
    "        t_lick.append(t)\n",
    "        t_next_lick = t + mouse.times(t_max=100.0)\n",
    "        \n",
    "    # Log bucket volume\n",
    "    t_event.append(t)\n",
    "    V_bucket.append(bucket)\n",
    "    \n",
    "# Create arrays\n",
    "t_drip = np.array(t_drip)\n",
    "t_lick = np.array(t_lick)\n",
    "t_event = np.array(t_event)\n",
    "V_bucket = np.array(V_bucket)"
   ]
  },
  {
   "cell_type": "code",
   "execution_count": 141,
   "metadata": {},
   "outputs": [
    {
     "data": {
      "image/png": "[encoded data removed]",
      "text/plain": [
       "<Figure size 720x504 with 1 Axes>"
      ]
     },
     "metadata": {
      "needs_background": "light"
     },
     "output_type": "display_data"
    }
   ],
   "source": [
    "# Plot results\n",
    "fig, ax = plt.subplots(figsize=(10, 7))\n",
    "ax.plot(t_event, V_bucket, label='bucket volume')\n",
    "ymin = ax.get_ylim()[0] - 0.1*np.diff(ax.get_ylim())\n",
    "ymax = ax.get_ylim()[0]\n",
    "ax.vlines(t_drip, ymin=ymin, ymax=ymax, color='green', alpha=0.5, label='drips')\n",
    "ax.vlines(t_lick, ymin=ymin, ymax=ymax, color='black', alpha=0.5, label='licks')\n",
    "ax.set_xlabel('time (s)')\n",
    "ax.set_ylabel('volume (uL)')\n",
    "ax.legend();"
   ]
  },
  {
   "cell_type": "markdown",
   "metadata": {},
   "source": [
    "### Search parameter space\n",
    "It might be best to solve for the optimal foraging behavior (e.g. residence time) given a specified environment (e.g. travel time, cumulative reward function). Here, the cumulative reward function is actually based on a non-homogeneous Poisson process in the drip function.\n",
    "\n",
    "Recall that a Poisson process is given by:\n",
    "- exponentially distributed variables $t \\st p(t) = \\lambda e^{-\\lambda t}$\n",
    "- a random variable $T \\st T_n = t_1 + t_2 + \\ldots + t_n$\n",
    "- a number of events $N \\st N(s) = max{n | T_n \\leq s}$\n",
    "\n",
    "The underlying statistics of such a process are:\n",
    "\n",
    "$\n",
    "\\quad P(N(s) = n) = e^{-\\lambda s} \\frac{(\\lambda s)^n}{n!} = Poisson(\\lambda s) \\\\\n",
    "\\quad \\mathbb{E}[N(s)] = \\lambda s \\\\\n",
    "\\quad var[N(s)] = \\lambda s\n",
    "$\n",
    "\n",
    "(We will use $p$ for probability density and $P$ for cumulative probability density. See Appendix for derivation of these statistics.)\n",
    "\n",
    "When $\\lambda$ is constant, the above is termed a *homogeneous* Poisson process. However, if $\\lambda$ varies over time, then the process becomes *non-homogeneous* or *inhomogeneous*. In such cases, the process can be modeled as a homogeneous Poisson process over some interval $\\left [ t_1, t_2 \\right ]$ by replacing $\\lambda$ with its integral over that time interval:\n",
    "\n",
    "$\n",
    "\\quad \\Lambda(t, s) = \\int_t^{t+s} \\lambda(t) dt \\\\\n",
    "\\quad P_t(N(s) = n) = e^{-\\Lambda(t, s)} \\frac{(\\Lambda(t, s))^n}{n!} = Poisson(\\Lambda(t, s)) \\\\\n",
    "\\quad \\mathbb{E}_t[N(s)] = \\Lambda(t, s) \\\\\n",
    "\\quad var_t[N(s)] = \\Lambda(t, s)\n",
    "$\n",
    "\n",
    "(See Appendix for derivations.)"
   ]
  },
  {
   "cell_type": "markdown",
   "metadata": {},
   "source": [
    "Given that drip times follow $T \\sim Poisson(\\lambda(t) s)$, the mean inter-drip time is given by $\\mathbb{E}(t_i - t_{i-1}) = \\frac{1}{\\lambda}$, or the mean drip rate is $\\frac{1}{\\mathbb{E}(t_i - t_{i-1})} = \\lambda$. The fill rate of the bucket is then $\\frac{dV}{dt} = \\lambda V_{drip}$. By integrating over time, we get the cumulative volume (reward) function:\n",
    "\n",
    "$\\quad V = \\int_0^s \\lambda V_{drip} dt$\n",
    "\n",
    "In this case, $\\lambda$ decays over time:\n",
    "\n",
    "$\\quad \\lambda(t) = \\lambda_0 e^{-\\frac{t}{\\tau}}$\n",
    "\n",
    "So the cumulative reward functions becomes:\n",
    "\n",
    "$\n",
    "\\begin{align}\n",
    "\\quad V &= \\int_0^s \\lambda_0 e^{-\\frac{t}{\\tau}} V_{drip} dt \\\\\n",
    "&= \\lambda_0 V_{drip} \\int_0^s e^{-\\frac{t}{\\tau}} dt \\\\\n",
    "&= \\lambda_0 V_{drip} \\tau \\left ( 1 - e^{-\\frac{s}{\\tau}} \\right )\n",
    "\\end{align}\n",
    "$\n",
    "\n",
    "Looking at the solution to the marginal value theorem for an exponentially decaying reward rate, we see that, on average, the Poisson drip model is in fact equivalent, with $r_0 = \\lambda_0 V_{drip}$. Thus searching for parameters in this model amounts to finding the right parameters in the deterministic model ($r_0, R_0, \\tau$), and then tuning the Poisson model parameters ($\\lambda_0, V_{drip}$) within the constraint that $\\lambda_0 V_{drip} = r_0$. While the expected cumulative reward per patch will remain the same, the variance of the cumulative reward per patch will increase as $V_{drip}$ increases. Therefore, after finding the right point in parameter space for the deterministic model, the degree of stochasticity can be tuned by varing $V_{drip}$ (which will also change $\\lambda$ due to the aforementioned constraint).\n",
    "\n",
    "Because we know the variance of a Poisson distribution, we can solve for this explicitly. The number of drips over time in a patch is given by:\n",
    "\n",
    "$ \n",
    "\\quad \\mathbb{E}[N(s)] = \\lambda s \\\\\n",
    "\\quad var[N(s)] = \\lambda s\n",
    "$"
   ]
  },
  {
   "cell_type": "markdown",
   "metadata": {},
   "source": [
    "## Appendix"
   ]
  },
  {
   "cell_type": "markdown",
   "metadata": {},
   "source": [
    "### Homogeneous Poisson process"
   ]
  },
  {
   "cell_type": "markdown",
   "metadata": {},
   "source": [
    "The mean and variance of a homogeneous Poisson process (that is, $\\lambda(t) = k \\: \\forall \\: t$) are given by:\n",
    "\n",
    "$\n",
    "\\begin{align}\n",
    "\\quad \\mathbb{E}[N(s)] \n",
    "&= \\sum_{n=0}^{\\infty} n \\cdot P(N(s) = n) \\\\\n",
    "&= 0 + \\sum_{n=1}^{\\infty} n \\cdot P(N(s) = n) \\\\\n",
    "&= \\sum_{n=1}^{\\infty} n e^{-\\lambda s} \\frac{(\\lambda s)^n}{n!} \\\\\n",
    "&= \\sum_{n=1}^{\\infty} e^{-\\lambda s} \\frac{(\\lambda s)^n}{(n-1)!} \\\\\n",
    "&= (\\lambda s) (e^{-\\lambda s}) \\sum_{n=1}^{\\infty} \\frac{(\\lambda s)^{n-1}}{(n-1)!} \\\\\n",
    "&= (\\lambda s) (e^{-\\lambda s}) (e^{\\lambda s}) \\\\\n",
    "&= \\lambda s\n",
    "\\end{align}\n",
    "$\n",
    "\n",
    "$\n",
    "\\begin{align}\n",
    "\\quad \\mathbb{E}[\\left ( N(s) \\right ) \\left ( N(s) - 1 \\right )]\n",
    "&= \\sum_{n=0}^{\\infty} n(n-1) \\cdot P(N(s) = n) \\\\\n",
    "&= 0 + 0 + \\sum_{n=2}^{\\infty} n(n-1) e^{-\\lambda s} \\frac{(\\lambda s)^n}{n!} \\\\\n",
    "&= \\sum_{n=2}^{\\infty} e^{-\\lambda s} \\frac{(\\lambda s)^n}{(n-2)!} \\\\\n",
    "&= (\\lambda s)^2 (e^{-\\lambda s}) \\sum_{n=2}^{\\infty} \\frac{(\\lambda s)^{n-2}}{(n-2)!} \\\\\n",
    "&= (\\lambda s)^2 (e^{-\\lambda s}) (e^{\\lambda s}) \\\\\n",
    "&= (\\lambda s)^2\n",
    "\\end{align}\n",
    "$\n",
    "\n",
    "$\n",
    "\\begin{align}\n",
    "\\quad var[N(s)]\n",
    "&= \\mathbb{E}[(N(s))^2] - \\left ( \\mathbb{E}[N(s)] \\right )^2 \\\\\n",
    "&= \\mathbb{E}[(N(s))^2] - \\mathbb{E}[N(s)] + \\mathbb{E}[N(s)] - \\left ( \\mathbb{E}[N(s)] \\right )^2 \\\\\n",
    "&= \\mathbb{E}[(N(s))^2 - N(s)] + \\mathbb{E}[N(s)] - \\left ( \\mathbb{E}[N(s)] \\right )^2 \\\\\n",
    "&= \\mathbb{E}[(N(s))(N(s) - 1)] + \\mathbb{E}[N(s)] - \\left ( \\mathbb{E}[N(s)] \\right )^2 \\\\\n",
    "&= (\\lambda s)^2 + \\lambda s - (\\lambda s)^2 \\\\\n",
    "&= \\lambda s\n",
    "\\end{align}\n",
    "$\n",
    "\n",
    "where we used the Taylor expansion $e^x = \\sum_{n=0}^{\\infty} \\frac{x^n}{n!}$ in the infinite sums."
   ]
  },
  {
   "cell_type": "markdown",
   "metadata": {},
   "source": [
    "### Non-homogeneous Poisson process"
   ]
  },
  {
   "cell_type": "code",
   "execution_count": null,
   "metadata": {},
   "outputs": [],
   "source": []
  }
 ],
 "metadata": {
  "kernelspec": {
   "display_name": "Python 3",
   "language": "python",
   "name": "python3"
  },
  "language_info": {
   "codemirror_mode": {
    "name": "ipython",
    "version": 3
   },
   "file_extension": ".py",
   "mimetype": "text/x-python",
   "name": "python",
   "nbconvert_exporter": "python",
   "pygments_lexer": "ipython3",
   "version": "3.6.8"
  }
 },
 "nbformat": 4,
 "nbformat_minor": 2
}
