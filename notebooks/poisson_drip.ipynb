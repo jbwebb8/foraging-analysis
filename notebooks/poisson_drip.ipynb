{
 "cells": [
  {
   "cell_type": "markdown",
   "metadata": {},
   "source": [
    "# Markov Drip Process"
   ]
  },
  {
   "cell_type": "markdown",
   "metadata": {},
   "source": [
    "## Initial setup"
   ]
  },
  {
   "cell_type": "code",
   "execution_count": 117,
   "metadata": {},
   "outputs": [],
   "source": [
    "import numpy as np\n",
    "import math\n",
    "import matplotlib.pyplot as plt"
   ]
  },
  {
   "cell_type": "markdown",
   "metadata": {},
   "source": [
    "## Poisson distribution"
   ]
  },
  {
   "cell_type": "markdown",
   "metadata": {},
   "source": [
    "### Create handling class"
   ]
  },
  {
   "cell_type": "code",
   "execution_count": 119,
   "metadata": {},
   "outputs": [],
   "source": [
    "class Poisson:\n",
    "    \n",
    "    def __init__(self, lam):\n",
    "        self.lam = lam\n",
    "        \n",
    "    def cdf(self, t):\n",
    "        return 1.0 - np.exp(-self.lam*t)\n",
    "    \n",
    "    def inv_cdf(self, F):\n",
    "        return -(1.0/self.lam)*np.log(1.0 - F)\n",
    "        \n",
    "    def times(self, n=1, t_max=np.inf):\n",
    "        \"\"\"Returns inter-event interval times sampled from Poisson distribution.\"\"\"\n",
    "        F = np.random.uniform(size=n)\n",
    "        t = self.inv_cdf(F)\n",
    "        t[t > t_max] = t_max\n",
    "        return t\n",
    "    \n",
    "    def events(self, s):\n",
    "        \"\"\"Returns number of events N(s) in interval [0, s) sampled from Poisson distribution.\"\"\"\n",
    "        # Guess number of events as Poisson mean\n",
    "        mean = self.lam*s\n",
    "        chunk = max(int(mean), 1)\n",
    "        T = np.cumsum(self.times(chunk))\n",
    "        idx = np.searchsorted(T, s, side='left')\n",
    "        n = idx\n",
    "        \n",
    "        # Continue sampling time until time s reached\n",
    "        while (idx == T.size):\n",
    "            T = np.cumsum(self.times(chunk)) + T[-1]\n",
    "            idx = np.searchsorted(T, s, side='left')\n",
    "            n += idx\n",
    "        \n",
    "        return n\n",
    "    \n",
    "    def P(self, n, s):\n",
    "        \"\"\"Returns probability of N(s) = n\"\"\" \n",
    "        return np.exp(-self.lam*s)*(np.power(self.lam*s, n))/self._factorial(n)\n",
    "    \n",
    "    def _factorial(self, n):\n",
    "        if isinstance(n, np.ndarray):\n",
    "            fact = np.zeros(n.size)\n",
    "            for i, n_i in enumerate(n):\n",
    "                fact[i] = np.prod(np.arange(max(n_i, 1))+1)\n",
    "        else:\n",
    "            fact = np.prod(np.arange(max(n_i, 1))+1)\n",
    "    \n",
    "        return fact"
   ]
  },
  {
   "cell_type": "markdown",
   "metadata": {},
   "source": [
    "### Test inter-event time sampling\n",
    "This should be drawn from an exponential distribution: $t \\sim \\lambda e^{-\\lambda t}$"
   ]
  },
  {
   "cell_type": "code",
   "execution_count": 107,
   "metadata": {},
   "outputs": [
    {
     "name": "stdout",
     "output_type": "stream",
     "text": [
      "Expected mean: 2.00000e+00\n",
      "Actual mean: 2.03639e+00\n",
      "Expected std: 2.00000e+00\n",
      "Actual std: 2.03890e+00\n"
     ]
    },
    {
     "data": {
      "image/png": "[encoded data removed]",
      "text/plain": [
       "<Figure size 432x288 with 1 Axes>"
      ]
     },
     "metadata": {
      "needs_background": "light"
     },
     "output_type": "display_data"
    }
   ],
   "source": [
    "# Settings\n",
    "lam = 0.5\n",
    "poisson = Poisson(lam)\n",
    "\n",
    "# Get inter-event times\n",
    "sample = poisson.times(10000)\n",
    "\n",
    "# Print results\n",
    "print('Expected mean: %.5e' % (1.0/lam))\n",
    "print('Actual mean: %.5e' % (np.mean(sample)))\n",
    "print('Expected std: %.5e' % (1.0/lam))\n",
    "print('Actual std: %.5e' % (np.std(sample)))\n",
    "\n",
    "# Plot results\n",
    "plt.hist(sample, bins=25);"
   ]
  },
  {
   "cell_type": "markdown",
   "metadata": {},
   "source": [
    "### Test event sampling\n",
    "This should be drawn from the Poisson distribution: $N(s) \\sim Poisson(\\lambda s)$"
   ]
  },
  {
   "cell_type": "code",
   "execution_count": 110,
   "metadata": {
    "scrolled": true
   },
   "outputs": [
    {
     "name": "stdout",
     "output_type": "stream",
     "text": [
      "Expected mean: 10.00000\n",
      "Actual mean: 10.15500\n",
      "Expected std: 3.16228\n",
      "Actual std: 3.09338\n"
     ]
    },
    {
     "data": {
      "image/png": "[encoded data removed]",
      "text/plain": [
       "<Figure size 432x288 with 2 Axes>"
      ]
     },
     "metadata": {
      "needs_background": "light"
     },
     "output_type": "display_data"
    }
   ],
   "source": [
    "# Settings\n",
    "lam = 2.0\n",
    "s = 5.0\n",
    "iters = 1000\n",
    "\n",
    "# Create distribution\n",
    "poisson = Poisson(lam)\n",
    "\n",
    "# Sample number of events\n",
    "sample = np.zeros(iters, dtype=np.int64)\n",
    "for i in range(iters):\n",
    "    sample[i] = poisson.events(s)\n",
    "    \n",
    "# Get probabilities of events samples\n",
    "n_range = np.arange(2*lam*s)\n",
    "probs = poisson.P(n=n_range, s=s)\n",
    "\n",
    "# Print results\n",
    "print('Expected mean: %.5f' % (lam*s))\n",
    "print('Actual mean: %.5f' % (np.mean(sample)))\n",
    "print('Expected std: %.5f' % ((lam*s)**0.5))\n",
    "print('Actual std: %.5f' % (np.std(sample)))\n",
    "\n",
    "# Plot results\n",
    "fig, ax = plt.subplots()\n",
    "ax.hist(sample, bins=np.arange(np.max(sample))+0.5, color='C1', alpha=0.5)\n",
    "ax2 = ax.twinx()\n",
    "ax2.plot(n_range, probs, color='C7', alpha=0.75);"
   ]
  },
  {
   "cell_type": "markdown",
   "metadata": {},
   "source": [
    "## Patch modeling"
   ]
  },
  {
   "cell_type": "markdown",
   "metadata": {},
   "source": [
    "### Model single patch"
   ]
  },
  {
   "cell_type": "code",
   "execution_count": 124,
   "metadata": {},
   "outputs": [],
   "source": [
    "# Settings\n",
    "lam_0 = 1.0 # initial Poisson rate\n",
    "tau = 30.0 # rate of decay of lambda\n",
    "V_drip = 2.0 # drip volume (uL)\n",
    "V_reward = 2.0 # reward volume (uL)\n",
    "num_events = 100 # number of iterations\n",
    "t = 0 # current time (s)\n",
    "\n",
    "# Create initial distribution\n",
    "lam = lam_0\n",
    "mouse = Poisson(1.0/5.0)\n",
    "drip = Poisson(lam_0)\n",
    "bucket = 0.0 # volume in bucket\n",
    "\n",
    "# Placeholders (for debugging)\n",
    "t_drip = [] # drip times\n",
    "t_lick = [] # lick times\n",
    "t_event = np.zeros(num_events)\n",
    "V_bucket = np.zeros(num_events) # bucket volume\n",
    "\n",
    "t, t_next_drip, t_next_lick = 0, 0, 0\n",
    "for i in range(num_events):\n",
    "    # Increment timer to next event\n",
    "    t = min(t_next_drip, t_next_lick)\n",
    "    \n",
    "    # Update Poisson params\n",
    "    drip.lam = lam_0 * np.exp(-t/tau)\n",
    "    \n",
    "    # Handle drip event\n",
    "    if (t == t_next_drip):\n",
    "        bucket += V_drip\n",
    "        t_drip.append(t)\n",
    "        t_next_drip = t + drip.times(t_max=100.0)\n",
    "    \n",
    "    # Handle lick event\n",
    "    if (t == t_next_lick):\n",
    "        if (bucket >= V_reward):\n",
    "            bucket -= V_reward\n",
    "        t_lick.append(t)\n",
    "        t_next_lick = t + mouse.times(t_max=100.0)\n",
    "        \n",
    "    # Log bucket volume\n",
    "    t_event[i] = t\n",
    "    V_bucket[i] = bucket\n",
    "    \n",
    "# Create arrays\n",
    "t_drip = np.array(t_drip)\n",
    "t_lick = np.array(t_lick)"
   ]
  },
  {
   "cell_type": "code",
   "execution_count": 131,
   "metadata": {},
   "outputs": [
    {
     "data": {
      "image/png": "[encoded data removed]",
      "text/plain": [
       "<Figure size 720x504 with 1 Axes>"
      ]
     },
     "metadata": {
      "needs_background": "light"
     },
     "output_type": "display_data"
    }
   ],
   "source": [
    "# Plot results\n",
    "fig, ax = plt.subplots(figsize=(10, 7))\n",
    "ax.plot(t_event, V_bucket, label='bucket volume')\n",
    "ymin = ax.get_ylim()[0] - 0.1*np.diff(ax.get_ylim())\n",
    "ymax = ax.get_ylim()[0]\n",
    "ax.vlines(t_drip, ymin=ymin, ymax=ymax, color='green', alpha=0.5, label='drips')\n",
    "ax.vlines(t_lick, ymin=ymin, ymax=ymax, color='black', alpha=0.5, label='licks')\n",
    "ax.set_xlabel('time (s)')\n",
    "ax.set_ylabel('volume (uL)')\n",
    "ax.legend();"
   ]
  },
  {
   "cell_type": "markdown",
   "metadata": {},
   "source": [
    "### Search parameter space"
   ]
  },
  {
   "cell_type": "code",
   "execution_count": null,
   "metadata": {},
   "outputs": [],
   "source": []
  },
  {
   "cell_type": "code",
   "execution_count": null,
   "metadata": {},
   "outputs": [],
   "source": [
    "_"
   ]
  }
 ],
 "metadata": {
  "kernelspec": {
   "display_name": "Python 3",
   "language": "python",
   "name": "python3"
  },
  "language_info": {
   "codemirror_mode": {
    "name": "ipython",
    "version": 3
   },
   "file_extension": ".py",
   "mimetype": "text/x-python",
   "name": "python",
   "nbconvert_exporter": "python",
   "pygments_lexer": "ipython3",
   "version": "3.6.8"
  }
 },
 "nbformat": 4,
 "nbformat_minor": 2
}
