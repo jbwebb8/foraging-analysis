{
 "cells": [
  {
   "cell_type": "markdown",
   "metadata": {},
   "source": [
    "# Intan analysis\n",
    "This notebook will explore the basic pipeline for processing and analyzing neural data recorded using the Intan system."
   ]
  },
  {
   "cell_type": "markdown",
   "metadata": {},
   "source": [
    "## Initial setup"
   ]
  },
  {
   "cell_type": "code",
   "execution_count": 13,
   "metadata": {},
   "outputs": [],
   "source": [
    "import numpy as np\n",
    "import matplotlib.pyplot as plt\n",
    "import os, re, glob\n",
    "\n",
    "import struct"
   ]
  },
  {
   "cell_type": "markdown",
   "metadata": {},
   "source": [
    "## Preprocess data"
   ]
  },
  {
   "cell_type": "code",
   "execution_count": 2,
   "metadata": {},
   "outputs": [],
   "source": [
    "raw_dir = 'Y:/James/data/Ephys/02-04-19/intan/j6z4_d25_190204_162928/'"
   ]
  },
  {
   "cell_type": "code",
   "execution_count": 10,
   "metadata": {},
   "outputs": [],
   "source": [
    "# Placeholders\n",
    "raw_files = []\n",
    "ch_ids = []\n",
    "\n",
    "# Find raw files and associated channel IDs\n",
    "regexp = re.compile(r'amp-A-[0-9]+')\n",
    "for f in os.listdir(raw_dir):\n",
    "    if regexp.search(f):\n",
    "        raw_files.append(f)\n",
    "        ch_ids.append(int(f[6:9]))\n",
    "\n",
    "# Sort if necessary\n",
    "ch_ids = np.asarray(ch_ids)\n",
    "sort_idx = np.argsort(ch_ids)\n",
    "ch_ids = ch_ids[sort_idx]\n",
    "raw_files = [raw_files[i] for i in sort_idx]"
   ]
  },
  {
   "cell_type": "code",
   "execution_count": 3,
   "metadata": {},
   "outputs": [],
   "source": [
    "raw_files = sorted(glob.glob(raw_dir + 'amp*.dat'))\n",
    "ch_ids = np.array([int(f[6:9]) for f in raw_files])"
   ]
  },
  {
   "cell_type": "code",
   "execution_count": 4,
   "metadata": {},
   "outputs": [
    {
     "data": {
      "text/plain": [
       "['Y:/James/data/Ephys/02-04-19/intan/j6z4_d25_190204_162928\\\\amp-A-000.dat',\n",
       " 'Y:/James/data/Ephys/02-04-19/intan/j6z4_d25_190204_162928\\\\amp-A-001.dat',\n",
       " 'Y:/James/data/Ephys/02-04-19/intan/j6z4_d25_190204_162928\\\\amp-A-002.dat',\n",
       " 'Y:/James/data/Ephys/02-04-19/intan/j6z4_d25_190204_162928\\\\amp-A-003.dat',\n",
       " 'Y:/James/data/Ephys/02-04-19/intan/j6z4_d25_190204_162928\\\\amp-A-004.dat',\n",
       " 'Y:/James/data/Ephys/02-04-19/intan/j6z4_d25_190204_162928\\\\amp-A-005.dat',\n",
       " 'Y:/James/data/Ephys/02-04-19/intan/j6z4_d25_190204_162928\\\\amp-A-006.dat',\n",
       " 'Y:/James/data/Ephys/02-04-19/intan/j6z4_d25_190204_162928\\\\amp-A-007.dat',\n",
       " 'Y:/James/data/Ephys/02-04-19/intan/j6z4_d25_190204_162928\\\\amp-A-008.dat',\n",
       " 'Y:/James/data/Ephys/02-04-19/intan/j6z4_d25_190204_162928\\\\amp-A-009.dat',\n",
       " 'Y:/James/data/Ephys/02-04-19/intan/j6z4_d25_190204_162928\\\\amp-A-010.dat',\n",
       " 'Y:/James/data/Ephys/02-04-19/intan/j6z4_d25_190204_162928\\\\amp-A-011.dat',\n",
       " 'Y:/James/data/Ephys/02-04-19/intan/j6z4_d25_190204_162928\\\\amp-A-012.dat',\n",
       " 'Y:/James/data/Ephys/02-04-19/intan/j6z4_d25_190204_162928\\\\amp-A-013.dat',\n",
       " 'Y:/James/data/Ephys/02-04-19/intan/j6z4_d25_190204_162928\\\\amp-A-014.dat',\n",
       " 'Y:/James/data/Ephys/02-04-19/intan/j6z4_d25_190204_162928\\\\amp-A-015.dat',\n",
       " 'Y:/James/data/Ephys/02-04-19/intan/j6z4_d25_190204_162928\\\\amp-A-016.dat',\n",
       " 'Y:/James/data/Ephys/02-04-19/intan/j6z4_d25_190204_162928\\\\amp-A-017.dat',\n",
       " 'Y:/James/data/Ephys/02-04-19/intan/j6z4_d25_190204_162928\\\\amp-A-018.dat',\n",
       " 'Y:/James/data/Ephys/02-04-19/intan/j6z4_d25_190204_162928\\\\amp-A-019.dat',\n",
       " 'Y:/James/data/Ephys/02-04-19/intan/j6z4_d25_190204_162928\\\\amp-A-020.dat',\n",
       " 'Y:/James/data/Ephys/02-04-19/intan/j6z4_d25_190204_162928\\\\amp-A-021.dat',\n",
       " 'Y:/James/data/Ephys/02-04-19/intan/j6z4_d25_190204_162928\\\\amp-A-022.dat',\n",
       " 'Y:/James/data/Ephys/02-04-19/intan/j6z4_d25_190204_162928\\\\amp-A-023.dat',\n",
       " 'Y:/James/data/Ephys/02-04-19/intan/j6z4_d25_190204_162928\\\\amp-A-024.dat',\n",
       " 'Y:/James/data/Ephys/02-04-19/intan/j6z4_d25_190204_162928\\\\amp-A-025.dat',\n",
       " 'Y:/James/data/Ephys/02-04-19/intan/j6z4_d25_190204_162928\\\\amp-A-026.dat',\n",
       " 'Y:/James/data/Ephys/02-04-19/intan/j6z4_d25_190204_162928\\\\amp-A-027.dat',\n",
       " 'Y:/James/data/Ephys/02-04-19/intan/j6z4_d25_190204_162928\\\\amp-A-028.dat',\n",
       " 'Y:/James/data/Ephys/02-04-19/intan/j6z4_d25_190204_162928\\\\amp-A-029.dat',\n",
       " 'Y:/James/data/Ephys/02-04-19/intan/j6z4_d25_190204_162928\\\\amp-A-030.dat',\n",
       " 'Y:/James/data/Ephys/02-04-19/intan/j6z4_d25_190204_162928\\\\amp-A-031.dat',\n",
       " 'Y:/James/data/Ephys/02-04-19/intan/j6z4_d25_190204_162928\\\\amp-A-032.dat',\n",
       " 'Y:/James/data/Ephys/02-04-19/intan/j6z4_d25_190204_162928\\\\amp-A-033.dat',\n",
       " 'Y:/James/data/Ephys/02-04-19/intan/j6z4_d25_190204_162928\\\\amp-A-034.dat',\n",
       " 'Y:/James/data/Ephys/02-04-19/intan/j6z4_d25_190204_162928\\\\amp-A-035.dat',\n",
       " 'Y:/James/data/Ephys/02-04-19/intan/j6z4_d25_190204_162928\\\\amp-A-036.dat',\n",
       " 'Y:/James/data/Ephys/02-04-19/intan/j6z4_d25_190204_162928\\\\amp-A-037.dat',\n",
       " 'Y:/James/data/Ephys/02-04-19/intan/j6z4_d25_190204_162928\\\\amp-A-038.dat',\n",
       " 'Y:/James/data/Ephys/02-04-19/intan/j6z4_d25_190204_162928\\\\amp-A-039.dat',\n",
       " 'Y:/James/data/Ephys/02-04-19/intan/j6z4_d25_190204_162928\\\\amp-A-040.dat',\n",
       " 'Y:/James/data/Ephys/02-04-19/intan/j6z4_d25_190204_162928\\\\amp-A-041.dat',\n",
       " 'Y:/James/data/Ephys/02-04-19/intan/j6z4_d25_190204_162928\\\\amp-A-042.dat',\n",
       " 'Y:/James/data/Ephys/02-04-19/intan/j6z4_d25_190204_162928\\\\amp-A-043.dat',\n",
       " 'Y:/James/data/Ephys/02-04-19/intan/j6z4_d25_190204_162928\\\\amp-A-044.dat',\n",
       " 'Y:/James/data/Ephys/02-04-19/intan/j6z4_d25_190204_162928\\\\amp-A-045.dat',\n",
       " 'Y:/James/data/Ephys/02-04-19/intan/j6z4_d25_190204_162928\\\\amp-A-046.dat',\n",
       " 'Y:/James/data/Ephys/02-04-19/intan/j6z4_d25_190204_162928\\\\amp-A-047.dat',\n",
       " 'Y:/James/data/Ephys/02-04-19/intan/j6z4_d25_190204_162928\\\\amp-A-048.dat',\n",
       " 'Y:/James/data/Ephys/02-04-19/intan/j6z4_d25_190204_162928\\\\amp-A-049.dat',\n",
       " 'Y:/James/data/Ephys/02-04-19/intan/j6z4_d25_190204_162928\\\\amp-A-050.dat',\n",
       " 'Y:/James/data/Ephys/02-04-19/intan/j6z4_d25_190204_162928\\\\amp-A-051.dat',\n",
       " 'Y:/James/data/Ephys/02-04-19/intan/j6z4_d25_190204_162928\\\\amp-A-052.dat',\n",
       " 'Y:/James/data/Ephys/02-04-19/intan/j6z4_d25_190204_162928\\\\amp-A-053.dat',\n",
       " 'Y:/James/data/Ephys/02-04-19/intan/j6z4_d25_190204_162928\\\\amp-A-054.dat',\n",
       " 'Y:/James/data/Ephys/02-04-19/intan/j6z4_d25_190204_162928\\\\amp-A-055.dat',\n",
       " 'Y:/James/data/Ephys/02-04-19/intan/j6z4_d25_190204_162928\\\\amp-A-056.dat',\n",
       " 'Y:/James/data/Ephys/02-04-19/intan/j6z4_d25_190204_162928\\\\amp-A-057.dat',\n",
       " 'Y:/James/data/Ephys/02-04-19/intan/j6z4_d25_190204_162928\\\\amp-A-058.dat',\n",
       " 'Y:/James/data/Ephys/02-04-19/intan/j6z4_d25_190204_162928\\\\amp-A-059.dat',\n",
       " 'Y:/James/data/Ephys/02-04-19/intan/j6z4_d25_190204_162928\\\\amp-A-060.dat',\n",
       " 'Y:/James/data/Ephys/02-04-19/intan/j6z4_d25_190204_162928\\\\amp-A-061.dat',\n",
       " 'Y:/James/data/Ephys/02-04-19/intan/j6z4_d25_190204_162928\\\\amp-A-062.dat',\n",
       " 'Y:/James/data/Ephys/02-04-19/intan/j6z4_d25_190204_162928\\\\amp-A-063.dat',\n",
       " 'Y:/James/data/Ephys/02-04-19/intan/j6z4_d25_190204_162928\\\\amp-A-064.dat',\n",
       " 'Y:/James/data/Ephys/02-04-19/intan/j6z4_d25_190204_162928\\\\amp-A-065.dat',\n",
       " 'Y:/James/data/Ephys/02-04-19/intan/j6z4_d25_190204_162928\\\\amp-A-066.dat',\n",
       " 'Y:/James/data/Ephys/02-04-19/intan/j6z4_d25_190204_162928\\\\amp-A-067.dat',\n",
       " 'Y:/James/data/Ephys/02-04-19/intan/j6z4_d25_190204_162928\\\\amp-A-068.dat',\n",
       " 'Y:/James/data/Ephys/02-04-19/intan/j6z4_d25_190204_162928\\\\amp-A-069.dat',\n",
       " 'Y:/James/data/Ephys/02-04-19/intan/j6z4_d25_190204_162928\\\\amp-A-070.dat',\n",
       " 'Y:/James/data/Ephys/02-04-19/intan/j6z4_d25_190204_162928\\\\amp-A-071.dat',\n",
       " 'Y:/James/data/Ephys/02-04-19/intan/j6z4_d25_190204_162928\\\\amp-A-072.dat',\n",
       " 'Y:/James/data/Ephys/02-04-19/intan/j6z4_d25_190204_162928\\\\amp-A-073.dat',\n",
       " 'Y:/James/data/Ephys/02-04-19/intan/j6z4_d25_190204_162928\\\\amp-A-074.dat',\n",
       " 'Y:/James/data/Ephys/02-04-19/intan/j6z4_d25_190204_162928\\\\amp-A-075.dat',\n",
       " 'Y:/James/data/Ephys/02-04-19/intan/j6z4_d25_190204_162928\\\\amp-A-076.dat',\n",
       " 'Y:/James/data/Ephys/02-04-19/intan/j6z4_d25_190204_162928\\\\amp-A-077.dat',\n",
       " 'Y:/James/data/Ephys/02-04-19/intan/j6z4_d25_190204_162928\\\\amp-A-078.dat',\n",
       " 'Y:/James/data/Ephys/02-04-19/intan/j6z4_d25_190204_162928\\\\amp-A-079.dat',\n",
       " 'Y:/James/data/Ephys/02-04-19/intan/j6z4_d25_190204_162928\\\\amp-A-080.dat',\n",
       " 'Y:/James/data/Ephys/02-04-19/intan/j6z4_d25_190204_162928\\\\amp-A-081.dat',\n",
       " 'Y:/James/data/Ephys/02-04-19/intan/j6z4_d25_190204_162928\\\\amp-A-082.dat',\n",
       " 'Y:/James/data/Ephys/02-04-19/intan/j6z4_d25_190204_162928\\\\amp-A-083.dat',\n",
       " 'Y:/James/data/Ephys/02-04-19/intan/j6z4_d25_190204_162928\\\\amp-A-084.dat',\n",
       " 'Y:/James/data/Ephys/02-04-19/intan/j6z4_d25_190204_162928\\\\amp-A-085.dat',\n",
       " 'Y:/James/data/Ephys/02-04-19/intan/j6z4_d25_190204_162928\\\\amp-A-086.dat',\n",
       " 'Y:/James/data/Ephys/02-04-19/intan/j6z4_d25_190204_162928\\\\amp-A-087.dat',\n",
       " 'Y:/James/data/Ephys/02-04-19/intan/j6z4_d25_190204_162928\\\\amp-A-088.dat',\n",
       " 'Y:/James/data/Ephys/02-04-19/intan/j6z4_d25_190204_162928\\\\amp-A-089.dat',\n",
       " 'Y:/James/data/Ephys/02-04-19/intan/j6z4_d25_190204_162928\\\\amp-A-090.dat',\n",
       " 'Y:/James/data/Ephys/02-04-19/intan/j6z4_d25_190204_162928\\\\amp-A-091.dat',\n",
       " 'Y:/James/data/Ephys/02-04-19/intan/j6z4_d25_190204_162928\\\\amp-A-092.dat',\n",
       " 'Y:/James/data/Ephys/02-04-19/intan/j6z4_d25_190204_162928\\\\amp-A-093.dat',\n",
       " 'Y:/James/data/Ephys/02-04-19/intan/j6z4_d25_190204_162928\\\\amp-A-094.dat',\n",
       " 'Y:/James/data/Ephys/02-04-19/intan/j6z4_d25_190204_162928\\\\amp-A-095.dat',\n",
       " 'Y:/James/data/Ephys/02-04-19/intan/j6z4_d25_190204_162928\\\\amp-A-096.dat',\n",
       " 'Y:/James/data/Ephys/02-04-19/intan/j6z4_d25_190204_162928\\\\amp-A-097.dat',\n",
       " 'Y:/James/data/Ephys/02-04-19/intan/j6z4_d25_190204_162928\\\\amp-A-098.dat',\n",
       " 'Y:/James/data/Ephys/02-04-19/intan/j6z4_d25_190204_162928\\\\amp-A-099.dat',\n",
       " 'Y:/James/data/Ephys/02-04-19/intan/j6z4_d25_190204_162928\\\\amp-A-100.dat',\n",
       " 'Y:/James/data/Ephys/02-04-19/intan/j6z4_d25_190204_162928\\\\amp-A-101.dat',\n",
       " 'Y:/James/data/Ephys/02-04-19/intan/j6z4_d25_190204_162928\\\\amp-A-102.dat',\n",
       " 'Y:/James/data/Ephys/02-04-19/intan/j6z4_d25_190204_162928\\\\amp-A-103.dat',\n",
       " 'Y:/James/data/Ephys/02-04-19/intan/j6z4_d25_190204_162928\\\\amp-A-104.dat',\n",
       " 'Y:/James/data/Ephys/02-04-19/intan/j6z4_d25_190204_162928\\\\amp-A-105.dat',\n",
       " 'Y:/James/data/Ephys/02-04-19/intan/j6z4_d25_190204_162928\\\\amp-A-106.dat',\n",
       " 'Y:/James/data/Ephys/02-04-19/intan/j6z4_d25_190204_162928\\\\amp-A-107.dat',\n",
       " 'Y:/James/data/Ephys/02-04-19/intan/j6z4_d25_190204_162928\\\\amp-A-108.dat',\n",
       " 'Y:/James/data/Ephys/02-04-19/intan/j6z4_d25_190204_162928\\\\amp-A-109.dat',\n",
       " 'Y:/James/data/Ephys/02-04-19/intan/j6z4_d25_190204_162928\\\\amp-A-110.dat',\n",
       " 'Y:/James/data/Ephys/02-04-19/intan/j6z4_d25_190204_162928\\\\amp-A-111.dat',\n",
       " 'Y:/James/data/Ephys/02-04-19/intan/j6z4_d25_190204_162928\\\\amp-A-112.dat',\n",
       " 'Y:/James/data/Ephys/02-04-19/intan/j6z4_d25_190204_162928\\\\amp-A-113.dat',\n",
       " 'Y:/James/data/Ephys/02-04-19/intan/j6z4_d25_190204_162928\\\\amp-A-114.dat',\n",
       " 'Y:/James/data/Ephys/02-04-19/intan/j6z4_d25_190204_162928\\\\amp-A-115.dat',\n",
       " 'Y:/James/data/Ephys/02-04-19/intan/j6z4_d25_190204_162928\\\\amp-A-116.dat',\n",
       " 'Y:/James/data/Ephys/02-04-19/intan/j6z4_d25_190204_162928\\\\amp-A-117.dat',\n",
       " 'Y:/James/data/Ephys/02-04-19/intan/j6z4_d25_190204_162928\\\\amp-A-118.dat',\n",
       " 'Y:/James/data/Ephys/02-04-19/intan/j6z4_d25_190204_162928\\\\amp-A-119.dat',\n",
       " 'Y:/James/data/Ephys/02-04-19/intan/j6z4_d25_190204_162928\\\\amp-A-120.dat',\n",
       " 'Y:/James/data/Ephys/02-04-19/intan/j6z4_d25_190204_162928\\\\amp-A-121.dat',\n",
       " 'Y:/James/data/Ephys/02-04-19/intan/j6z4_d25_190204_162928\\\\amp-A-122.dat',\n",
       " 'Y:/James/data/Ephys/02-04-19/intan/j6z4_d25_190204_162928\\\\amp-A-123.dat',\n",
       " 'Y:/James/data/Ephys/02-04-19/intan/j6z4_d25_190204_162928\\\\amp-A-124.dat',\n",
       " 'Y:/James/data/Ephys/02-04-19/intan/j6z4_d25_190204_162928\\\\amp-A-125.dat',\n",
       " 'Y:/James/data/Ephys/02-04-19/intan/j6z4_d25_190204_162928\\\\amp-A-126.dat',\n",
       " 'Y:/James/data/Ephys/02-04-19/intan/j6z4_d25_190204_162928\\\\amp-A-127.dat']"
      ]
     },
     "execution_count": 4,
     "metadata": {},
     "output_type": "execute_result"
    }
   ],
   "source": [
    "raw_files"
   ]
  },
  {
   "cell_type": "code",
   "execution_count": 5,
   "metadata": {},
   "outputs": [],
   "source": [
    "# Channels\n",
    "shank_1 = np.arange(64, dtype=np.int16)\n",
    "shank_2 = np.arange(64, 128, dtype=np.int16)\n",
    "\n",
    "raw_files = [raw_files[i] for i in shank_1]\n",
    "ch_id = ch_id[shank_1]"
   ]
  },
  {
   "cell_type": "code",
   "execution_count": 6,
   "metadata": {
    "scrolled": true
   },
   "outputs": [
    {
     "name": "stdout",
     "output_type": "stream",
     "text": [
      "Processing file 1 of 64...\n",
      "Processing file 2 of 64...\n",
      "Processing file 3 of 64...\n",
      "Processing file 4 of 64...\n",
      "Processing file 5 of 64...\n",
      "Processing file 6 of 64...\n",
      "Processing file 7 of 64...\n",
      "Processing file 8 of 64...\n",
      "Processing file 9 of 64...\n",
      "Processing file 10 of 64...\n",
      "Processing file 11 of 64...\n",
      "Processing file 12 of 64...\n",
      "Processing file 13 of 64...\n",
      "Processing file 14 of 64...\n",
      "Processing file 15 of 64...\n",
      "Processing file 16 of 64...\n",
      "Processing file 17 of 64...\n",
      "Processing file 18 of 64...\n",
      "Processing file 19 of 64...\n",
      "Processing file 20 of 64...\n",
      "Processing file 21 of 64...\n",
      "Processing file 22 of 64...\n",
      "Processing file 23 of 64...\n",
      "Processing file 24 of 64...\n",
      "Processing file 25 of 64...\n",
      "Processing file 26 of 64...\n",
      "Processing file 27 of 64...\n",
      "Processing file 28 of 64...\n",
      "Processing file 29 of 64...\n",
      "Processing file 30 of 64...\n",
      "Processing file 31 of 64...\n",
      "Processing file 32 of 64...\n",
      "Processing file 33 of 64...\n",
      "Processing file 34 of 64...\n",
      "Processing file 35 of 64...\n",
      "Processing file 36 of 64...\n",
      "Processing file 37 of 64...\n",
      "Processing file 38 of 64...\n",
      "Processing file 39 of 64...\n",
      "Processing file 40 of 64...\n",
      "Processing file 41 of 64...\n",
      "Processing file 42 of 64...\n",
      "Processing file 43 of 64...\n",
      "Processing file 44 of 64...\n",
      "Processing file 45 of 64...\n",
      "Processing file 46 of 64...\n",
      "Processing file 47 of 64...\n",
      "Processing file 48 of 64...\n",
      "Processing file 49 of 64...\n",
      "Processing file 50 of 64...\n",
      "Processing file 51 of 64...\n",
      "Processing file 52 of 64...\n",
      "Processing file 53 of 64...\n",
      "Processing file 54 of 64...\n",
      "Processing file 55 of 64...\n",
      "Processing file 56 of 64...\n",
      "Processing file 57 of 64...\n",
      "Processing file 58 of 64...\n",
      "Processing file 59 of 64...\n",
      "Processing file 60 of 64...\n",
      "Processing file 61 of 64...\n",
      "Processing file 62 of 64...\n",
      "Processing file 63 of 64...\n",
      "Processing file 64 of 64...\n",
      "(64, 116875200)\n",
      "total recording time for this session in mins:   64.93066666666667\n"
     ]
    }
   ],
   "source": [
    "# Load data in numpy array\n",
    "X = []\n",
    "for i in range(len(raw_files)):\n",
    "    print('Processing file %02d of %02d...' % (i+1, len(raw_files)))\n",
    "    X.append(np.fromfile(raw_files[i], dtype=np.int16))\n",
    "    \n",
    "X = np.array(X)\n",
    "print(X.shape)\n",
    "print('total recording time for this session in mins:  ', X.shape[1]/30000/60)"
   ]
  },
  {
   "cell_type": "code",
   "execution_count": 9,
   "metadata": {},
   "outputs": [
    {
     "name": "stdout",
     "output_type": "stream",
     "text": [
      "D:\\james\\packages\\pyms\\mlpy\n"
     ]
    }
   ],
   "source": [
    "cd D:/james/packages/pyms/mlpy\n",
    "\n",
    "from mdaio import writemda16i,writemda32\n",
    "\n",
    "# save data in your desire directory\n",
    "writemda16i(X,'D:/james/ms-examples/02-04-19/raw1.mda')"
   ]
  },
  {
   "cell_type": "markdown",
   "metadata": {},
   "source": [
    "## Spike sorting\n",
    "Once the initial `.mda` file is converted from the raw `.dat` files, spikes can be extracted and sorted using `MountainSort`. The final product will be another `.mda` file that contains the firing data."
   ]
  },
  {
   "cell_type": "markdown",
   "metadata": {},
   "source": [
    "## Spike analysis"
   ]
  },
  {
   "cell_type": "code",
   "execution_count": 35,
   "metadata": {},
   "outputs": [],
   "source": [
    "# Load firing data\n",
    "data_dir = 'Y:/James/data/Ephys/02-04-19/intan/'\n",
    "filename = 'firings1-r-1'"
   ]
  },
  {
   "cell_type": "code",
   "execution_count": 28,
   "metadata": {},
   "outputs": [],
   "source": [
    "with open(filename + '.mda', 'rb') as f:\n",
    "    # First 32 bits = signed integer indicating data type\n",
    "    code, = struct.unpack('i', f.read(4))\n",
    "    \n",
    "    # Second 32 bits: number of bytes per entry\n",
    "    entry_size, = struct.unpack('i', f.read(4))\n",
    "    \n",
    "    # Third 32 bits: number of dimensions\n",
    "    n_dims, = struct.unpack('i', f.read(4))\n",
    "    \n",
    "    # Next 32*n_dims bits: size of each dimension\n",
    "    shape = np.zeros(n_dims, dtype=np.int32)\n",
    "    for i in range(n_dims):\n",
    "        shape[i], = struct.unpack('i', f.read(4))\n",
    "    \n",
    "    # Get number of entries\n",
    "    N = np.prod(shape).astype(np.int32)\n",
    "    X = np.zeros([N])\n",
    "    \n",
    "    # Determine data type from code\n",
    "    if code == -7: # double\n",
    "        n_bits = 8\n",
    "        format_str = 'd'\n",
    "        \n",
    "    # Iterate through all entries\n",
    "    for i in range(N):\n",
    "        X[i], = struct.unpack(format_str, f.read(n_bits))\n",
    "    \n",
    "    # Reshape in Fortran order\n",
    "    X = X.reshape(shape, order='F') # column-first"
   ]
  },
  {
   "cell_type": "code",
   "execution_count": 33,
   "metadata": {},
   "outputs": [],
   "source": [
    "# Save as numpy array\n",
    "np.save(data_dir + filename + '.npy', X)"
   ]
  },
  {
   "cell_type": "markdown",
   "metadata": {},
   "source": [
    "The shape of the spike array is `[3, n_spikes]`. The rows are as follows:\n",
    "- `channel_id`: the channel number associated with the spike\n",
    "- `t_spike`: the sample number associated with the spike\n",
    "- `spike_id`: the unit number associated with the spike"
   ]
  },
  {
   "cell_type": "code",
   "execution_count": 36,
   "metadata": {},
   "outputs": [],
   "source": [
    "# Load numpy array\n",
    "spikes = np.load(data_dir + filename + '.npy')"
   ]
  },
  {
   "cell_type": "code",
   "execution_count": 37,
   "metadata": {},
   "outputs": [
    {
     "data": {
      "text/plain": [
       "(3, 4000479)"
      ]
     },
     "execution_count": 37,
     "metadata": {},
     "output_type": "execute_result"
    }
   ],
   "source": []
  },
  {
   "cell_type": "markdown",
   "metadata": {},
   "source": [
    "## Temp code for syncing Intan and Labview"
   ]
  },
  {
   "cell_type": "code",
   "execution_count": null,
   "metadata": {},
   "outputs": [],
   "source": []
  }
 ],
 "metadata": {
  "kernelspec": {
   "display_name": "Python 3",
   "language": "python",
   "name": "python3"
  },
  "language_info": {
   "codemirror_mode": {
    "name": "ipython",
    "version": 3
   },
   "file_extension": ".py",
   "mimetype": "text/x-python",
   "name": "python",
   "nbconvert_exporter": "python",
   "pygments_lexer": "ipython3",
   "version": "3.6.5"
  }
 },
 "nbformat": 4,
 "nbformat_minor": 2
}
