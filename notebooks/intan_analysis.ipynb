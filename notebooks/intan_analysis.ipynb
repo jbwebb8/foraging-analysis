{
 "cells": [
  {
   "cell_type": "markdown",
   "metadata": {},
   "source": [
    "# Intan analysis\n",
    "This notebook will explore the basic pipeline for processing and analyzing neural data recorded using the Intan system."
   ]
  },
  {
   "cell_type": "markdown",
   "metadata": {},
   "source": [
    "## Initial setup"
   ]
  },
  {
   "cell_type": "code",
   "execution_count": 1,
   "metadata": {},
   "outputs": [],
   "source": [
    "import numpy as np\n",
    "import matplotlib.pyplot as plt\n",
    "import os, re, glob"
   ]
  },
  {
   "cell_type": "markdown",
   "metadata": {},
   "source": [
    "## Preprocess data"
   ]
  },
  {
   "cell_type": "code",
   "execution_count": 2,
   "metadata": {},
   "outputs": [],
   "source": [
    "raw_dir = 'Y:/James/data/Ephys/02-04-19/intan/j6z4_d25_190204_162928/'"
   ]
  },
  {
   "cell_type": "code",
   "execution_count": 10,
   "metadata": {},
   "outputs": [],
   "source": [
    "# Placeholders\n",
    "raw_files = []\n",
    "ch_id = []\n",
    "\n",
    "# Find raw files and associated channel IDs\n",
    "regexp = re.compile(r'amp-A-[0-9]+')\n",
    "for f in os.listdir(raw_dir):\n",
    "    if regexp.search(f):\n",
    "        raw_files.append(f)\n",
    "        ch_id.append(int(f[6:9]))\n",
    "\n",
    "# Sort if necessary\n",
    "ch_id = np.asarray(ch_id)\n",
    "sort_idx = np.argsort(ch_id)\n",
    "ch_id = ch_id[sort_idx]\n",
    "raw_files = [raw_files[i] for i in sort_idx]"
   ]
  },
  {
   "cell_type": "code",
   "execution_count": 3,
   "metadata": {},
   "outputs": [],
   "source": [
    "raw_files = sorted(glob.glob(raw_dir + 'amp*.dat'))"
   ]
  },
  {
   "cell_type": "code",
   "execution_count": 4,
   "metadata": {},
   "outputs": [
    {
     "data": {
      "text/plain": [
       "['Y:/James/data/Ephys/02-04-19/intan/j6z4_d25_190204_162928\\\\amp-A-000.dat',\n",
       " 'Y:/James/data/Ephys/02-04-19/intan/j6z4_d25_190204_162928\\\\amp-A-001.dat',\n",
       " 'Y:/James/data/Ephys/02-04-19/intan/j6z4_d25_190204_162928\\\\amp-A-002.dat',\n",
       " 'Y:/James/data/Ephys/02-04-19/intan/j6z4_d25_190204_162928\\\\amp-A-003.dat',\n",
       " 'Y:/James/data/Ephys/02-04-19/intan/j6z4_d25_190204_162928\\\\amp-A-004.dat',\n",
       " 'Y:/James/data/Ephys/02-04-19/intan/j6z4_d25_190204_162928\\\\amp-A-005.dat',\n",
       " 'Y:/James/data/Ephys/02-04-19/intan/j6z4_d25_190204_162928\\\\amp-A-006.dat',\n",
       " 'Y:/James/data/Ephys/02-04-19/intan/j6z4_d25_190204_162928\\\\amp-A-007.dat',\n",
       " 'Y:/James/data/Ephys/02-04-19/intan/j6z4_d25_190204_162928\\\\amp-A-008.dat',\n",
       " 'Y:/James/data/Ephys/02-04-19/intan/j6z4_d25_190204_162928\\\\amp-A-009.dat',\n",
       " 'Y:/James/data/Ephys/02-04-19/intan/j6z4_d25_190204_162928\\\\amp-A-010.dat',\n",
       " 'Y:/James/data/Ephys/02-04-19/intan/j6z4_d25_190204_162928\\\\amp-A-011.dat',\n",
       " 'Y:/James/data/Ephys/02-04-19/intan/j6z4_d25_190204_162928\\\\amp-A-012.dat',\n",
       " 'Y:/James/data/Ephys/02-04-19/intan/j6z4_d25_190204_162928\\\\amp-A-013.dat',\n",
       " 'Y:/James/data/Ephys/02-04-19/intan/j6z4_d25_190204_162928\\\\amp-A-014.dat',\n",
       " 'Y:/James/data/Ephys/02-04-19/intan/j6z4_d25_190204_162928\\\\amp-A-015.dat',\n",
       " 'Y:/James/data/Ephys/02-04-19/intan/j6z4_d25_190204_162928\\\\amp-A-016.dat',\n",
       " 'Y:/James/data/Ephys/02-04-19/intan/j6z4_d25_190204_162928\\\\amp-A-017.dat',\n",
       " 'Y:/James/data/Ephys/02-04-19/intan/j6z4_d25_190204_162928\\\\amp-A-018.dat',\n",
       " 'Y:/James/data/Ephys/02-04-19/intan/j6z4_d25_190204_162928\\\\amp-A-019.dat',\n",
       " 'Y:/James/data/Ephys/02-04-19/intan/j6z4_d25_190204_162928\\\\amp-A-020.dat',\n",
       " 'Y:/James/data/Ephys/02-04-19/intan/j6z4_d25_190204_162928\\\\amp-A-021.dat',\n",
       " 'Y:/James/data/Ephys/02-04-19/intan/j6z4_d25_190204_162928\\\\amp-A-022.dat',\n",
       " 'Y:/James/data/Ephys/02-04-19/intan/j6z4_d25_190204_162928\\\\amp-A-023.dat',\n",
       " 'Y:/James/data/Ephys/02-04-19/intan/j6z4_d25_190204_162928\\\\amp-A-024.dat',\n",
       " 'Y:/James/data/Ephys/02-04-19/intan/j6z4_d25_190204_162928\\\\amp-A-025.dat',\n",
       " 'Y:/James/data/Ephys/02-04-19/intan/j6z4_d25_190204_162928\\\\amp-A-026.dat',\n",
       " 'Y:/James/data/Ephys/02-04-19/intan/j6z4_d25_190204_162928\\\\amp-A-027.dat',\n",
       " 'Y:/James/data/Ephys/02-04-19/intan/j6z4_d25_190204_162928\\\\amp-A-028.dat',\n",
       " 'Y:/James/data/Ephys/02-04-19/intan/j6z4_d25_190204_162928\\\\amp-A-029.dat',\n",
       " 'Y:/James/data/Ephys/02-04-19/intan/j6z4_d25_190204_162928\\\\amp-A-030.dat',\n",
       " 'Y:/James/data/Ephys/02-04-19/intan/j6z4_d25_190204_162928\\\\amp-A-031.dat',\n",
       " 'Y:/James/data/Ephys/02-04-19/intan/j6z4_d25_190204_162928\\\\amp-A-032.dat',\n",
       " 'Y:/James/data/Ephys/02-04-19/intan/j6z4_d25_190204_162928\\\\amp-A-033.dat',\n",
       " 'Y:/James/data/Ephys/02-04-19/intan/j6z4_d25_190204_162928\\\\amp-A-034.dat',\n",
       " 'Y:/James/data/Ephys/02-04-19/intan/j6z4_d25_190204_162928\\\\amp-A-035.dat',\n",
       " 'Y:/James/data/Ephys/02-04-19/intan/j6z4_d25_190204_162928\\\\amp-A-036.dat',\n",
       " 'Y:/James/data/Ephys/02-04-19/intan/j6z4_d25_190204_162928\\\\amp-A-037.dat',\n",
       " 'Y:/James/data/Ephys/02-04-19/intan/j6z4_d25_190204_162928\\\\amp-A-038.dat',\n",
       " 'Y:/James/data/Ephys/02-04-19/intan/j6z4_d25_190204_162928\\\\amp-A-039.dat',\n",
       " 'Y:/James/data/Ephys/02-04-19/intan/j6z4_d25_190204_162928\\\\amp-A-040.dat',\n",
       " 'Y:/James/data/Ephys/02-04-19/intan/j6z4_d25_190204_162928\\\\amp-A-041.dat',\n",
       " 'Y:/James/data/Ephys/02-04-19/intan/j6z4_d25_190204_162928\\\\amp-A-042.dat',\n",
       " 'Y:/James/data/Ephys/02-04-19/intan/j6z4_d25_190204_162928\\\\amp-A-043.dat',\n",
       " 'Y:/James/data/Ephys/02-04-19/intan/j6z4_d25_190204_162928\\\\amp-A-044.dat',\n",
       " 'Y:/James/data/Ephys/02-04-19/intan/j6z4_d25_190204_162928\\\\amp-A-045.dat',\n",
       " 'Y:/James/data/Ephys/02-04-19/intan/j6z4_d25_190204_162928\\\\amp-A-046.dat',\n",
       " 'Y:/James/data/Ephys/02-04-19/intan/j6z4_d25_190204_162928\\\\amp-A-047.dat',\n",
       " 'Y:/James/data/Ephys/02-04-19/intan/j6z4_d25_190204_162928\\\\amp-A-048.dat',\n",
       " 'Y:/James/data/Ephys/02-04-19/intan/j6z4_d25_190204_162928\\\\amp-A-049.dat',\n",
       " 'Y:/James/data/Ephys/02-04-19/intan/j6z4_d25_190204_162928\\\\amp-A-050.dat',\n",
       " 'Y:/James/data/Ephys/02-04-19/intan/j6z4_d25_190204_162928\\\\amp-A-051.dat',\n",
       " 'Y:/James/data/Ephys/02-04-19/intan/j6z4_d25_190204_162928\\\\amp-A-052.dat',\n",
       " 'Y:/James/data/Ephys/02-04-19/intan/j6z4_d25_190204_162928\\\\amp-A-053.dat',\n",
       " 'Y:/James/data/Ephys/02-04-19/intan/j6z4_d25_190204_162928\\\\amp-A-054.dat',\n",
       " 'Y:/James/data/Ephys/02-04-19/intan/j6z4_d25_190204_162928\\\\amp-A-055.dat',\n",
       " 'Y:/James/data/Ephys/02-04-19/intan/j6z4_d25_190204_162928\\\\amp-A-056.dat',\n",
       " 'Y:/James/data/Ephys/02-04-19/intan/j6z4_d25_190204_162928\\\\amp-A-057.dat',\n",
       " 'Y:/James/data/Ephys/02-04-19/intan/j6z4_d25_190204_162928\\\\amp-A-058.dat',\n",
       " 'Y:/James/data/Ephys/02-04-19/intan/j6z4_d25_190204_162928\\\\amp-A-059.dat',\n",
       " 'Y:/James/data/Ephys/02-04-19/intan/j6z4_d25_190204_162928\\\\amp-A-060.dat',\n",
       " 'Y:/James/data/Ephys/02-04-19/intan/j6z4_d25_190204_162928\\\\amp-A-061.dat',\n",
       " 'Y:/James/data/Ephys/02-04-19/intan/j6z4_d25_190204_162928\\\\amp-A-062.dat',\n",
       " 'Y:/James/data/Ephys/02-04-19/intan/j6z4_d25_190204_162928\\\\amp-A-063.dat',\n",
       " 'Y:/James/data/Ephys/02-04-19/intan/j6z4_d25_190204_162928\\\\amp-A-064.dat',\n",
       " 'Y:/James/data/Ephys/02-04-19/intan/j6z4_d25_190204_162928\\\\amp-A-065.dat',\n",
       " 'Y:/James/data/Ephys/02-04-19/intan/j6z4_d25_190204_162928\\\\amp-A-066.dat',\n",
       " 'Y:/James/data/Ephys/02-04-19/intan/j6z4_d25_190204_162928\\\\amp-A-067.dat',\n",
       " 'Y:/James/data/Ephys/02-04-19/intan/j6z4_d25_190204_162928\\\\amp-A-068.dat',\n",
       " 'Y:/James/data/Ephys/02-04-19/intan/j6z4_d25_190204_162928\\\\amp-A-069.dat',\n",
       " 'Y:/James/data/Ephys/02-04-19/intan/j6z4_d25_190204_162928\\\\amp-A-070.dat',\n",
       " 'Y:/James/data/Ephys/02-04-19/intan/j6z4_d25_190204_162928\\\\amp-A-071.dat',\n",
       " 'Y:/James/data/Ephys/02-04-19/intan/j6z4_d25_190204_162928\\\\amp-A-072.dat',\n",
       " 'Y:/James/data/Ephys/02-04-19/intan/j6z4_d25_190204_162928\\\\amp-A-073.dat',\n",
       " 'Y:/James/data/Ephys/02-04-19/intan/j6z4_d25_190204_162928\\\\amp-A-074.dat',\n",
       " 'Y:/James/data/Ephys/02-04-19/intan/j6z4_d25_190204_162928\\\\amp-A-075.dat',\n",
       " 'Y:/James/data/Ephys/02-04-19/intan/j6z4_d25_190204_162928\\\\amp-A-076.dat',\n",
       " 'Y:/James/data/Ephys/02-04-19/intan/j6z4_d25_190204_162928\\\\amp-A-077.dat',\n",
       " 'Y:/James/data/Ephys/02-04-19/intan/j6z4_d25_190204_162928\\\\amp-A-078.dat',\n",
       " 'Y:/James/data/Ephys/02-04-19/intan/j6z4_d25_190204_162928\\\\amp-A-079.dat',\n",
       " 'Y:/James/data/Ephys/02-04-19/intan/j6z4_d25_190204_162928\\\\amp-A-080.dat',\n",
       " 'Y:/James/data/Ephys/02-04-19/intan/j6z4_d25_190204_162928\\\\amp-A-081.dat',\n",
       " 'Y:/James/data/Ephys/02-04-19/intan/j6z4_d25_190204_162928\\\\amp-A-082.dat',\n",
       " 'Y:/James/data/Ephys/02-04-19/intan/j6z4_d25_190204_162928\\\\amp-A-083.dat',\n",
       " 'Y:/James/data/Ephys/02-04-19/intan/j6z4_d25_190204_162928\\\\amp-A-084.dat',\n",
       " 'Y:/James/data/Ephys/02-04-19/intan/j6z4_d25_190204_162928\\\\amp-A-085.dat',\n",
       " 'Y:/James/data/Ephys/02-04-19/intan/j6z4_d25_190204_162928\\\\amp-A-086.dat',\n",
       " 'Y:/James/data/Ephys/02-04-19/intan/j6z4_d25_190204_162928\\\\amp-A-087.dat',\n",
       " 'Y:/James/data/Ephys/02-04-19/intan/j6z4_d25_190204_162928\\\\amp-A-088.dat',\n",
       " 'Y:/James/data/Ephys/02-04-19/intan/j6z4_d25_190204_162928\\\\amp-A-089.dat',\n",
       " 'Y:/James/data/Ephys/02-04-19/intan/j6z4_d25_190204_162928\\\\amp-A-090.dat',\n",
       " 'Y:/James/data/Ephys/02-04-19/intan/j6z4_d25_190204_162928\\\\amp-A-091.dat',\n",
       " 'Y:/James/data/Ephys/02-04-19/intan/j6z4_d25_190204_162928\\\\amp-A-092.dat',\n",
       " 'Y:/James/data/Ephys/02-04-19/intan/j6z4_d25_190204_162928\\\\amp-A-093.dat',\n",
       " 'Y:/James/data/Ephys/02-04-19/intan/j6z4_d25_190204_162928\\\\amp-A-094.dat',\n",
       " 'Y:/James/data/Ephys/02-04-19/intan/j6z4_d25_190204_162928\\\\amp-A-095.dat',\n",
       " 'Y:/James/data/Ephys/02-04-19/intan/j6z4_d25_190204_162928\\\\amp-A-096.dat',\n",
       " 'Y:/James/data/Ephys/02-04-19/intan/j6z4_d25_190204_162928\\\\amp-A-097.dat',\n",
       " 'Y:/James/data/Ephys/02-04-19/intan/j6z4_d25_190204_162928\\\\amp-A-098.dat',\n",
       " 'Y:/James/data/Ephys/02-04-19/intan/j6z4_d25_190204_162928\\\\amp-A-099.dat',\n",
       " 'Y:/James/data/Ephys/02-04-19/intan/j6z4_d25_190204_162928\\\\amp-A-100.dat',\n",
       " 'Y:/James/data/Ephys/02-04-19/intan/j6z4_d25_190204_162928\\\\amp-A-101.dat',\n",
       " 'Y:/James/data/Ephys/02-04-19/intan/j6z4_d25_190204_162928\\\\amp-A-102.dat',\n",
       " 'Y:/James/data/Ephys/02-04-19/intan/j6z4_d25_190204_162928\\\\amp-A-103.dat',\n",
       " 'Y:/James/data/Ephys/02-04-19/intan/j6z4_d25_190204_162928\\\\amp-A-104.dat',\n",
       " 'Y:/James/data/Ephys/02-04-19/intan/j6z4_d25_190204_162928\\\\amp-A-105.dat',\n",
       " 'Y:/James/data/Ephys/02-04-19/intan/j6z4_d25_190204_162928\\\\amp-A-106.dat',\n",
       " 'Y:/James/data/Ephys/02-04-19/intan/j6z4_d25_190204_162928\\\\amp-A-107.dat',\n",
       " 'Y:/James/data/Ephys/02-04-19/intan/j6z4_d25_190204_162928\\\\amp-A-108.dat',\n",
       " 'Y:/James/data/Ephys/02-04-19/intan/j6z4_d25_190204_162928\\\\amp-A-109.dat',\n",
       " 'Y:/James/data/Ephys/02-04-19/intan/j6z4_d25_190204_162928\\\\amp-A-110.dat',\n",
       " 'Y:/James/data/Ephys/02-04-19/intan/j6z4_d25_190204_162928\\\\amp-A-111.dat',\n",
       " 'Y:/James/data/Ephys/02-04-19/intan/j6z4_d25_190204_162928\\\\amp-A-112.dat',\n",
       " 'Y:/James/data/Ephys/02-04-19/intan/j6z4_d25_190204_162928\\\\amp-A-113.dat',\n",
       " 'Y:/James/data/Ephys/02-04-19/intan/j6z4_d25_190204_162928\\\\amp-A-114.dat',\n",
       " 'Y:/James/data/Ephys/02-04-19/intan/j6z4_d25_190204_162928\\\\amp-A-115.dat',\n",
       " 'Y:/James/data/Ephys/02-04-19/intan/j6z4_d25_190204_162928\\\\amp-A-116.dat',\n",
       " 'Y:/James/data/Ephys/02-04-19/intan/j6z4_d25_190204_162928\\\\amp-A-117.dat',\n",
       " 'Y:/James/data/Ephys/02-04-19/intan/j6z4_d25_190204_162928\\\\amp-A-118.dat',\n",
       " 'Y:/James/data/Ephys/02-04-19/intan/j6z4_d25_190204_162928\\\\amp-A-119.dat',\n",
       " 'Y:/James/data/Ephys/02-04-19/intan/j6z4_d25_190204_162928\\\\amp-A-120.dat',\n",
       " 'Y:/James/data/Ephys/02-04-19/intan/j6z4_d25_190204_162928\\\\amp-A-121.dat',\n",
       " 'Y:/James/data/Ephys/02-04-19/intan/j6z4_d25_190204_162928\\\\amp-A-122.dat',\n",
       " 'Y:/James/data/Ephys/02-04-19/intan/j6z4_d25_190204_162928\\\\amp-A-123.dat',\n",
       " 'Y:/James/data/Ephys/02-04-19/intan/j6z4_d25_190204_162928\\\\amp-A-124.dat',\n",
       " 'Y:/James/data/Ephys/02-04-19/intan/j6z4_d25_190204_162928\\\\amp-A-125.dat',\n",
       " 'Y:/James/data/Ephys/02-04-19/intan/j6z4_d25_190204_162928\\\\amp-A-126.dat',\n",
       " 'Y:/James/data/Ephys/02-04-19/intan/j6z4_d25_190204_162928\\\\amp-A-127.dat']"
      ]
     },
     "execution_count": 4,
     "metadata": {},
     "output_type": "execute_result"
    }
   ],
   "source": [
    "#for i, f in enumerate(raw_files):\n",
    "#    raw_files[i] = str([c if c != '\\\\' else '/' for c in f ])\n",
    "raw_files"
   ]
  },
  {
   "cell_type": "code",
   "execution_count": 6,
   "metadata": {},
   "outputs": [],
   "source": [
    "# Channels\n",
    "shank_1 = np.arange(32, dtype=np.int16)\n",
    "shank_2 = np.arange(64, 128, dtype=np.int16)\n",
    "\n",
    "raw_files = [raw_files[i] for i in shank_1]\n",
    "#ch_id = ch_id[shank_1]"
   ]
  },
  {
   "cell_type": "code",
   "execution_count": 8,
   "metadata": {},
   "outputs": [
    {
     "name": "stdout",
     "output_type": "stream",
     "text": [
      "(32, 116875200)\n",
      "total recording time for this session in mins:   64.93066666666667\n"
     ]
    }
   ],
   "source": [
    "## make .mda file for each shank, shank 1 is the left most one on the electrode map picture.\n",
    "X = []\n",
    "for i in range(len(raw_files)):    ### for all the channels in your filelist, make the Mx N array\n",
    "    print('Processing file %d of %d...' % (i+1, len(raw_files)))\n",
    "    temp = np.fromfile(raw_files[i], dtype=np.int16)\n",
    "    X.append(temp)\n",
    "    \n",
    "X = np.array(X)\n",
    "print(X.shape)\n",
    "print('total recording time for this session in mins:  ', len(X[0])/30000/60)"
   ]
  },
  {
   "cell_type": "code",
   "execution_count": 9,
   "metadata": {},
   "outputs": [
    {
     "name": "stdout",
     "output_type": "stream",
     "text": [
      "D:\\james\\packages\\pyms\\mlpy\n"
     ]
    }
   ],
   "source": [
    "cd D:/james/packages/pyms/mlpy"
   ]
  },
  {
   "cell_type": "code",
   "execution_count": 10,
   "metadata": {},
   "outputs": [],
   "source": [
    "from mdaio import writemda16i,writemda32"
   ]
  },
  {
   "cell_type": "code",
   "execution_count": 11,
   "metadata": {},
   "outputs": [
    {
     "data": {
      "text/plain": [
       "True"
      ]
     },
     "execution_count": 11,
     "metadata": {},
     "output_type": "execute_result"
    }
   ],
   "source": [
    "# save data in your desire directory\n",
    "writemda16i(X,'D:/james/ms-examples/02-04-19/raw1.mda')\n",
    "#print(X[:,good_start:good_end].shape)"
   ]
  },
  {
   "cell_type": "code",
   "execution_count": 32,
   "metadata": {},
   "outputs": [
    {
     "data": {
      "text/plain": [
       "-671446917"
      ]
     },
     "execution_count": 32,
     "metadata": {},
     "output_type": "execute_result"
    }
   ],
   "source": []
  },
  {
   "cell_type": "code",
   "execution_count": 37,
   "metadata": {},
   "outputs": [
    {
     "data": {
      "text/plain": [
       "[<matplotlib.lines.Line2D at 0x1f201b03fd0>]"
      ]
     },
     "execution_count": 37,
     "metadata": {},
     "output_type": "execute_result"
    },
    {
     "data": {
      "image/png": "[encoded data removed]",
      "text/plain": [
       "<Figure size 432x288 with 1 Axes>"
      ]
     },
     "metadata": {},
     "output_type": "display_data"
    }
   ],
   "source": [
    "plt.plot(X[0, -1000000:])"
   ]
  },
  {
   "cell_type": "code",
   "execution_count": null,
   "metadata": {},
   "outputs": [],
   "source": []
  }
 ],
 "metadata": {
  "kernelspec": {
   "display_name": "Python 3",
   "language": "python",
   "name": "python3"
  },
  "language_info": {
   "codemirror_mode": {
    "name": "ipython",
    "version": 3
   },
   "file_extension": ".py",
   "mimetype": "text/x-python",
   "name": "python",
   "nbconvert_exporter": "python",
   "pygments_lexer": "ipython3",
   "version": "3.6.5"
  }
 },
 "nbformat": 4,
 "nbformat_minor": 2
}
