{
 "cells": [
  {
   "cell_type": "markdown",
   "metadata": {},
   "source": [
    "# Marginal Value Theorem\n",
    "A place to test experimental parameters for foraging behavior in line with the marginal value theorem."
   ]
  },
  {
   "cell_type": "markdown",
   "metadata": {},
   "source": [
    "## Initial setup"
   ]
  },
  {
   "cell_type": "code",
   "execution_count": 11,
   "metadata": {},
   "outputs": [],
   "source": [
    "import sys\n",
    "sys.path.insert(0, '../python')"
   ]
  },
  {
   "cell_type": "code",
   "execution_count": 50,
   "metadata": {},
   "outputs": [],
   "source": [
    "import numpy as np\n",
    "from helper import get_optimal_values\n",
    "import matplotlib.pyplot as plt"
   ]
  },
  {
   "cell_type": "code",
   "execution_count": 39,
   "metadata": {},
   "outputs": [
    {
     "data": {
      "text/plain": [
       "<module 'helper' from '../python\\\\helper.py'>"
      ]
     },
     "execution_count": 39,
     "metadata": {},
     "output_type": "execute_result"
    }
   ],
   "source": [
    "from importlib import reload\n",
    "reload(helper)"
   ]
  },
  {
   "cell_type": "markdown",
   "metadata": {},
   "source": [
    "## Fit environment to behavior\n",
    "Given preferred patch residence and travel times, what is the environment in which such behavior is optimal?"
   ]
  },
  {
   "cell_type": "code",
   "execution_count": 65,
   "metadata": {},
   "outputs": [
    {
     "name": "stderr",
     "output_type": "stream",
     "text": [
      "C:\\Users\\Mcginley_Lab\\Anaconda3\\lib\\site-packages\\scipy\\optimize\\nonlin.py:1000: RuntimeWarning: invalid value encountered in true_divide\n",
      "  d = v / vdot(df, v)\n"
     ]
    }
   ],
   "source": [
    "# Behavior parameters (fixed)\n",
    "t_p = 30\n",
    "t_t = 10\n",
    "\n",
    "# Environment parameters (varied)\n",
    "R_0 = np.array([0.0])\n",
    "r_0 = np.arange(10, 501, 50)/100\n",
    "tau = np.zeros([R_0.shape[0], r_0.shape[0]])\n",
    "r_opt = np.zeros([R_0.shape[0], r_0.shape[0]])\n",
    "for i, R_0_ in enumerate(R_0):\n",
    "    tau[i, :], r_opt[i, :] = get_optimal_values(t_p=t_p, t_t=t_t, R_0=R_0_, r_0=r_0)"
   ]
  },
  {
   "cell_type": "code",
   "execution_count": 66,
   "metadata": {},
   "outputs": [
    {
     "data": {
      "text/plain": [
       "Text(0.5,1,'t_p=30, t_t=10, R_0=0')"
      ]
     },
     "execution_count": 66,
     "metadata": {},
     "output_type": "execute_result"
    },
    {
     "data": {
      "image/png": "[encoded data removed]",
      "text/plain": [
       "<Figure size 432x288 with 1 Axes>"
      ]
     },
     "metadata": {},
     "output_type": "display_data"
    }
   ],
   "source": [
    "plt.plot(r_0, tau[0, :])\n",
    "plt.xlabel('r_0 (uL/s)')\n",
    "plt.ylabel('tau (s)')\n",
    "plt.title('t_p=%d, t_t=%d, R_0=%d' % (t_p, t_t, R_0[0]))"
   ]
  },
  {
   "cell_type": "code",
   "execution_count": 53,
   "metadata": {},
   "outputs": [
    {
     "data": {
      "text/plain": [
       "array([1.])"
      ]
     },
     "execution_count": 53,
     "metadata": {},
     "output_type": "execute_result"
    }
   ],
   "source": [
    "r_0"
   ]
  },
  {
   "cell_type": "code",
   "execution_count": null,
   "metadata": {},
   "outputs": [],
   "source": [
    "# Remember, R_0 / r_0 must be ≥ t_t, otherwise R_0 will default to zero!"
   ]
  },
  {
   "cell_type": "markdown",
   "metadata": {},
   "source": [
    "## Fit behavior to environment\n",
    "Given environmental parameters, what is optimum behavior?"
   ]
  },
  {
   "cell_type": "code",
   "execution_count": 15,
   "metadata": {},
   "outputs": [],
   "source": [
    "[t_p, t_t, r_0] = [np.asarray(kwarg) if kwarg is not None else None for kwarg in [t_p, t_t, r_0]]"
   ]
  },
  {
   "cell_type": "code",
   "execution_count": 4,
   "metadata": {},
   "outputs": [
    {
     "data": {
      "text/plain": [
       "5"
      ]
     },
     "execution_count": 4,
     "metadata": {},
     "output_type": "execute_result"
    }
   ],
   "source": [
    "max([0.0, 1.0, 5])"
   ]
  },
  {
   "cell_type": "code",
   "execution_count": null,
   "metadata": {},
   "outputs": [],
   "source": []
  }
 ],
 "metadata": {
  "kernelspec": {
   "display_name": "Python 3",
   "language": "python",
   "name": "python3"
  },
  "language_info": {
   "codemirror_mode": {
    "name": "ipython",
    "version": 3
   },
   "file_extension": ".py",
   "mimetype": "text/x-python",
   "name": "python",
   "nbconvert_exporter": "python",
   "pygments_lexer": "ipython3",
   "version": "3.6.5"
  }
 },
 "nbformat": 4,
 "nbformat_minor": 2
}
