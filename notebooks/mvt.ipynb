{
 "cells": [
  {
   "cell_type": "markdown",
   "metadata": {},
   "source": [
    "# Marginal Value Theorem\n",
    "A place to test experimental parameters for foraging behavior in line with the marginal value theorem."
   ]
  },
  {
   "cell_type": "markdown",
   "metadata": {},
   "source": [
    "## Initial setup"
   ]
  },
  {
   "cell_type": "markdown",
   "metadata": {},
   "source": [
    "### Imports"
   ]
  },
  {
   "cell_type": "code",
   "execution_count": null,
   "metadata": {},
   "outputs": [],
   "source": [
    "# Numerical tools\n",
    "import numpy as np\n",
    "from scipy.optimize import broyden1\n",
    "\n",
    "# Plotting tools\n",
    "from ipywidgets import interact, interactive, fixed, interact_manual\n",
    "import ipywidgets as widgets\n",
    "%matplotlib widget\n",
    "import matplotlib.pyplot as plt\n",
    "\n",
    "# General tools\n",
    "import copy\n",
    "import warnings\n",
    "warnings.filterwarnings('ignore', 'DeprecationWarning')\n",
    "\n",
    "# Custom modules\n",
    "import sys\n",
    "sys.path.insert(0, '../python')\n",
    "import helper"
   ]
  },
  {
   "cell_type": "markdown",
   "metadata": {},
   "source": [
    "### Selection widget"
   ]
  },
  {
   "cell_type": "code",
   "execution_count": null,
   "metadata": {},
   "outputs": [],
   "source": [
    "class SelectionSlider(widgets.SelectionSlider):\n",
    "    \n",
    "    def __init__(self, *args, return_index=True, transform=None, **kwargs):\n",
    "        super().__init__(*args, **kwargs)\n",
    "        self.return_index = return_index\n",
    "        if transform is not None:\n",
    "            self.transform = transform\n",
    "        else:\n",
    "            self.transform = lambda x: x\n",
    "        \n",
    "    def get_interact_value(self):\n",
    "        if self.return_index:\n",
    "            return (self.transform(self.value), self.index)\n",
    "        else:\n",
    "            return self.transform(self.value)"
   ]
  },
  {
   "cell_type": "code",
   "execution_count": null,
   "metadata": {},
   "outputs": [],
   "source": [
    "default_kwargs = dict(\n",
    "    disabled=False,\n",
    "    continuous_update=False,\n",
    "    orientation='horizontal',\n",
    "    readout=True,\n",
    "    return_index=True,\n",
    "    transform=None\n",
    ")"
   ]
  },
  {
   "cell_type": "markdown",
   "metadata": {
    "toc-hr-collapsed": true,
    "toc-nb-collapsed": true
   },
   "source": [
    "## Theory"
   ]
  },
  {
   "cell_type": "markdown",
   "metadata": {
    "toc-hr-collapsed": true,
    "toc-nb-collapsed": true
   },
   "source": [
    "### Optimal residence time\n",
    "Let's define a patchy environment as consisting of the following parameters:\n",
    "\n",
    "$\\quad T_{p}^{(i)}$: time spent harvesting reward in patch $i$  \n",
    "$\\quad T_{t}^{(i)}$: time spent traveling to patch $i$  \n",
    "$\\quad R^{(i)}(t^{(i)})$: amount of reward harvested in patch $i$ after time $t^{(i)}$ (i.e. the *gain function*)  \n",
    "$\\quad s$: search cost per unit time\n",
    "\n",
    "The average reward intake $\\bar{E}$ across the environment is:\n",
    "\n",
    "$\n",
    "\\begin{align}\n",
    "\\quad \\bar{E} \n",
    "&= \\frac{\\text{total energy}}{\\text{total time}} \\\\\n",
    "&= \\frac{\\sum_{i} \\left ( R^{(i)}(T_{p}^{(i)}) - sT_{t}^{(i)} \\right )}{\\sum_{i} \\left ( T_{t}^{(i)} + T_{p}^{(i)} \\right )} \\\\\n",
    "&= \\frac{R^{(i)}(T_{p}^{(i)}) - sT_{t}^{(i)} + k^{(i)}}{T_{t}^{(i)} + T_{p}^{(i)} + c^{(i)}}\n",
    "\\end{align}\n",
    "$\n",
    "\n",
    "where $k^{(i)} = \\sum_{j \\neq i} \\left ( R^{(j)}(T_{p}^{(j)}) - sT_{t}^{(j)} \\right )$ and $c^{(i)} = \\sum_{j \\neq i} \\left ( T_{t}^{(j)} + T_{p}^{(j)} \\right )$. Given that $\\mathbf{T}_p = \\{T_{p}^{(i)}\\}$ are the only behavioral parameters in this model, we can define an optimal behavior vector as $\\mathbf{T}_p^* = \\{T_{p}^{*(i)}\\}$. To solve for optimal behavior, we differentiate $\\bar{E}$ with respect to $\\mathbf{T}_p$:\n",
    "\n",
    "$\n",
    "\\begin{align}\n",
    "\\quad \\dfrac{\\partial \\bar{E}}{\\partial \\mathbf{T}_p} \n",
    "&= \\left \\{ \\begin{matrix} ... & \\dfrac{\\partial \\bar{E}}{\\partial \\mathbf{T}_p^{(i)}} & ... \\end{matrix} \\right \\} \\\\\n",
    "&= \\left \\{ \\begin{matrix} ... & \\dfrac{\\partial}{\\partial \\mathbf{T}_p^{(i)}} \\left ( \\dfrac{R^{(i)}(T_{p}^{(i)}) - sT_{t}^{(i)} + k^{(i)}}{T_{t}^{(i)} + T_{p}^{(i)} + c^{(i)}} \\right ) & ... \\end{matrix} \\right \\} \\\\\n",
    "&= \\left \\{ \\begin{matrix} ... & \\dfrac{r^{(i)}(T_{p}^{(i)}) \\left ( T_{t}^{(i)} + T_{p}^{(i)} + c^{(i)} \\right ) - \\left ( R^{(i)}(T_{p}^{(i)}) - sT_{t}^{(i)} + k^{(i)} \\right )}{\\left ( T_{t}^{(i)} + T_{p}^{(i)} + c^{(i)} \\right )^2} & ... \\end{matrix} \\right \\}\n",
    "\\end{align}$\n",
    "\n",
    "\n",
    "and note that $\\bar{E}$ is maximized when $\\frac{\\partial \\bar{E}}{\\partial \\mathbf{T}_p} = \\mathbf{0}$:\n",
    "\n",
    "$\n",
    "\\begin{align}\n",
    "\\quad \\mathbf{0} &= \\left \\{ \\begin{matrix} ... & \\dfrac{r^{(i)}(T_{p}^{*(i)}) \\left ( T_{t}^{(i)} + T_{p}^{*(i)} + c^{(i)} \\right ) - \\left ( R^{(i)}(T_{p}^{*(i)}) - sT_{t}^{(i)} + k^{(i)} \\right )}{\\left ( T_{t}^{(i)} + T_{p}^{*(i)} + c^{(i)} \\right )^2} & ... \\end{matrix} \\right \\} \\\\\n",
    "&= \\left \\{ \\begin{matrix} ... & r^{(i)}(T_{p}^{*(i)}) \\left ( T_{t}^{(i)} + T_{p}^{*(i)} + c^{(i)} \\right ) - \\left ( R^{(i)}(T_{p}^{*(i)}) - sT_{t}^{(i)} + k^{(i)} \\right ) & ... \\end{matrix} \\right \\} \\\\\n",
    "\\end{align} \\\\\n",
    "\\quad \\Rightarrow r^{(i)}(T_{p}^{*(i)}) \\left ( T_{t}^{(i)} + T_{p}^{*(i)} + c^{(i)} \\right ) = R^{(i)}(T_{p}^{*(i)}) - sT_{t}^{(i)} + k^{(i)} \\\\\n",
    "\\quad \\Rightarrow r^{(i)}(T_{p}^{*(i)}) = \\dfrac{R^{(i)}(T_{p}^{*(i)}) - sT_{t}^{(i)} + k^{(i)}}{T_{t}^{(i)} + T_{p}^{*(i)} + c^{(i)}} = \\bar{E}\n",
    "$\n",
    "\n",
    "or in the single-patch case ($i=1$):\n",
    "\n",
    "$\n",
    "\\quad r(T_{p}^{*}) = \\dfrac{R(T_{p}^{*}) - sT_{t}}{T_{t} + T_{p}^{*}} = \\bar{E}\n",
    "$\n",
    "\n",
    "where $r(t) = \\frac{\\mathrm{d} R}{\\mathrm{d} t}$.\n",
    "\n",
    "Therefore, the optimal patch residence time for each patch $T_{p}^{*(i)}$ occurs when the marginal gain in that patch equals the average rate of return across the environment; this is called the **marginal value theorem** (MVT). If we model the gain function based on an exponentially decaying rate of return within a given patch:\n",
    "\n",
    "$\n",
    "\\quad r(T_{p}) = r_0 e^{-\\frac{T_p}{\\tau}} \\\\\n",
    "\\quad R(T_{p}) = \\int_{0}^{T_p} r(t)dt = r_0 \\tau \\left ( 1 - e^{-\\frac{T_p}{\\tau}} \\right ) + R_0\n",
    "$\n",
    "\n",
    "then, for the single-patch case, the MVT equation becomes:\n",
    "\n",
    "$\n",
    "\\quad r(T_{p}^{*}) = \\dfrac{R(T_{p}^{*}) - sT_{t}}{T_{t} + T_{p}^{*}} \\\\\n",
    "\\quad r_0 e^{-\\frac{T_p^{*}}{\\tau}} = \\dfrac{r_0 \\tau \\left ( 1 - e^{-\\frac{T_p^{*}}{\\tau}} \\right ) + R_0 - sT_{t}}{T_{t} + T_{p}^{*}} \\\\\n",
    "\\quad \\Rightarrow r_0 e^{-\\frac{T_p^{*}}{\\tau}} \\left ( T_{t} + T_{p}^{*} \\right ) = r_0 \\tau - r_0 \\tau  e^{-\\frac{T_p^{*}}{\\tau}} + R_0 - sT_{t} \\\\\n",
    "\\quad \\Rightarrow r_0 e^{-\\frac{T_p^{*}}{\\tau}} \\left ( T_{t} + T_{p}^{*} + \\tau \\right ) - r_0 \\tau - R_0 + sT_{t} = 0\n",
    "$\n",
    "\n",
    "As a sanity check, let's solve for the optimal residence time a slightly different way. If we are trying to maximize our average harvest rate across an environment, $\\bar{R}(T_p)$, then we can simply set the derivative of this intake rate to zero and solve to find the maximum. First, the derivative is:\n",
    "\n",
    "$\n",
    "\\quad \\bar{R}(T_p) = \\dfrac{R(T_{p}) - sT_{t}}{T_{t} + T_{p}} \\\\\n",
    "\\begin{align}\n",
    "\\quad \\dfrac{d \\bar{R}}{d T_p} \n",
    "&= \\dfrac{\\dfrac{d}{d T_p} \\left ( R(T_p) - sT_t \\right ) \\left ( T_t + T_p \\right ) - \\left ( R(T_p) - sT_t \\right ) \\left ( \\dfrac{d}{d T_p} \\left ( T_t + T_p \\right ) \\right )}{\\left ( T_t + T_p \\right )^2} \\quad \\text{(by the product rule)} \\\\\n",
    "&= \\dfrac{\\left ( \\dfrac{d R}{d T_p} \\right ) \\left ( T_t + T_p \\right ) - R(T_p) + sT_t}{\\left ( T_t + T_p \\right )^2} \\\\\n",
    "&= \\dfrac{r(T_p) \\left ( T_t + T_p \\right ) - R(T_p) + sT_t}{\\left ( T_t + T_p \\right )^2} \\quad \\text{(by definition)}\n",
    "\\end{align}\n",
    "$\n",
    "\n",
    "Setting this to zero, we get:\n",
    "\n",
    "$\n",
    "\\begin{align}\n",
    "\\quad 0 \n",
    "&= \\dfrac{r(T^*_p) \\left ( T_t + T^*_p \\right ) - R(T^*_p) + sT_t}{\\left ( T_t + T^*_p \\right )^2} \\\\\n",
    "&= r(T^*_p) \\left ( T_t + T^*_p \\right ) - R(T^*_p) + sT_t \\\\\n",
    "&\\Rightarrow r(T^*_p) = \\dfrac{R(T^*_p) - sT_t}{T_t + T^*_p}\n",
    "\\end{align}\n",
    "$\n",
    "\n",
    "arriving at the same equation as above."
   ]
  },
  {
   "cell_type": "markdown",
   "metadata": {
    "toc-hr-collapsed": true,
    "toc-nb-collapsed": true
   },
   "source": [
    "### Additional rewards and costs\n",
    "Additional travel time can be modeled as beneficial rest."
   ]
  },
  {
   "cell_type": "markdown",
   "metadata": {},
   "source": [
    "## Parameter tool\n",
    "Let's rewrite the code to 1) better display the data and 2) be a single code block to visualize any parameter manipulation.\n",
    "\n",
    "There are five parameters ($T_P, T_T, R_0, r_0, \\tau$), of which we can display three at a time using heatmaps. Because one of those, the unknown, is fixed, we have $C^4_2 = \\frac{4!}{2! 2!} = 6$ graphs to display. Instead of displaying all graphs at once, we will instead allow the user to select which variable(s) to plot using either 1D (curve) or 2D (heatmap) visualization. Additionally, we will implement a selection tool for each fixed variable (i.e. not displayed) in order to quickly update the plots. "
   ]
  },
  {
   "cell_type": "code",
   "execution_count": null,
   "metadata": {},
   "outputs": [],
   "source": [
    "# Behavior parameters\n",
    "t_p = np.linspace(5.0, 60.0, num=56)\n",
    "t_t = np.linspace(5.0, 30.0, num=26)\n",
    "\n",
    "# Environment parameters\n",
    "# Remember, R_0 / r_0 must be ≥ t_t, otherwise R_0 will default to zero!\n",
    "R_0 = np.array([0.0])\n",
    "r_0 = np.linspace(0.5, 5.0, num=19)\n",
    "tau = None\n",
    "\n",
    "# Parameters (do not change order!!!)\n",
    "params = {'t_p': t_p,\n",
    "          't_t': t_t,\n",
    "          'R_0': R_0,\n",
    "          'r_0': r_0,\n",
    "          'tau': tau}\n",
    "assert len([k for k, v in params.items() if v is None]) == 1"
   ]
  },
  {
   "cell_type": "code",
   "execution_count": null,
   "metadata": {},
   "outputs": [],
   "source": [
    "X = {k: v for k, v in params.items() if v is not None}\n",
    "name = [k for k, v in params.items() if v is None][0]\n",
    "soln, R_opt, is_solvable = helper.get_optimal_values(**params, \n",
    "                                                     return_solvable=True, \n",
    "                                                     min_value=0.01, \n",
    "                                                     max_value=1000.0)\n",
    "Y = {name: soln,\n",
    "     'R_opt': R_opt}"
   ]
  },
  {
   "cell_type": "code",
   "execution_count": null,
   "metadata": {},
   "outputs": [],
   "source": [
    "#%matplotlib widget # calling the magic function again closes previous figures\n",
    "\n",
    "# Parameter settings\n",
    "x_name = 't_p'\n",
    "\n",
    "# Create widgets\n",
    "w1D = {}\n",
    "for name, x in X.items():\n",
    "    if name != x_name:\n",
    "        w1D[name] = SelectionSlider(options=x,\n",
    "                                    value=x[0],\n",
    "                                    description=name,\n",
    "                                    **default_kwargs)\n",
    "\n",
    "# Create initial plot\n",
    "fig1D, ax1D = plt.subplots(1, 2, figsize=(8.0, 3.0))\n",
    "idx = tuple([0 if name != x_name else slice(None) for name, x in X.items()])\n",
    "lines = []\n",
    "for i, (name, y) in enumerate(Y.items()):\n",
    "    h, = ax1D[i].plot(X[x_name], y[idx], color='black', alpha=0.7)\n",
    "    lines.append(h)\n",
    "    ax1D[i].set_xlabel(x_name)\n",
    "    ax1D[i].set_ylabel(name)\n",
    "    ax1D[i].set_title('{} vs. {}'.format(name, x_name))\n",
    "plt.tight_layout()\n",
    "        \n",
    "# Create update function\n",
    "x_idx = list(X.keys()).index(x_name)\n",
    "def update_plot(**kwargs):\n",
    "    # Get indices to display\n",
    "    idx = [val[1] for name, val in kwargs.items()] # val = (w.value, w.index)\n",
    "    idx.insert(x_idx, slice(None)) # slice across x1 axis\n",
    "    idx = tuple(idx)\n",
    "    \n",
    "    # Update curve\n",
    "    for i, (name, y) in enumerate(Y.items()):\n",
    "        lines[i].set_ydata(y[idx])\n",
    "        ax1D[i].relim()\n",
    "        ax1D[i].autoscale_view()\n",
    "    fig1D.canvas.draw_idle()\n",
    "    \n",
    "widgets.interact(update_plot, **w1D);"
   ]
  },
  {
   "cell_type": "code",
   "execution_count": null,
   "metadata": {},
   "outputs": [],
   "source": [
    "#%matplotlib widget # calling the magic function again closes previous figures\n",
    "\n",
    "# Parameter settings\n",
    "x1_name = 't_p'\n",
    "x2_name = 't_t'\n",
    "Y_range = [0.0, 1000.0]\n",
    "\n",
    "# Create widgets\n",
    "w2D = {} # different name from above because widgets persist in background\n",
    "for name, x in X.items():\n",
    "    if name not in [x1_name, x2_name]:\n",
    "        w2D[name] = SelectionSlider(options=x,\n",
    "                                    value=x[0],\n",
    "                                    description=name,\n",
    "                                    **default_kwargs)\n",
    "\n",
    "# Create color palette\n",
    "palette = copy.copy(plt.cm.coolwarm)\n",
    "palette.set_under('black', Y_range[0])\n",
    "palette.set_over('black', Y_range[1])\n",
    "palette.set_bad(alpha=0.0)\n",
    "        \n",
    "# Create initial heatmaps\n",
    "fig2D, ax2D = plt.subplots(1, 2, figsize=(8.0, 3.0))\n",
    "idx = tuple([0 if name not in [x1_name, x2_name] else slice(None) \n",
    "             for name, x in X.items()])\n",
    "images = []\n",
    "cbars = []\n",
    "for i, (name, y) in enumerate(Y.items()):\n",
    "    # Create heatmap\n",
    "    im = ax2D[i].imshow(y[idx],\n",
    "                        cmap=palette,\n",
    "                        aspect='auto',\n",
    "                        origin='lower',\n",
    "                        vmin=y[idx].min(),\n",
    "                        vmax=y[idx].max())\n",
    "    images.append(im)\n",
    "    ax2D[i].set_xlabel(x1_name)\n",
    "    ax2D[i].set_ylabel(x2_name)\n",
    "    ax2D[i].set_title('{} vs. ({}, {})'.format(name, x1_name, x2_name))\n",
    "    \n",
    "    # Create colorbar\n",
    "    cbar = fig2D.colorbar(im, ax=ax2D[i])\n",
    "    cbar.set_label(name)\n",
    "    cbars.append(cbar)\n",
    "    \n",
    "plt.tight_layout()\n",
    "\n",
    "# Create update function\n",
    "x1_idx = list(X.keys()).index(x1_name)\n",
    "x2_idx = list(X.keys()).index(x2_name)\n",
    "def update_heatmap(**kwargs):\n",
    "    # Get indices to display\n",
    "    idx = [val[1] for name, val in kwargs.items()] # val = (w.value, w.index)\n",
    "    idx.insert(x1_idx, slice(None)) # slice across x1 axis\n",
    "    idx.insert(x2_idx, slice(None)) # slice across x2 axis\n",
    "    idx = tuple(idx)\n",
    "    \n",
    "    # Update heatmaps\n",
    "    for i, (name, y) in enumerate(Y.items()):\n",
    "        images[i].set_data(y[idx])\n",
    "        cbars[i].mappable.set_clim(vmin=y[idx].min(), vmax=y[idx].max())\n",
    "        ax2D[i].relim()\n",
    "        ax2D[i].autoscale_view()\n",
    "    fig2D.canvas.draw_idle()\n",
    "    \n",
    "widgets.interact(update_heatmap, **w2D);"
   ]
  },
  {
   "cell_type": "markdown",
   "metadata": {
    "toc-hr-collapsed": true,
    "toc-nb-collapsed": true
   },
   "source": [
    "## Archive"
   ]
  },
  {
   "cell_type": "markdown",
   "metadata": {},
   "source": [
    "### Fit environment to behavior\n",
    "Given preferred patch residence and travel times, what is the environment in which such behavior is optimal?"
   ]
  },
  {
   "cell_type": "code",
   "execution_count": null,
   "metadata": {
    "scrolled": true
   },
   "outputs": [],
   "source": [
    "# Behavior parameters (fixed)\n",
    "t_p = 20\n",
    "t_t = 10\n",
    "\n",
    "# Environment parameters (varied)\n",
    "# Remember, R_0 / r_0 must be ≥ t_t, otherwise R_0 will default to zero!\n",
    "R_0 = np.array([0.0, 2.0, 6.0, 8.0, 10.0, 12.0])\n",
    "r_0 = np.arange(50, 501, 25)/100\n",
    "\n",
    "# Solve for tau, optimum cumulative reward\n",
    "tau = np.zeros([R_0.shape[0], r_0.shape[0]])\n",
    "R_opt = np.zeros([R_0.shape[0], r_0.shape[0]])\n",
    "is_solvable = np.ones([R_0.shape[0], r_0.shape[0]], dtype=np.bool)\n",
    "for i, R_0_ in enumerate(R_0):\n",
    "    tau[i, :], R_opt[i, :], is_solvable[i, :] = get_optimal_values(t_p=t_p, \n",
    "                                                                   t_t=t_t, \n",
    "                                                                   R_0=R_0_, \n",
    "                                                                   r_0=r_0, \n",
    "                                                                   return_solvable=True)"
   ]
  },
  {
   "cell_type": "code",
   "execution_count": null,
   "metadata": {},
   "outputs": [],
   "source": [
    "fig, ax = plt.subplots(tau.shape[0], 2, figsize=(10, 4*tau.shape[0]))\n",
    "\n",
    "for i in range(tau.shape[0]):\n",
    "    ax[i, 0].plot(r_0[is_solvable[i]], tau[i, is_solvable[i]], linestyle='-', color='gray')\n",
    "    ax[i, 0].plot(r_0[np.invert(is_solvable[i])], tau[i, np.invert(is_solvable[i])], linestyle='--', color='gray') \n",
    "    ax[i, 0].set_xlabel('r_0 (uL/s)')\n",
    "    ax[i, 0].set_ylabel('tau (s)')\n",
    "    ax[i, 0].set_title('t_p=%d, t_t=%d, R_0=%d' % (t_p, t_t, R_0[i]))\n",
    "    ax[i, 0].set_yscale('log')\n",
    "    \n",
    "    ax[i, 1].plot(r_0[is_solvable[i]], R_opt[i, is_solvable[i]], linestyle='-', color='gray')\n",
    "    ax[i, 1].plot(r_0[np.invert(is_solvable[i])], R_opt[i, np.invert(is_solvable[i])], linestyle='--', color='gray')\n",
    "    ax[i, 1].set_xlabel('r_0 (uL/s)')\n",
    "    ax[i, 1].set_ylabel('R_opt (uL)')\n",
    "    ax[i, 1].set_title('t_p=%d, t_t=%d, R_0=%d' % (t_p, t_t, R_0[i]))\n",
    "\n",
    "ax[0, 0].set_ylim([1.0, 100.0])    \n",
    "plt.tight_layout()"
   ]
  },
  {
   "cell_type": "markdown",
   "metadata": {},
   "source": [
    "### Fit behavior to environment\n",
    "Given environmental parameters, what is optimum behavior?"
   ]
  },
  {
   "cell_type": "code",
   "execution_count": null,
   "metadata": {},
   "outputs": [],
   "source": [
    "# Behavior parameters\n",
    "t_t = 10\n",
    "\n",
    "# Environment parameters\n",
    "# Remember, R_0 / r_0 must be ≥ t_t, otherwise R_0 will default to zero!\n",
    "R_0 = np.array([0.0])\n",
    "r_0 = np.arange(50, 501, 50)/100\n",
    "tau = np.arange(10, 60, 5)\n",
    "\n",
    "# Solve for residence time, optimum cumulative reward\n",
    "t_p = np.zeros([tau.shape[0], r_0.shape[0]])\n",
    "R_opt = np.zeros([tau.shape[0], r_0.shape[0]])\n",
    "is_solvable = np.ones([tau.shape[0], r_0.shape[0]], dtype=np.bool)\n",
    "for i, tau_ in enumerate(tau):\n",
    "    t_p[i, :], R_opt[i, :], is_solvable[i, :] = get_optimal_values(t_t=t_t, \n",
    "                                                                   R_0=R_0, \n",
    "                                                                   r_0=r_0,\n",
    "                                                                   tau=tau_,\n",
    "                                                                   return_solvable=True)"
   ]
  },
  {
   "cell_type": "code",
   "execution_count": null,
   "metadata": {},
   "outputs": [],
   "source": [
    "fig, ax = plt.subplots(t_p.shape[0], 2, figsize=(10, 20))\n",
    "\n",
    "for i in range(t_p.shape[0]):\n",
    "    ax[i, 0].plot(r_0[is_solvable[i]], t_p[i, is_solvable[i]], linestyle='-', color='gray')\n",
    "    ax[i, 0].plot(r_0[np.invert(is_solvable[i])], t_p[i, np.invert(is_solvable[i])], linestyle='--', color='gray') \n",
    "    ax[i, 0].set_xlabel('r_0 (uL/s)')\n",
    "    ax[i, 0].set_ylabel('t_p (s)')\n",
    "    ax[i, 0].set_title('tau=%d, t_t=%d, R_0=%d' % (tau[i], t_t, R_0))\n",
    "    \n",
    "    ax[i, 1].plot(r_0[is_solvable[i]], R_opt[i, is_solvable[i]], linestyle='-', color='gray')\n",
    "    ax[i, 1].plot(r_0[np.invert(is_solvable[i])], R_opt[i, np.invert(is_solvable[i])], linestyle='--', color='gray')\n",
    "    ax[i, 1].set_xlabel('r_0 (uL/s)')\n",
    "    ax[i, 1].set_ylabel('R_opt (uL)')\n",
    "    ax[i, 1].set_title('tau=%d, t_t=%d, R_0=%d' % (tau[i], t_t, R_0))\n",
    "\n",
    "#ax[0, 0].set_ylim([0.0, 100.0])    \n",
    "plt.tight_layout()"
   ]
  },
  {
   "cell_type": "code",
   "execution_count": null,
   "metadata": {},
   "outputs": [],
   "source": [
    "# vary travel time and solve for residence time; see what values double residence time\n",
    "# Behavior parameters\n",
    "t_t = np.arange(5, 41, 5)\n",
    "\n",
    "# Environment parameters\n",
    "# Remember, R_0 / r_0 must be ≥ t_t, otherwise R_0 will default to zero!\n",
    "R_0 = np.array([0.0])\n",
    "r_0 = np.arange(50, 501, 50)/100\n",
    "tau = np.array([24.0])\n",
    "\n",
    "# Solve for residence time, optimum cumulative reward\n",
    "t_p = np.zeros([t_t.shape[0], r_0.shape[0]])\n",
    "R_opt = np.zeros([t_t.shape[0], r_0.shape[0]])\n",
    "is_solvable = np.ones([t_t.shape[0], r_0.shape[0]], dtype=np.bool)\n",
    "for i, t_t_ in enumerate(t_t):\n",
    "    t_p[i, :], R_opt[i, :], is_solvable[i, :] = get_optimal_values(t_t=t_t_, \n",
    "                                                                   R_0=R_0, \n",
    "                                                                   r_0=r_0,\n",
    "                                                                   tau=tau,\n",
    "                                                                   return_solvable=True)"
   ]
  },
  {
   "cell_type": "code",
   "execution_count": null,
   "metadata": {
    "scrolled": true
   },
   "outputs": [],
   "source": [
    "fig, ax = plt.subplots(t_p.shape[0], 2, figsize=(10, 20))\n",
    "\n",
    "for i in range(t_p.shape[0]):\n",
    "    ax[i, 0].plot(r_0[is_solvable[i]], t_p[i, is_solvable[i]], linestyle='-', color='gray')\n",
    "    ax[i, 0].plot(r_0[np.invert(is_solvable[i])], t_p[i, np.invert(is_solvable[i])], linestyle='--', color='gray') \n",
    "    ax[i, 0].set_xlabel('r_0 (uL/s)')\n",
    "    ax[i, 0].set_ylabel('t_p (s)')\n",
    "    ax[i, 0].set_title('tau=%d, t_t=%d, R_0=%d' % (tau, t_t[i], R_0))\n",
    "    \n",
    "    ax[i, 1].plot(r_0[is_solvable[i]], R_opt[i, is_solvable[i]], linestyle='-', color='gray')\n",
    "    ax[i, 1].plot(r_0[np.invert(is_solvable[i])], R_opt[i, np.invert(is_solvable[i])], linestyle='--', color='gray')\n",
    "    ax[i, 1].set_xlabel('r_0 (uL/s)')\n",
    "    ax[i, 1].set_ylabel('R_opt (uL)')\n",
    "    ax[i, 1].set_title('tau=%d, t_t=%d, R_0=%d' % (tau, t_t[i], R_0))\n",
    "\n",
    "#ax[0, 0].set_ylim([0.0, 100.0])    \n",
    "plt.tight_layout()"
   ]
  },
  {
   "cell_type": "markdown",
   "metadata": {},
   "source": [
    "#### How does optimal harvest rate change with different environments?"
   ]
  },
  {
   "cell_type": "code",
   "execution_count": null,
   "metadata": {},
   "outputs": [],
   "source": [
    "# Behavior parameters\n",
    "t_t = 5\n",
    "\n",
    "# Environment parameters\n",
    "# Remember, R_0 / r_0 must be ≥ t_t, otherwise R_0 will default to zero!\n",
    "R_0 = np.array([0.0])\n",
    "r_0 = np.arange(50, 501, 50)/100\n",
    "tau = np.arange(10, 30, 1)\n",
    "\n",
    "# Solve for residence time, optimum cumulative reward\n",
    "t_p = np.zeros([r_0.shape[0], tau.shape[0]])\n",
    "R_opt = np.zeros([r_0.shape[0], tau.shape[0]])\n",
    "is_solvable = np.ones([r_0.shape[0], tau.shape[0]], dtype=np.bool)\n",
    "for i, r_0_ in enumerate(r_0):\n",
    "    t_p[i, :], R_opt[i, :], is_solvable[i, :] = get_optimal_values(t_t=t_t, \n",
    "                                                                   R_0=R_0, \n",
    "                                                                   r_0=r_0_,\n",
    "                                                                   tau=tau,\n",
    "                                                                   return_solvable=True)"
   ]
  },
  {
   "cell_type": "code",
   "execution_count": null,
   "metadata": {},
   "outputs": [],
   "source": [
    "fig, ax = plt.subplots(r_0.shape[0], 2, figsize=(10, 20))\n",
    "\n",
    "for i in range(r_0.shape[0]):\n",
    "    ax[i, 0].plot(tau[is_solvable[i]], t_p[i, is_solvable[i]], linestyle='-', color='gray')\n",
    "    ax[i, 0].plot(tau[np.invert(is_solvable[i])], t_p[i, np.invert(is_solvable[i])], linestyle='--', color='gray') \n",
    "    ax[i, 0].set_xlabel('tau (uL/s)')\n",
    "    ax[i, 0].set_ylabel('t_p (s)')\n",
    "    ax[i, 0].set_title('r_0=%.2f, t_t=%d, R_0=%d' % (r_0[i], t_t, R_0))\n",
    "    \n",
    "    ax[i, 1].plot(tau[is_solvable[i]], R_opt[i, is_solvable[i]]/(t_t + t_p[i, is_solvable[i]]), \n",
    "                  linestyle='-', color='gray')\n",
    "    ax[i, 1].plot(tau[np.invert(is_solvable[i])], R_opt[i, np.invert(is_solvable[i])]/(t_t + t_p[i, np.invert(is_solvable[i])]), \n",
    "                  linestyle='--', color='gray') \n",
    "    ax[i, 1].set_xlabel('tau (uL/s)')\n",
    "    ax[i, 1].set_ylabel('hr (uL/s)')\n",
    "    ax[i, 1].set_title('r_0=%.2f, t_t=%d, R_0=%d' % (r_0[i], t_t, R_0))\n",
    "\n",
    "plt.tight_layout()"
   ]
  },
  {
   "cell_type": "code",
   "execution_count": null,
   "metadata": {},
   "outputs": [],
   "source": [
    "t_t_ = 10\n",
    "R_0_ = R_0[0]\n",
    "r_0_ = 2.0\n",
    "t_p_ = t_p[np.argwhere(t_t == t_t_)[0], np.argwhere(r_0 == r_0_)[0]] \n",
    "tau_ = tau[0]\n",
    "\n",
    "print('t_p = %.2f, t_t = %.2f, R_0 = %.2f, r_0 = %.2f, tau = %.2f' % (t_p_, t_t_, R_0_, r_0_, tau_))"
   ]
  },
  {
   "cell_type": "code",
   "execution_count": null,
   "metadata": {},
   "outputs": [],
   "source": [
    "t_t_ = 25\n",
    "R_0_ = R_0[0]\n",
    "r_0_ = 2.0\n",
    "t_p_ = t_p[np.argwhere(t_t == t_t_)[0], np.argwhere(r_0 == r_0_)[0]] \n",
    "tau_ = tau[0]\n",
    "\n",
    "print('t_p = %.2f, t_t = %.2f, R_0 = %.2f, r_0 = %.2f, tau = %.2f' % (t_p_, t_t_, R_0_, r_0_, tau_))"
   ]
  },
  {
   "cell_type": "markdown",
   "metadata": {},
   "source": [
    "### Fixed plotting tool"
   ]
  },
  {
   "cell_type": "code",
   "execution_count": null,
   "metadata": {},
   "outputs": [],
   "source": [
    "%matplotlib inline\n",
    "fig, ax = plt.subplots(2, 6, figsize=(15, 5))\n",
    "\n",
    "k = 0\n",
    "Y_range = [0.0, 50.0]\n",
    "\n",
    "# Create custom colormap\n",
    "# (see https://matplotlib.org/3.1.0/gallery/images_contours_and_fields/image_masked.html)\n",
    "palette = copy.copy(plt.cm.coolwarm)\n",
    "palette.set_under('black', Y_range[0])\n",
    "palette.set_over('black', Y_range[1])\n",
    "palette.set_bad(alpha=0.0)\n",
    "for i, (name, x) in enumerate(X.items()):\n",
    "    # Plot parameter vs. unknown\n",
    "    if isinstance(x, np.ndarray):\n",
    "        if x.size > 1:\n",
    "            ax[0, i].plot(x, helper.random_slice(Y, axis=i))\n",
    "            ax[0, i].set_xlabel(x_name)\n",
    "            ax[0, i].set_ylabel(Y_name)\n",
    "            #ax[0, i].set_title(', '.join(['{}={}'.format(name, val) for name, val in ])\n",
    "        else:\n",
    "            ax[0, i].axis('off')\n",
    "    else:\n",
    "        ax[0, i].axis('off')\n",
    "    \n",
    "    # Plot heatmap with other parameters\n",
    "    for j, (x_name_, x_) in enumerate(zip(X_name, X)):\n",
    "        if j > i:\n",
    "            h = ax[1, k].imshow(helper.random_slice(Y, axis=(i, j)),\n",
    "                                cmap=palette,\n",
    "                                aspect='auto',\n",
    "                                origin='lower',\n",
    "                                vmin=Y_range[0],\n",
    "                                vmax=Y_range[1])\n",
    "            ax[1, k].set_xlabel(x_name_)\n",
    "            ax[1, k].set_ylabel(x_name)\n",
    "            k += 1\n",
    "            \n",
    "fig.colorbar(h, ax=ax[1, k-1])\n",
    "plt.tight_layout()"
   ]
  }
 ],
 "metadata": {
  "kernelspec": {
   "display_name": "Python 3",
   "language": "python",
   "name": "python3"
  },
  "language_info": {
   "codemirror_mode": {
    "name": "ipython",
    "version": 3
   },
   "file_extension": ".py",
   "mimetype": "text/x-python",
   "name": "python",
   "nbconvert_exporter": "python",
   "pygments_lexer": "ipython3",
   "version": "3.7.3"
  }
 },
 "nbformat": 4,
 "nbformat_minor": 4
}
