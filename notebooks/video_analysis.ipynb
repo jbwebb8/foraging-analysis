{
 "cells": [
  {
   "cell_type": "markdown",
   "metadata": {},
   "source": [
    "# Video analysis"
   ]
  },
  {
   "cell_type": "markdown",
   "metadata": {},
   "source": [
    "## Table of contents\n",
    "- [Camera calibration](#Camera-calibration)\n",
    "- [Synchronization](#Synchronization)\n",
    "- [Position tracking](#Position-tracking)"
   ]
  },
  {
   "cell_type": "markdown",
   "metadata": {},
   "source": [
    "<a id=\"cam_calibration\"></a>\n",
    "## Camera calibration"
   ]
  },
  {
   "cell_type": "markdown",
   "metadata": {},
   "source": [
    "### Imports"
   ]
  },
  {
   "cell_type": "code",
   "execution_count": 7,
   "metadata": {},
   "outputs": [
    {
     "name": "stdout",
     "output_type": "stream",
     "text": [
      "No module named 'googleapiclient' Some Google Drive API methods may not be available.\n"
     ]
    }
   ],
   "source": [
    "# Numerical tools\n",
    "import numpy as np\n",
    "import math\n",
    "\n",
    "# Plotting tools\n",
    "import matplotlib.pyplot as plt\n",
    "\n",
    "# OS tools\n",
    "import os\n",
    "from tempfile import NamedTemporaryFile\n",
    "import time\n",
    "import subprocess as sp\n",
    "import getpass\n",
    "\n",
    "# File I/O\n",
    "import csv\n",
    "import yaml\n",
    "import glob\n",
    "import imageio\n",
    "\n",
    "# Video tools\n",
    "import moviepy\n",
    "import moviepy.editor\n",
    "\n",
    "# Custom modules\n",
    "import sys\n",
    "sys.path.insert(0, '../python/')\n",
    "import util"
   ]
  },
  {
   "cell_type": "markdown",
   "metadata": {},
   "source": [
    "### Load video file"
   ]
  },
  {
   "cell_type": "code",
   "execution_count": null,
   "metadata": {},
   "outputs": [],
   "source": [
    "service = util.GoogleDriveService()"
   ]
  },
  {
   "cell_type": "code",
   "execution_count": null,
   "metadata": {},
   "outputs": [],
   "source": [
    "# Download video file\n",
    "cam_filename = 'webcam_60in_30fps_landscape_dim.mkv'\n",
    "parent_folder = 'fov\n",
    "f = NamedTemporaryFile()\n",
    "file_id = service.get_file_ids(filename=cam_filename,\n",
    "                               unique=True,\n",
    "                               exact_match=True,\n",
    "                               parent=parent_folder)[0]\n",
    "service.download(file_id=file_id,\n",
    "                 chunk_size=1024*1024*100,\n",
    "                 file_object=f);"
   ]
  },
  {
   "cell_type": "markdown",
   "metadata": {},
   "source": [
    "### Measure distances\n",
    "Note: All videos were taken in 1920 x 1080 resolution."
   ]
  },
  {
   "cell_type": "code",
   "execution_count": null,
   "metadata": {},
   "outputs": [],
   "source": [
    "%matplotlib notebook"
   ]
  },
  {
   "cell_type": "code",
   "execution_count": null,
   "metadata": {},
   "outputs": [],
   "source": [
    "clip = moviepy.editor.VideoFileClip(f.name)\n",
    "img = clip.get_frame(0.5)\n",
    "plt.imshow(img)"
   ]
  },
  {
   "cell_type": "code",
   "execution_count": null,
   "metadata": {},
   "outputs": [],
   "source": [
    "d = 12\n",
    "x1 = 915\n",
    "x2 = 1163\n",
    "ppi = (x2 - x1)/d\n",
    "print('ppi: %.2f' % ppi)\n",
    "print('field per pixel: %.4f in' % (1.0/ppi))\n",
    "print('field: %.2f in x %.2f in' % (1920/ppi, 1080/ppi))"
   ]
  },
  {
   "cell_type": "markdown",
   "metadata": {},
   "source": [
    "List calibrations here:\n",
    "\n",
    "\n",
    "cam height (in) | x1 (pixels) | x2 (pixels) | distance (in) | ppi    | field (in) per pixel | field (in x in)\n",
    "--------------- | ----------- | ----------- | ------------- | ------ | ---------------------| ---------------\n",
    "30              | 3           | 546         | 12            | 45.25  | 0.0221               | 42.43 x 23.87\n",
    "60              | 715         | 1013        | 12            | 24.83  | 0.0403               | 77.32 x 43.49\n",
    "71              | 915         | 1163        | 12            | 20.67  | 0.0484               | 92.90 x 52.26"
   ]
  },
  {
   "cell_type": "markdown",
   "metadata": {},
   "source": [
    "### Fit calibration\n",
    "If we draw the field of view $d$ as a function of camera height $h$, we can pretty easily estimate it as a linear function:\n",
    "\n",
    "$\n",
    "d = \\left ( \\frac{2}{tan(\\theta)} \\right ) h\n",
    "$"
   ]
  },
  {
   "cell_type": "code",
   "execution_count": null,
   "metadata": {},
   "outputs": [],
   "source": [
    "# Fit line via least-squares\n",
    "A = np.array([[1, 30],\n",
    "              [1, 60],\n",
    "              [1, 71]])\n",
    "b = np.array([[0.0221],\n",
    "              [0.0403],\n",
    "              [0.0484]])\n",
    "x_hat = np.linalg.inv(A.T.dot(A)).dot(A.T.dot(b))\n",
    "print(x_hat)\n",
    "\n",
    "# Define field of view per pixel as function of camera height\n",
    "d = lambda h: x_hat[0, 0] + x_hat[1, 0]*h"
   ]
  },
  {
   "cell_type": "code",
   "execution_count": null,
   "metadata": {},
   "outputs": [],
   "source": [
    "# Plot data points\n",
    "plt.scatter(A[:, 1], b)\n",
    "\n",
    "# Plot regression line\n",
    "x = np.linspace(30, 75, num=100)\n",
    "plt.plot(x, d(x), color='black', linestyle='--')\n",
    "\n",
    "plt.xlabel('camera height (in)')\n",
    "plt.ylabel('field width (in) per pixel');"
   ]
  },
  {
   "cell_type": "code",
   "execution_count": null,
   "metadata": {},
   "outputs": [],
   "source": [
    "fig, ax = plt.subplots(figsize=(5, 3))\n",
    "h = np.linspace(0, 120, num=1000)\n",
    "\n",
    "# Plot field widths vs. camera height\n",
    "ax.plot(h*2.54, 1920*d(h)*2.54, color='black', alpha=0.75, label='width') # cm\n",
    "ax.plot(h*2.54, 1080*d(h)*2.54, color='black', alpha=0.25, label='height') # cm\n",
    "\n",
    "# Plot field width at 2.7 meters (ceiling height)\n",
    "ax.vlines(270, 0.0, 1080*d(270/2.54)*2.54, color='black', alpha=0.25,\n",
    "          linestyle='--', label='max width')\n",
    "ax.hlines(1080*d(270/2.54)*2.54, 0.0, 270, color='black', alpha=0.25,\n",
    "          linestyle='--')\n",
    "\n",
    "ax.set_xlabel('camera height (cm)')\n",
    "ax.set_ylabel('field (cm)')\n",
    "ax.legend()\n",
    "plt.tight_layout()"
   ]
  },
  {
   "cell_type": "markdown",
   "metadata": {},
   "source": [
    "## Synchronization"
   ]
  },
  {
   "cell_type": "markdown",
   "metadata": {},
   "source": [
    "### Imports"
   ]
  },
  {
   "cell_type": "code",
   "execution_count": null,
   "metadata": {},
   "outputs": [],
   "source": [
    "# Numerical tools\n",
    "import numpy as np\n",
    "import math\n",
    "\n",
    "# Plotting tools\n",
    "import matplotlib.pyplot as plt\n",
    "\n",
    "# OS tools\n",
    "import os\n",
    "from tempfile import TemporaryFile\n",
    "import time\n",
    "import subprocess as sp\n",
    "import getpass\n",
    "\n",
    "# Video tools\n",
    "import moviepy\n",
    "import moviepy.editor\n",
    "\n",
    "# Custom modules\n",
    "import sys\n",
    "sys.path.insert(0, '../python/')\n",
    "import util\n",
    "import session\n",
    "import plot\n",
    "import analysis"
   ]
  },
  {
   "cell_type": "markdown",
   "metadata": {},
   "source": [
    "### Format video"
   ]
  },
  {
   "cell_type": "markdown",
   "metadata": {
    "tags": []
   },
   "source": [
    "#### Load video file"
   ]
  },
  {
   "cell_type": "code",
   "execution_count": null,
   "metadata": {},
   "outputs": [],
   "source": [
    "service = util.GoogleDriveService()"
   ]
  },
  {
   "cell_type": "code",
   "execution_count": null,
   "metadata": {},
   "outputs": [],
   "source": [
    "media_dir = '/media/james/data/foraging/linear_track/raw/19-10-03/' # where to download\n",
    "base_filename = 'R002_d50_2019-10-03-1323'\n",
    "cam_filename = base_filename + '_cam-1.mkv' # if comparing to behavior session\n",
    "#cam_filename = base_filename + '.mkv' # if comparing videos"
   ]
  },
  {
   "cell_type": "code",
   "execution_count": null,
   "metadata": {},
   "outputs": [],
   "source": [
    "# Allow read/write permissions from directory\n",
    "password = getpass.getpass()\n",
    "command = 'sudo -S chmod 777 %s' % media_dir # -S enables input from stdin\n",
    "os.system('echo %s | %s' % (password, command));"
   ]
  },
  {
   "cell_type": "code",
   "execution_count": null,
   "metadata": {},
   "outputs": [],
   "source": [
    "# Download video file\n",
    "with open(media_dir + cam_filename, 'wb') as f:\n",
    "    service.download(filename=cam_filename,\n",
    "                     chunk_size=1024*1024*100,\n",
    "                     file_object=f)"
   ]
  },
  {
   "cell_type": "markdown",
   "metadata": {},
   "source": [
    "#### Preprocess video"
   ]
  },
  {
   "cell_type": "code",
   "execution_count": null,
   "metadata": {},
   "outputs": [],
   "source": [
    "# Convert to mp4 format if not already\n",
    "if not cam_filename.lower().endswith('.mp4'):\n",
    "    new_filename = '.'.join(cam_filename.split('.')[:-1]) + '.mp4'\n",
    "    cmd = ['ffmpeg',\n",
    "           '-i', media_dir + cam_filename,\n",
    "           '-codec', 'copy',\n",
    "           '-copyts',\n",
    "           '-vsync', 'vfr',\n",
    "           media_dir + new_filename]\n",
    "    cam_filename = new_filename\n",
    "    with sp.Popen(cmd) as p:\n",
    "        p.wait()"
   ]
  },
  {
   "cell_type": "code",
   "execution_count": null,
   "metadata": {},
   "outputs": [],
   "source": [
    "# Get frame rate using ffprobe\n",
    "cmd = ['ffprobe',\n",
    "       '-i', media_dir + cam_filename,\n",
    "       '-select_streams', 'v',\n",
    "       '-show_streams',\n",
    "       '-show_entries', 'stream=avg_frame_rate',\n",
    "       '-of', 'csv=p=0']\n",
    "with sp.Popen(cmd, bufsize=100, stdout=sp.PIPE, stderr=sp.PIPE) as p:\n",
    "    p.wait() # waits until process has terminated\n",
    "    s = p.stdout.read(100)\n",
    "    fps = s.decode().split(',')[0].strip(' \\n')\n",
    "    fps = round(float(fps.split('/')[0]) / float(fps.split('/')[1]))\n",
    "    \n",
    "print(fps)"
   ]
  },
  {
   "cell_type": "code",
   "execution_count": null,
   "metadata": {},
   "outputs": [],
   "source": [
    "# Get start time using ffprobe\n",
    "cmd = ['ffprobe',\n",
    "       '-i', media_dir + cam_filename,\n",
    "       '-select_streams', 'v',\n",
    "       '-show_entries', 'stream=start_time',\n",
    "       '-of', 'csv=p=0']\n",
    "with sp.Popen(cmd, bufsize=100, stdout=sp.PIPE, stderr=sp.PIPE) as p:\n",
    "    p.wait() # waits until process has terminated\n",
    "    s = p.stdout.read(100)\n",
    "    t_start = float(s.decode().strip(' \\n'))"
   ]
  },
  {
   "cell_type": "code",
   "execution_count": null,
   "metadata": {},
   "outputs": [],
   "source": [
    "# Extract timestamps\n",
    "# https://superuser.com/questions/841872/how-do-i-extract-the-timestamps-associated-with-frames-ffmpeg-extracts-from-a-vi\n",
    "ts_filename = base_filename + '_ts.csv'\n",
    "cmd = ['ffprobe',\n",
    "       '-i', media_dir + cam_filename,\n",
    "       '-select_streams', 'v',\n",
    "       '-show_frames',\n",
    "       '-show_entries', 'frame=pkt_pts_time',\n",
    "       '-of', 'csv=p=0']\n",
    "with open(media_dir+ts_filename, 'w') as f, \\\n",
    "     sp.Popen(cmd, stdout=f, stderr=sp.PIPE) as p:\n",
    "    p.wait()"
   ]
  },
  {
   "cell_type": "code",
   "execution_count": null,
   "metadata": {},
   "outputs": [],
   "source": [
    "# Load timestamps\n",
    "ts = np.loadtxt(media_dir + ts_filename)\n",
    "assert ts[0] == t_start\n",
    "duration = ts[-1] - ts[0]"
   ]
  },
  {
   "cell_type": "markdown",
   "metadata": {},
   "source": [
    "#### Frame rate"
   ]
  },
  {
   "cell_type": "code",
   "execution_count": null,
   "metadata": {},
   "outputs": [],
   "source": [
    "# How many frames?\n",
    "print('Expected number of frames: {}'.format(int(fps*duration)+1))\n",
    "print('Actual number of frames:   {}'.format(ts.shape[0]))\n",
    "print('Mean interval:             {:.5f}'.format(np.mean(np.diff(ts))))\n",
    "print('Std interval:              {:.5f}'.format(np.std(np.diff(ts))))"
   ]
  },
  {
   "cell_type": "code",
   "execution_count": null,
   "metadata": {},
   "outputs": [],
   "source": [
    "# Plot distribution of instantaneous fps\n",
    "fig, ax = plt.subplots(1, 2, figsize=(15, 5))\n",
    "\n",
    "ax[0].plot(ts[:-1]-ts[0], np.diff(ts))\n",
    "ax[1].hist(np.diff(ts))\n",
    "\n",
    "print('Minimum inter-frame duration: %.5f' % np.min(np.diff(ts)))\n",
    "print('Maximum inter-frame duration: %.5f' % np.max(np.diff(ts)))\n"
   ]
  },
  {
   "cell_type": "code",
   "execution_count": null,
   "metadata": {
    "scrolled": true
   },
   "outputs": [],
   "source": [
    "plt.plot(ts)"
   ]
  },
  {
   "cell_type": "markdown",
   "metadata": {},
   "source": [
    "### Software timestamps\n",
    "Some quick notes on how `moviepy` works, particularly with grabbing video frames. We can create a `VideoFileClip` object with a local video file to quickly view frames or even embed clips in the notebook. Under the hood, all `Clip` objects use ffmpeg to do the heavy lifting.\n",
    "\n",
    "Every `Clip` object has a `make_frame` function that takes time as an argument and returns the video frame most closely associated with that time. In a `VideoFileClip` object, this method is the `get_frame` method for its associated `FFMPEG_VideoReader` (`self.reader.get_frame`). The `FFMPEG_VideoReader` object serves as an interface between the user and `ffmpeg` by calling commands via the `subprocess` module. To read video frame(s) at certain times, it essentially calls the following methods:\n",
    "\n",
    "`get_frame(t)`: Get the video frame at time `t` in one or two ways. If the video stream at time not too far behind `t`, then call `skip_frames`; otherwise, `initialize` at `t` and `read_frame`.\n",
    "\n",
    "`initialize(t)`: Initialize an `ffmpeg` subprocess that begins streaming video data at time `t` to `stdout`. In other words, it calls an `ffmpeg` command to write video frames not to a file but to `stdout` (which will become clear in a moment). The command is: \n",
    "\n",
    "```ffmpeg -ss <t-1> -i <filename> -ss 1 -loglevel error -f image2pipe -vf scale=<W:H> -sws_flags bicubic -pix_fmt rgb24 -vcodec rawvideo -```\n",
    "\n",
    "where `-ss` before the input file (`-i`) specifies where to set the pointer to begin streaming (in seconds), `-ss` after the input file specifies how much data to ignore before streaming (in seconds), `-f image2pipe` sets the output to be piped, and the trailing `-` to `stdout`, and `-vcodec rawvideo` specifies that the raw data frames should not be re-encoded. For a good discussion of what the `-ss` flag does, see [this post](https://superuser.com/questions/554620/how-to-get-time-stamp-of-closest-keyframe-before-a-given-timestamp-with-ffmpeg) or [this one](https://stackoverflow.com/questions/11688704/ffmpeg-inaccurate-outputs).\n",
    "\n",
    "`read_frame`: This simply reads the expected number of bytes in one image (based on pixel size) from stdout from the process launched in `initialize`; thus it should read the video frame most closely associated with time `t`. The bytes are fed and reshaped into a `numpy` array.\n",
    "\n",
    "`skip_frames`: If the query time `t` is only slightly ahead of the time with which `initialize` was most recently called, then it is more efficient to read through stdout with the current process than to `initialize` a new one at time `t`. So `skip_frames(n)` reads `n` chunks of video frames from stdout, incrementing its pointer accordingly, so that `read_frame` will then read the frame at time `t`.\n",
    "\n",
    "If we are interested in comparing absolute system timestamps, however, we need to know how these frames are being selected with the time inputs. Each frame contains the following metadata (with the command `ffprobe -i <filename> -show_frames`):\n",
    "\n",
    "```\n",
    "[FRAME]\n",
    "media_type=video\n",
    "stream_index=0\n",
    "key_frame=1\n",
    "pkt_pts=2422538728\n",
    "pkt_pts_time=2422538.728000\n",
    "pkt_dts=2422538728\n",
    "pkt_dts_time=2422538.728000\n",
    "best_effort_timestamp=2422538728\n",
    "best_effort_timestamp_time=2422538.728000\n",
    "pkt_duration=33\n",
    "pkt_duration_time=0.033000\n",
    "pkt_pos=27816\n",
    "pkt_size=21693\n",
    "width=1920\n",
    "height=1080\n",
    "pix_fmt=yuvj420p\n",
    "sample_aspect_ratio=1:1\n",
    "pict_type=I\n",
    "coded_picture_number=3\n",
    "display_picture_number=0\n",
    "interlaced_frame=0\n",
    "top_field_first=0\n",
    "repeat_pict=0\n",
    "[/FRAME]\n",
    "```\n",
    "\n",
    "and here is what `ffmpeg` knows about the file:\n",
    "\n",
    "```\n",
    "  Metadata:\n",
    "    encoder         : Guvcview Muxer-2014.04\n",
    "  Duration: 673:25:27.17, start: 2422538.660000, bitrate: 2 kb/s\n",
    "    Stream #0:0(eng): Video: h264 (Constrained Baseline), yuvj420p(pc), 1920x1080 [SAR 1:1 DAR 16:9], 30 fps, 30 tbr, 1k tbn, 60 tbc (default)\n",
    "```\n",
    "\n",
    "The system timestamps (`pkt_pts`) do not start at zero but are absolute (as intended in the change made to `guvcview`). However, `moviepy` (and thus `ffmpeg`) correctly identifies frames by relative time, despite calculating the duration of the video based on absolute time. Therefore, they can't be using these absolute timestamps to seek within the video. Instead, they must be either using the `pkt_duration_time` between frames, making `pkt_pts` relative to the first frame, or, less likely, selecting the index of the frame based on a uniform sampling rate.\n",
    "\n",
    "In any case, I think that it is safe to do the following the check for behavior/video synchronization:\n",
    "1. Get a behavior event (lick, poke, etc.).\n",
    "2. Get the system timestamp associated with the behavior event.\n",
    "3. Find the system timestamp in the video timestamp file closest to this behavior event. (This really isn't necessary, since `moviepy` takes care of that in step 5.)\n",
    "4. Calculate the relative timestamp in the video file by subtracting the timestamp of the first frame from the timestamp in step 3.\n",
    "5. Get the frame associated with the relative timestamp by calling `clip.get_frame`.\n",
    "6. Check if the behavior in step 1 is occurring in the frame.\n",
    "\n",
    "For a nice tutorial about `ffmpeg`, see [here](http://dranger.com/ffmpeg/).\n",
    "\n",
    "**Edit**: We should actually be able to obtain the input to the subprocess called by `reader` by calling `clip.reader.proc.args`. We could then reformat these into a `ffprobe` command to get the timestamps of the frame returned by `clip.get_frame`.\n",
    "\n",
    "**Edit**: Weird. Unlike `ffmpeg`, `ffprobe` cannot seek in the file by relative time by using the `-read_interval` flag, which appears to be analogous to the `-ss` flag in `ffmpeg`. This seems to be due to a difference in optional argument processing between the two. Whereas `ffmpeg` adds the time [relative to the start time](https://gitlab.websupport.sk/peter.kovar/ffmpeg-mvc/blob/master/fftools/ffmpeg_opt.c#L1113-1115), `ffprobe` [does not](https://gitlab.websupport.sk/peter.kovar/ffmpeg-mvc/blob/master/fftools/ffprobe.c#L2345-2356). (Why this causes an issue when [`ebml_read_num`](https://gitlab.websupport.sk/peter.kovar/ffmpeg-mvc/blob/master/libavformat/matroskadec.c#L821-822) is called (indirectly) by [`avformat_seek_file`](https://gitlab.websupport.sk/peter.kovar/ffmpeg-mvc/blob/master/libavformat/utils.c#L2500-2501), I'm not sure.) But the silver lining is that we can use `ffprobe` to get the start time in the file metadata:\n",
    "\n",
    "```shell\n",
    "ffprobe -i <filename> -show_entries stream=start_time -of csv=p=0\n",
    "```\n",
    "\n",
    "and then add this time to the query time in `clip.get_frame` to get the absolute system time. Or, working the other way, we use this start time to determine the query time in step 4 of the above workflow.\n",
    "\n",
    "**Note**: `FFMPEG_VideoReader` grabs the incorrect duration for the video files. The function `ffmpeg_parse_infos` uses regex on the initial `ffmpeg` output (although using `ffprobe` would be better) to search for duration. However, it expects the format HH:MM:SS(.ssssss). If there are more than 99 hours, then it would incorrectly leave off the trailing digits, as is the case with these files (since duration here is just the last timestamp, which is absolute system time). This does not, however, appear to affect performance.\n",
    "\n",
    "**Note**: `ffmpeg` incorrectly seeks for matroska or `mkv` files. Importantly, all files should be remuxed to `mp4` if not already:\n",
    "\n",
    "```shell\n",
    "ffmpeg -i <filename>.mkv -codec copy -copyts -vsync vfr <filename>.mp4\n",
    "```\n",
    "\n",
    "See the appendix for details. "
   ]
  },
  {
   "cell_type": "markdown",
   "metadata": {},
   "source": [
    "### Behavior synchronization\n",
    "Let's test the synchronization between one camera and behavior data collected on the PCB."
   ]
  },
  {
   "cell_type": "markdown",
   "metadata": {},
   "source": [
    "#### Load behavior session"
   ]
  },
  {
   "cell_type": "code",
   "execution_count": null,
   "metadata": {},
   "outputs": [],
   "source": [
    "# Create results directory\n",
    "folder_id = service.get_folder_ids(foldername='R001', \n",
    "                                   exact_match=True, \n",
    "                                   parent='track_task_analysis')\n",
    "\n",
    "# Load data file\n",
    "data_filename = base_filename + '_log.txt'\n",
    "load_fn = lambda x: np.loadtxt(x, delimiter=',')\n",
    "data = util.bytes_to_object(service.download(filename=data_filename),\n",
    "                            ob_type='numpy',\n",
    "                            load_fn=load_fn)\n",
    "\n",
    "# Load params file\n",
    "params_filename = base_filename  + '_params.json'\n",
    "params = util.bytes_to_object(service.download(filename=params_filename),\n",
    "                              ob_type='json')\n",
    "\n"
   ]
  },
  {
   "cell_type": "code",
   "execution_count": null,
   "metadata": {},
   "outputs": [],
   "source": [
    "# Create Session objects\n",
    "sess = session.TTSession(data, params)"
   ]
  },
  {
   "cell_type": "markdown",
   "metadata": {},
   "source": [
    "#### Find behavior events"
   ]
  },
  {
   "cell_type": "code",
   "execution_count": null,
   "metadata": {},
   "outputs": [],
   "source": [
    "# Sample patch times, uniformly within each patch\n",
    "idx_patch = (sess.get_patch_times()*sess.data['fs']).astype(np.int64) # row in log file\n",
    "t_patch = sess._load_data('t_os')[idx_patch.flatten()].reshape([-1, 2]) # OS clock\n",
    "r = np.random.random(t_patch.shape[0])\n",
    "patch_set = t_patch[:, 0] + np.diff(t_patch, axis=1).squeeze()*r\n",
    "\n",
    "# Sample middle third of interpatches (to avoid confusion entering/exiting patch)\n",
    "t_interpatch = t_patch.flatten()[1:-1].reshape([-1, 2])\n",
    "r = np.random.uniform(0.33, 0.66, size=t_interpatch.shape[0])\n",
    "interpatch_set = t_interpatch[:, 0] + np.diff(t_interpatch, axis=1).squeeze()*r\n",
    "\n",
    "# Get lick times\n",
    "idx_lick = (sess.get_lick_times()*sess.data['fs']).astype(np.int64) # row in log file\n",
    "lick_set = sess._load_data('t_os')[idx_lick.flatten()] # OS clock"
   ]
  },
  {
   "cell_type": "markdown",
   "metadata": {},
   "source": [
    "#### Find associated video frames\n",
    "More notes on file seeking in `ffprobe`. We want to get the frame number associated with the query times below. Now, interestingly, `ffprobe` correctly seeks (in `mp4` files) with the `read_intervals` flag using *system timestamps*; that is, while `ffmpeg` seeks time in the video relative to the start time (with `-ss`), `ffprobe` seeks in absolute time (again, in `mp4` files, at least). "
   ]
  },
  {
   "cell_type": "code",
   "execution_count": null,
   "metadata": {},
   "outputs": [],
   "source": [
    "# Create VideoFileClip object\n",
    "clip = moviepy.editor.VideoFileClip(media_dir + cam_filename)"
   ]
  },
  {
   "cell_type": "code",
   "execution_count": null,
   "metadata": {},
   "outputs": [],
   "source": [
    "# Find video frame number (long way)\n",
    "def get_frame_index(t_start, t):\n",
    "    # Get frame number using ffprobe\n",
    "    # https://stackoverflow.com/a/13332300/8066298\n",
    "    cmd = ['ffprobe',\n",
    "           '-i', media_dir + cam_filename,\n",
    "           '-select_streams', 'v',\n",
    "           '-read_intervals', '{:.6f}%{:.6f}'.format(t_start, t),\n",
    "           '-show_frames',\n",
    "           '-show_entries', 'frame=pkt_pts_time',\n",
    "           '-of', 'csv=p=0']\n",
    "    with sp.Popen(cmd, bufsize=100, stdout=sp.PIPE, stderr=sp.PIPE) as p:\n",
    "        s = sp.check_output(['wc', '-l'], stdin=p.stdout) # count number of lines\n",
    "        p.wait() # waits until process has terminated\n",
    "        n_frame = int(s.decode().strip(' \\n'))\n",
    "    \n",
    "    return n_frame"
   ]
  },
  {
   "cell_type": "code",
   "execution_count": null,
   "metadata": {
    "scrolled": true
   },
   "outputs": [],
   "source": [
    "n_samples = 50\n",
    "t_range = [-1, -1]\n",
    "\n",
    "ncols = 3\n",
    "nrows = n_samples // ncols + (n_samples % ncols > 0)\n",
    "fig, ax = plt.subplots(nrows, ncols, figsize=(5*ncols, 3*nrows))\n",
    "\n",
    "sample_set = [patch_set, interpatch_set, lick_set]\n",
    "sample_ids = ['patch', 'interpatch', 'lick']\n",
    "idx = np.random.choice(np.arange(len(sample_set)), size=n_samples)\n",
    "                \n",
    "if t_range[0] == -1:\n",
    "    t_range[0] = -np.inf\n",
    "if t_range[1] == -1:\n",
    "    t_range[1] = np.inf\n",
    "    \n",
    "for i, n in enumerate(idx):\n",
    "    # Sample event timestamp\n",
    "    t = np.inf\n",
    "    while not ((t-t_start > t_range[0]) and (t-t_start < t_range[1])):\n",
    "        set_n = sample_set[n]\n",
    "        t = float(np.random.choice(set_n, size=1))\n",
    "    \n",
    "    # Get corresponding video frame\n",
    "    frame = clip.get_frame(t - t_start)\n",
    "    #frame = get_frame(clip, t - t_start, i_interval=10.0)\n",
    "    \n",
    "    # Get frame number\n",
    "    #n_frame = get_frame_index(t_start, t)\n",
    "    n_frame = int((t-t_start)*fps) + 1 # 1-based indexing\n",
    "    \n",
    "    \n",
    "    # Plot frame\n",
    "    j = i // ncols\n",
    "    k = i % ncols\n",
    "    ax_ = ax[j, k]\n",
    "    ax_.imshow(frame)\n",
    "    ax_.set_title('{} event\\ntime {:.2f}\\nframe {}'.format(sample_ids[n], t-t_start, n_frame))\n",
    "    ax_.set_xticks([])\n",
    "    ax_.set_yticks([])\n",
    "\n",
    "# Turn off unused axes\n",
    "rem = (ncols - n_samples % ncols) % ncols\n",
    "for i in range(1, rem+1):\n",
    "    ax[-1, -i].axis('off')\n",
    "    \n",
    "plt.tight_layout()"
   ]
  },
  {
   "cell_type": "markdown",
   "metadata": {},
   "source": [
    "### Camera synchronization\n",
    "If we need to use multiple webcams to cover the entire FOV, will they remain synchronized across multiple `guvcview` subprocesses?"
   ]
  },
  {
   "cell_type": "code",
   "execution_count": null,
   "metadata": {},
   "outputs": [],
   "source": [
    "# All video files should be in media_dir\n",
    "cam_filenames = ['webcam_60min_12-05-19_1.mp4',\n",
    "                 'webcam_60min_12-05-19_2.mp4']\n",
    "ts_filenames = ['webcam_60min_12-05-19_1_ts.csv',\n",
    "                'webcam_60min_12-05-19_2_ts.csv']\n",
    "num_cams = len(cam_filenames)\n",
    "\n",
    "# Create VideoFileClip objects\n",
    "clips = []\n",
    "ts = []\n",
    "for cam_filename, ts_filename in zip(cam_filenames, ts_filenames):\n",
    "    clips.append(moviepy.editor.VideoFileClip(media_dir + cam_filename))\n",
    "    ts.append(np.loadtxt(media_dir + ts_filename))"
   ]
  },
  {
   "cell_type": "code",
   "execution_count": null,
   "metadata": {
    "scrolled": true
   },
   "outputs": [],
   "source": [
    "# Plot images from all cameras at same system time\n",
    "n_samples = 3\n",
    "crop = True\n",
    "crop_width = [700, 1220]\n",
    "crop_height = [300, 780]\n",
    "ncols = len(cam_filenames)\n",
    "nrows = n_samples\n",
    "fig, ax = plt.subplots(nrows, ncols, figsize=(10*ncols, 5*nrows))\n",
    "\n",
    "# Select random system times\n",
    "t_rand = np.random.uniform(max([ts_[0] for ts_ in ts]), \n",
    "                           min([ts_[-1] for ts_ in ts]),\n",
    "                           size=n_samples)\n",
    "\n",
    "for i, t in enumerate(t_rand):   \n",
    "    for j, clip in enumerate(clips):\n",
    "        # Get corresponding video frame\n",
    "        t_clip = t - ts[j][0]\n",
    "        frame = clip.get_frame(t_clip)\n",
    "        if crop:\n",
    "            frame = frame[crop_height[0]:crop_height[1],\n",
    "                          crop_width[0]:crop_width[1]]\n",
    "        \n",
    "        # Plot frame\n",
    "        ax_ = ax[i, j]\n",
    "        ax_.imshow(frame)\n",
    "        ax_.set_ylabel('system time {:.2f} (elapse time {:.2f})'.format(t, t_clip))\n",
    "        ax_.set_xticks([])\n",
    "        ax_.set_yticks([])\n",
    "\n",
    "# Format plot\n",
    "for j in range(len(clips)):\n",
    "    ax[0, j].set_title('Camera {}'.format(j))\n",
    "plt.tight_layout()"
   ]
  },
  {
   "cell_type": "markdown",
   "metadata": {},
   "source": [
    "## Position tracking\n",
    "We'll use DeepLabCut to track the animal's position."
   ]
  },
  {
   "cell_type": "markdown",
   "metadata": {},
   "source": [
    "### Setup"
   ]
  },
  {
   "cell_type": "code",
   "execution_count": 5,
   "metadata": {},
   "outputs": [],
   "source": [
    "import os\n",
    "os.environ['TF_CPP_MIN_LOG_LEVEL'] = '2'\n",
    "import deeplabcut as dlc"
   ]
  },
  {
   "cell_type": "markdown",
   "metadata": {},
   "source": [
    "### Create project"
   ]
  },
  {
   "cell_type": "code",
   "execution_count": 6,
   "metadata": {},
   "outputs": [],
   "source": [
    "task = 'freely-moving'\n",
    "experimenter = 'james'\n",
    "project_dir = '../dlc'\n",
    "video_dir = '/media/james/data/foraging/linear_track/dlc_videos/'\n",
    "video_filepaths = ['/'.join([video_dir, f]) for f in os.listdir(video_dir)]"
   ]
  },
  {
   "cell_type": "code",
   "execution_count": 7,
   "metadata": {},
   "outputs": [
    {
     "name": "stdout",
     "output_type": "stream",
     "text": [
      "Created \"/home/james/Documents/Projects/foraging/code/foraging-analysis/dlc/freely-moving-james-2020-05-20/videos\"\n",
      "Created \"/home/james/Documents/Projects/foraging/code/foraging-analysis/dlc/freely-moving-james-2020-05-20/labeled-data\"\n",
      "Created \"/home/james/Documents/Projects/foraging/code/foraging-analysis/dlc/freely-moving-james-2020-05-20/training-datasets\"\n",
      "Created \"/home/james/Documents/Projects/foraging/code/foraging-analysis/dlc/freely-moving-james-2020-05-20/dlc-models\"\n",
      "Creating the symbolic link of the video\n",
      "Created the symlink of /media/james/data/foraging/linear_track/dlc_videos/R002_d40_2019-09-19-1128_cam-1.mp4 to /home/james/Documents/Projects/foraging/code/foraging-analysis/dlc/freely-moving-james-2020-05-20/videos/R002_d40_2019-09-19-1128_cam-1.mp4\n",
      "Created the symlink of /media/james/data/foraging/linear_track/dlc_videos/R001_d35_2019-09-12-1211_cam-1.mp4 to /home/james/Documents/Projects/foraging/code/foraging-analysis/dlc/freely-moving-james-2020-05-20/videos/R001_d35_2019-09-12-1211_cam-1.mp4\n",
      "Created the symlink of /media/james/data/foraging/linear_track/dlc_videos/R004_d60_2019-10-17-1127_cam-1.mp4 to /home/james/Documents/Projects/foraging/code/foraging-analysis/dlc/freely-moving-james-2020-05-20/videos/R004_d60_2019-10-17-1127_cam-1.mp4\n",
      "Created the symlink of /media/james/data/foraging/linear_track/dlc_videos/R002_d51_2019-10-04-1305_cam-1.mp4 to /home/james/Documents/Projects/foraging/code/foraging-analysis/dlc/freely-moving-james-2020-05-20/videos/R002_d51_2019-10-04-1305_cam-1.mp4\n",
      "Created the symlink of /media/james/data/foraging/linear_track/dlc_videos/R001_d46_2019-09-27-1436_cam-1.mp4 to /home/james/Documents/Projects/foraging/code/foraging-analysis/dlc/freely-moving-james-2020-05-20/videos/R001_d46_2019-09-27-1436_cam-1.mp4\n",
      "Created the symlink of /media/james/data/foraging/linear_track/dlc_videos/R003_d55_2019-10-11-1138_cam-1.mp4 to /home/james/Documents/Projects/foraging/code/foraging-analysis/dlc/freely-moving-james-2020-05-20/videos/R003_d55_2019-10-11-1138_cam-1.mp4\n",
      "Created the symlink of /media/james/data/foraging/linear_track/dlc_videos/R004_d50_2019-10-03-1240_cam-1.mp4 to /home/james/Documents/Projects/foraging/code/foraging-analysis/dlc/freely-moving-james-2020-05-20/videos/R004_d50_2019-10-03-1240_cam-1.mp4\n",
      "Created the symlink of /media/james/data/foraging/linear_track/dlc_videos/R003_d41_2019-09-20-1455_cam-1.mp4 to /home/james/Documents/Projects/foraging/code/foraging-analysis/dlc/freely-moving-james-2020-05-20/videos/R003_d41_2019-09-20-1455_cam-1.mp4\n",
      "/home/james/Documents/Projects/foraging/code/foraging-analysis/dlc/freely-moving-james-2020-05-20/videos/R002_d40_2019-09-19-1128_cam-1.mp4\n",
      "/home/james/Documents/Projects/foraging/code/foraging-analysis/dlc/freely-moving-james-2020-05-20/videos/R001_d35_2019-09-12-1211_cam-1.mp4\n",
      "/home/james/Documents/Projects/foraging/code/foraging-analysis/dlc/freely-moving-james-2020-05-20/videos/R004_d60_2019-10-17-1127_cam-1.mp4\n",
      "/home/james/Documents/Projects/foraging/code/foraging-analysis/dlc/freely-moving-james-2020-05-20/videos/R002_d51_2019-10-04-1305_cam-1.mp4\n",
      "/home/james/Documents/Projects/foraging/code/foraging-analysis/dlc/freely-moving-james-2020-05-20/videos/R001_d46_2019-09-27-1436_cam-1.mp4\n",
      "/home/james/Documents/Projects/foraging/code/foraging-analysis/dlc/freely-moving-james-2020-05-20/videos/R003_d55_2019-10-11-1138_cam-1.mp4\n",
      "/home/james/Documents/Projects/foraging/code/foraging-analysis/dlc/freely-moving-james-2020-05-20/videos/R004_d50_2019-10-03-1240_cam-1.mp4\n",
      "/home/james/Documents/Projects/foraging/code/foraging-analysis/dlc/freely-moving-james-2020-05-20/videos/R003_d41_2019-09-20-1455_cam-1.mp4\n",
      "Generated \"/home/james/Documents/Projects/foraging/code/foraging-analysis/dlc/freely-moving-james-2020-05-20/config.yaml\"\n",
      "\n",
      "A new project with name freely-moving-james-2020-05-20 is created at /home/james/Documents/Projects/foraging/code/foraging-analysis/dlc and a configurable file (config.yaml) is stored there. Change the parameters in this file to adapt to your project's needs.\n",
      " Once you have changed the configuration file, use the function 'extract_frames' to select frames for labeling.\n",
      ". [OPTIONAL] Use the function 'add_new_videos' to add new videos to your project (at any stage).\n"
     ]
    }
   ],
   "source": [
    "# If creating new project\n",
    "config_path = dlc.create_new_project(task,\n",
    "                                     experimenter,\n",
    "                                     video_filepaths,\n",
    "                                     working_directory=project_dir,\n",
    "                                     copy_videos=False)"
   ]
  },
  {
   "cell_type": "code",
   "execution_count": null,
   "metadata": {},
   "outputs": [],
   "source": [
    "# If modifying existing project\n",
    "config_path = '{}/freely-moving-james-2019-10-03/config.yaml'.format(project_dir)"
   ]
  },
  {
   "cell_type": "markdown",
   "metadata": {},
   "source": [
    "At this point, we need to modify the config file found at `config_path`. This will determine how the next steps will be processed. See [here](https://github.com/AlexEMG/DeepLabCut/blob/master/docs/functionDetails.md#a-create-a-new-project) for more details."
   ]
  },
  {
   "cell_type": "markdown",
   "metadata": {},
   "source": [
    "### Extract frames\n",
    "DLC gives us the choice of either 1) automatically extracting frames for the training, or 2) manually selecting frames for the training set. Auto-extraction has two methods: 1) sample random frames uniformly across the video, or 2) sample random frames from clusters generated by applying k-means to vectorized images. The latter method has two drawbacks: 1) computationally slow (vectorizes images and then runs k-means), and 2) probably inaccurate (mice are such small part of the image that I doubt k-means will properly segregate images)).\n",
    "\n",
    "I see two potential ways of generating training data.\n",
    "- Automatic uniform: Use the DLC auto-extract feature to sample the session uniformly. While this will probably generate more unpoked than poked frames, those are probably harder and certainly much more variable, so I think it's probably fine.\n",
    "- Manual: Select frames manually using the DLC GUI. We can use the frame numbers above as guidance for events to use.\n",
    "\n",
    "By the way, the reason that we have to seek by frame number instead of timestamp is that the [DLC GUI](https://github.com/AlexEMG/DeepLabCut/blob/master/deeplabcut/generate_training_dataset/frame_extraction_toolbox.py#L370-L371) uses an `opencv.VideoCapture` object to seek in the video file, which apparently uses [frame number](https://docs.opencv.org/2.4/modules/highgui/doc/reading_and_writing_images_and_video.html#videocapture-set) instead of time."
   ]
  },
  {
   "cell_type": "markdown",
   "metadata": {},
   "source": [
    "#### Auto extraction\n",
    "Randomly sample frames uniformly across session."
   ]
  },
  {
   "cell_type": "code",
   "execution_count": 8,
   "metadata": {},
   "outputs": [
    {
     "name": "stdout",
     "output_type": "stream",
     "text": [
      "Config file read successfully.\n",
      "Do you want to extract (perhaps additional) frames for video: /media/james/data/foraging/linear_track/dlc_videos/R002_d40_2019-09-19-1128_cam-1.mp4 ?\n",
      "yes/noyes\n",
      "Extracting frames based on uniform ...\n",
      "Uniformly extracting of frames from 90.77  seconds to 1724.67  seconds.\n",
      "Do you want to extract (perhaps additional) frames for video: /media/james/data/foraging/linear_track/dlc_videos/R001_d35_2019-09-12-1211_cam-1.mp4 ?\n",
      "yes/noyes\n",
      "Extracting frames based on uniform ...\n",
      "Uniformly extracting of frames from 90.41  seconds to 1717.7  seconds.\n",
      "Do you want to extract (perhaps additional) frames for video: /media/james/data/foraging/linear_track/dlc_videos/R004_d60_2019-10-17-1127_cam-1.mp4 ?\n",
      "yes/noyes\n",
      "Extracting frames based on uniform ...\n",
      "Uniformly extracting of frames from 92.92  seconds to 1765.52  seconds.\n",
      "Do you want to extract (perhaps additional) frames for video: /media/james/data/foraging/linear_track/dlc_videos/R002_d51_2019-10-04-1305_cam-1.mp4 ?\n",
      "yes/noyes\n",
      "Extracting frames based on uniform ...\n",
      "Uniformly extracting of frames from 89.28  seconds to 1696.26  seconds.\n",
      "Do you want to extract (perhaps additional) frames for video: /media/james/data/foraging/linear_track/dlc_videos/R001_d46_2019-09-27-1436_cam-1.mp4 ?\n",
      "yes/noyes\n",
      "Extracting frames based on uniform ...\n",
      "Uniformly extracting of frames from 99.51  seconds to 1890.6  seconds.\n",
      "Do you want to extract (perhaps additional) frames for video: /media/james/data/foraging/linear_track/dlc_videos/R003_d55_2019-10-11-1138_cam-1.mp4 ?\n",
      "yes/noyes\n",
      "Extracting frames based on uniform ...\n",
      "Uniformly extracting of frames from 89.89  seconds to 1707.89  seconds.\n",
      "Do you want to extract (perhaps additional) frames for video: /media/james/data/foraging/linear_track/dlc_videos/R004_d50_2019-10-03-1240_cam-1.mp4 ?\n",
      "yes/noyes\n",
      "Extracting frames based on uniform ...\n",
      "Uniformly extracting of frames from 93.71  seconds to 1780.56  seconds.\n",
      "Do you want to extract (perhaps additional) frames for video: /media/james/data/foraging/linear_track/dlc_videos/R003_d41_2019-09-20-1455_cam-1.mp4 ?\n",
      "yes/noyes\n",
      "Extracting frames based on uniform ...\n",
      "Uniformly extracting of frames from 103.73  seconds to 1970.78  seconds.\n",
      "\n",
      "Frames were selected.\n",
      "You can now label the frames using the function 'label_frames' (if you extracted enough frames for all videos).\n"
     ]
    }
   ],
   "source": [
    "dlc.extract_frames(config_path, 'automatic', 'uniform', crop=True)"
   ]
  },
  {
   "cell_type": "markdown",
   "metadata": {},
   "source": [
    "#### Manual extraction\n",
    "Here, we can use the DLC GUI to select and crop frames (particularly using the frame numbers shown above)."
   ]
  },
  {
   "cell_type": "code",
   "execution_count": null,
   "metadata": {},
   "outputs": [],
   "source": [
    "dlc.extract_frames(config_path, 'manual')"
   ]
  },
  {
   "cell_type": "markdown",
   "metadata": {},
   "source": [
    "### Label frames\n",
    "Make sure that the config file is properly configured by applying labels to training set. We should probably choose a few points on the mice to test the robustness of the network to different body features in the videos."
   ]
  },
  {
   "cell_type": "code",
   "execution_count": null,
   "metadata": {},
   "outputs": [],
   "source": [
    "dlc.label_frames(config_path)"
   ]
  },
  {
   "cell_type": "code",
   "execution_count": null,
   "metadata": {},
   "outputs": [],
   "source": [
    "dlc.check_labels(config_path)"
   ]
  },
  {
   "cell_type": "markdown",
   "metadata": {},
   "source": [
    "### Train network"
   ]
  },
  {
   "cell_type": "code",
   "execution_count": null,
   "metadata": {},
   "outputs": [],
   "source": [
    "#print(dlc.create_training_dataset.__doc__)"
   ]
  },
  {
   "cell_type": "code",
   "execution_count": null,
   "metadata": {
    "scrolled": true
   },
   "outputs": [],
   "source": [
    "dlc.create_training_dataset(config_path, \n",
    "                            num_shuffles=1, \n",
    "                            windows2linux=False)"
   ]
  },
  {
   "cell_type": "markdown",
   "metadata": {},
   "source": [
    "Edit the network hyperparameters in `pose_cfg.yaml` configuration file generated under `dlc-models` before proceeding to the `train_network` function."
   ]
  },
  {
   "cell_type": "code",
   "execution_count": null,
   "metadata": {},
   "outputs": [],
   "source": [
    "#print(dlc.train_network.__doc__)"
   ]
  },
  {
   "cell_type": "code",
   "execution_count": null,
   "metadata": {},
   "outputs": [],
   "source": [
    "dlc.train_network(config_path,\n",
    "                  shuffle=1,\n",
    "                  gputouse=0,\n",
    "                  max_snapshots_to_keep=5)"
   ]
  },
  {
   "cell_type": "markdown",
   "metadata": {},
   "source": [
    "### Evaluate network"
   ]
  },
  {
   "cell_type": "code",
   "execution_count": 8,
   "metadata": {},
   "outputs": [],
   "source": [
    "# Get config data\n",
    "with open(config_path, 'r') as f:\n",
    "    cfg = yaml.safe_load(f) # prevents arbitrary code execution\n",
    "model_name = 'freely-movingOct3-trainset95shuffle1'"
   ]
  },
  {
   "cell_type": "markdown",
   "metadata": {},
   "source": [
    "#### Images from training and test set"
   ]
  },
  {
   "cell_type": "code",
   "execution_count": null,
   "metadata": {
    "scrolled": true
   },
   "outputs": [],
   "source": [
    "dlc.evaluate_network(config_path,\n",
    "                     plotting=True,\n",
    "                     gputouse=0)"
   ]
  },
  {
   "cell_type": "markdown",
   "metadata": {},
   "source": [
    "Note: It may be easier to use the native image viewer to scroll through the images than looking at the (small) plots below."
   ]
  },
  {
   "cell_type": "code",
   "execution_count": null,
   "metadata": {
    "scrolled": true
   },
   "outputs": [],
   "source": [
    "# Load frames\n",
    "frame_dir = '{}/evaluation-results/iteration-{}/{}/'.format(cfg['project_path'], cfg['iteration'], model_name)\n",
    "frames = [imageio.imread(f) for f in glob.glob(frame_dir + '**/*.png', recursive=True)]\n",
    "\n",
    "# Plot frames\n",
    "num_frames = 10\n",
    "ncols = 2\n",
    "nrows = num_frames // ncols + (num_frames % ncols > 0)\n",
    "fig, ax = plt.subplots(nrows, ncols, figsize=(5*ncols, 5*nrows))\n",
    "\n",
    "idx = np.random.choice(np.arange(len(frames)), size=num_frames, replace=False)\n",
    "for i, n in enumerate(idx):\n",
    "    # Plot frame\n",
    "    j = i // ncols\n",
    "    k = i % ncols\n",
    "    ax_ = ax[j, k]\n",
    "    ax_.imshow(frames[n])\n",
    "    ax_.set_xticks([])\n",
    "    ax_.set_yticks([])\n",
    "\n",
    "# Turn off unused axes\n",
    "rem = (ncols - num_frames % ncols) % ncols\n",
    "for i in range(1, rem+1):\n",
    "    ax[-1, -i].axis('off')\n",
    "    \n",
    "plt.tight_layout()"
   ]
  },
  {
   "cell_type": "markdown",
   "metadata": {},
   "source": [
    "#### Novel videos\n",
    "Here, we will extract position from novel behavior videos using the network. Then we will plot various forms of the predicted position based on simple algorithms, such as:\n",
    "- raw position\n",
    "- smoothed position\n",
    "- averaged position (between head and tail)"
   ]
  },
  {
   "cell_type": "markdown",
   "metadata": {},
   "source": [
    "##### Setup"
   ]
  },
  {
   "cell_type": "code",
   "execution_count": 9,
   "metadata": {
    "scrolled": true
   },
   "outputs": [],
   "source": [
    "video_filepaths = ['/media/james/data/foraging/linear_track/raw/19-09-25/R003_d44_2019-09-25-1437_v.mp4',\n",
    "                   '/media/james/data/foraging/linear_track/raw/19-10-03/R002_d50_2019-10-03-1323_v.mp4',\n",
    "                   '/media/james/data/foraging/linear_track/raw/19-10-16/R001_d59_2019-10-16-1140_v.mp4']\n",
    "results_dir = '{}/evaluation-results/iteration-{}/{}'.format(cfg['project_path'], cfg['iteration'], model_name)\n",
    "#print(dlc.analyze_videos.__doc__)"
   ]
  },
  {
   "cell_type": "code",
   "execution_count": null,
   "metadata": {},
   "outputs": [],
   "source": [
    "dlc.analyze_videos(config_path,\n",
    "                   video_filepaths,\n",
    "                   videotype='mp4',\n",
    "                   gputouse=0,\n",
    "                   save_as_csv=True,\n",
    "                   destfolder=results_dir)"
   ]
  },
  {
   "cell_type": "code",
   "execution_count": 11,
   "metadata": {},
   "outputs": [],
   "source": [
    "# Create list of videos to be annotated\n",
    "video_filenames = ['/media/james/data/foraging/linear_track/raw/19-09-25/R003_d44_2019-09-25-1437_v.mp4',\n",
    "                   '/media/james/data/foraging/linear_track/raw/19-10-03/R002_d50_2019-10-03-1323_v.mp4',\n",
    "                   '/media/james/data/foraging/linear_track/raw/19-10-16/R001_d59_2019-10-16-1140_v.mp4']\n",
    "pos_filenames = ['/'.join([results_dir, 'R003_d44_2019-09-25-1437_vDeepCut_resnet50_freely-movingOct3shuffle1_1030000.csv']),\n",
    "                 '/'.join([results_dir, 'R002_d50_2019-10-03-1323_vDeepCut_resnet50_freely-movingOct3shuffle1_1030000.csv']),\n",
    "                 '/'.join([results_dir, 'R001_d59_2019-10-16-1140_vDeepCut_resnet50_freely-movingOct3shuffle1_1030000.csv'])]\n",
    "\n"
   ]
  },
  {
   "cell_type": "markdown",
   "metadata": {},
   "source": [
    "##### Smoothing function"
   ]
  },
  {
   "cell_type": "code",
   "execution_count": 12,
   "metadata": {
    "scrolled": true
   },
   "outputs": [
    {
     "name": "stdout",
     "output_type": "stream",
     "text": [
      "Loading position data in /home/james/Documents/Projects/foraging/code/foraging-analysis/dlc/freely-moving/freely-moving-james-2019-10-03/evaluation-results/iteration-0/freely-movingOct3-trainset95shuffle1/R003_d44_2019-09-25-1437_vDeepCut_resnet50_freely-movingOct3shuffle1_1030000.csv...\n",
      "Column headers:\n",
      "scorer DeepCut_resnet50_freely-movingOct3shuffle1_1030000 DeepCut_resnet50_freely-movingOct3shuffle1_1030000 DeepCut_resnet50_freely-movingOct3shuffle1_1030000 DeepCut_resnet50_freely-movingOct3shuffle1_1030000 DeepCut_resnet50_freely-movingOct3shuffle1_1030000 DeepCut_resnet50_freely-movingOct3shuffle1_1030000\n",
      "bodyparts head head head tail tail tail\n",
      "coords x y likelihood x y likelihood\n",
      "Shape: (56416, 7)\n"
     ]
    }
   ],
   "source": [
    "# Load csv data\n",
    "pos_file = pos_filenames[0]\n",
    "print('Loading position data in {}...'.format(pos_file))\n",
    "with open(pos_file, 'r') as f:\n",
    "    reader = csv.reader(f)\n",
    "    print('Column headers:')\n",
    "    for i in range(3):\n",
    "        text = next(reader, None)\n",
    "        print(' '.join(text))\n",
    "pos = np.loadtxt(pos_file, skiprows=3, delimiter=',')\n",
    "print('Shape:', pos.shape) "
   ]
  },
  {
   "cell_type": "code",
   "execution_count": 134,
   "metadata": {},
   "outputs": [],
   "source": [
    "def preprocess_position(pos, thresh=0.99):\n",
    "    pos_ = np.empty([pos.shape[0], 2, 2])\n",
    "    pos_[:, :, :] = np.nan\n",
    "\n",
    "    # Step 1: Get all high-confidence values for head\n",
    "    idx_head = (pos[:, 3] >= thresh)\n",
    "    pos_[idx_head, 0, 0] = pos[idx_head, 1]\n",
    "    pos_[idx_head, 1, 0] = pos[idx_head, 2]\n",
    "\n",
    "    # Step 2: Get all high-confidence values for tail\n",
    "    idx_tail = (pos[:, 6] >= thresh)\n",
    "    pos_[idx_tail, 0, 1] = pos[idx_tail, 4]\n",
    "    pos_[idx_tail, 1, 1] = pos[idx_tail, 5]\n",
    "\n",
    "    # Step 3: Combine head and tail data (averaging when have both)\n",
    "    pos_ = np.nanmean(pos_, axis=2)\n",
    "\n",
    "    # Step 4: Smooth to avoid jitteriness\n",
    "    for i in range(pos_.shape[1]):\n",
    "        pos_[:, i] = helper.med_filt(pos_[:, i], n=15, ignore_nan=True)\n",
    "\n",
    "    # Step 5: Fill in remaining NaNs with linear interpolation\n",
    "    for i in range(pos_.shape[1]):\n",
    "        idx_nan = np.isnan(pos_[:, i])\n",
    "        pos_[idx_nan, i] = np.interp(np.argwhere(idx_nan).flatten(),\n",
    "                                     np.argwhere(~idx_nan).flatten(),\n",
    "                                     pos_[~idx_nan, i])\n",
    "        \n",
    "    return pos_"
   ]
  },
  {
   "cell_type": "code",
   "execution_count": 133,
   "metadata": {},
   "outputs": [
    {
     "data": {
      "text/plain": [
       "[<matplotlib.lines.Line2D at 0x7fc8c0a67240>,\n",
       " <matplotlib.lines.Line2D at 0x7fc8c0a67390>]"
      ]
     },
     "execution_count": 133,
     "metadata": {},
     "output_type": "execute_result"
    },
    {
     "data": {
      "image/png": "[encoded data removed]",
      "text/plain": [
       "<Figure size 432x288 with 1 Axes>"
      ]
     },
     "metadata": {
      "needs_background": "light"
     },
     "output_type": "display_data"
    }
   ],
   "source": [
    "plt.plot(preprocess_position(pos))"
   ]
  },
  {
   "cell_type": "markdown",
   "metadata": {},
   "source": [
    "##### Annotate videos"
   ]
  },
  {
   "cell_type": "code",
   "execution_count": 10,
   "metadata": {},
   "outputs": [],
   "source": [
    "# No preprocessed data\n",
    "def annotate(n, ax, pos, thresh=0.90):\n",
    "    # Placeholder\n",
    "    parts_visible = 0\n",
    "    mean = np.array([0.0, 0.0])\n",
    "    \n",
    "    # Annotate head\n",
    "    if pos[n, 3] > thresh:\n",
    "        xy = np.array([pos[n, 1], pos[n, 2]])\n",
    "        circle = plt.Circle(xy, radius=10, color='red')\n",
    "        ax.add_artist(circle)\n",
    "        mean += xy\n",
    "        parts_visible += 1\n",
    "    \n",
    "    # Annotate tail\n",
    "    if pos[n, 6] > thresh:\n",
    "        xy = np.array([pos[n, 4], pos[n, 5]])\n",
    "        circle = plt.Circle(xy, radius=10, color='blue')\n",
    "        ax.add_artist(circle)\n",
    "        mean += xy\n",
    "        parts_visible += 1\n",
    "        \n",
    "    # Plot mean\n",
    "    if parts_visible > 0:\n",
    "        circle = plt.Circle(mean/parts_visible, radius=10, color='green')\n",
    "        ax.add_artist(circle)"
   ]
  },
  {
   "cell_type": "code",
   "execution_count": 136,
   "metadata": {},
   "outputs": [],
   "source": [
    "# Preprocessed data\n",
    "def annotate(n, ax, pos, **kwargs):\n",
    "    xy = np.array([pos[n, 0], pos[n, 1]])\n",
    "    circle = plt.Circle(xy, radius=10, color='green')\n",
    "    ax.add_artist(circle)"
   ]
  },
  {
   "cell_type": "code",
   "execution_count": 137,
   "metadata": {
    "scrolled": true
   },
   "outputs": [
    {
     "name": "stdout",
     "output_type": "stream",
     "text": [
      "Loading position data in /home/james/Documents/Projects/foraging/code/foraging-analysis/dlc/freely-moving/freely-moving-james-2019-10-03/evaluation-results/iteration-0/freely-movingOct3-trainset95shuffle1/R003_d44_2019-09-25-1437_vDeepCut_resnet50_freely-movingOct3shuffle1_1030000.csv...\n",
      "Column headers:\n",
      "scorer DeepCut_resnet50_freely-movingOct3shuffle1_1030000 DeepCut_resnet50_freely-movingOct3shuffle1_1030000 DeepCut_resnet50_freely-movingOct3shuffle1_1030000 DeepCut_resnet50_freely-movingOct3shuffle1_1030000 DeepCut_resnet50_freely-movingOct3shuffle1_1030000 DeepCut_resnet50_freely-movingOct3shuffle1_1030000\n",
      "bodyparts head head head tail tail tail\n",
      "coords x y likelihood x y likelihood\n",
      "Shape: (56416, 7)\n",
      "Starting to annotate video in /media/james/data/foraging/linear_track/raw/19-09-25/R003_d44_2019-09-25-1437_v.mp4...\n"
     ]
    },
    {
     "name": "stderr",
     "output_type": "stream",
     "text": [
      "Process 240.0-300.0 seconds:\n",
      "Traceback (most recent call last):\n",
      "  File \"/home/james/anaconda3/envs/dlc-ubuntu-GPU/lib/python3.6/multiprocessing/process.py\", line 258, in _bootstrap\n",
      "    self.run()\n",
      "  File \"/home/james/anaconda3/envs/dlc-ubuntu-GPU/lib/python3.6/multiprocessing/process.py\", line 93, in run\n",
      "    self._target(*self._args, **self._kwargs)\n",
      "  File \"../python/util.py\", line 1234, in _process_chunk\n",
      "    raise UserWarning('Some frames may be skipped in chunk {}.'.format(n))\n",
      "UserWarning: Some frames may be skipped in chunk 4.\n",
      "Process 180.0-240.0 seconds:\n",
      "Traceback (most recent call last):\n",
      "  File \"/home/james/anaconda3/envs/dlc-ubuntu-GPU/lib/python3.6/multiprocessing/process.py\", line 258, in _bootstrap\n",
      "    self.run()\n",
      "  File \"/home/james/anaconda3/envs/dlc-ubuntu-GPU/lib/python3.6/multiprocessing/process.py\", line 93, in run\n",
      "    self._target(*self._args, **self._kwargs)\n",
      "  File \"../python/util.py\", line 1234, in _process_chunk\n",
      "    raise UserWarning('Some frames may be skipped in chunk {}.'.format(n))\n",
      "UserWarning: Some frames may be skipped in chunk 3.\n",
      "Process 300.0-360.0 seconds:\n",
      "Traceback (most recent call last):\n",
      "  File \"/home/james/anaconda3/envs/dlc-ubuntu-GPU/lib/python3.6/multiprocessing/process.py\", line 258, in _bootstrap\n",
      "    self.run()\n",
      "  File \"/home/james/anaconda3/envs/dlc-ubuntu-GPU/lib/python3.6/multiprocessing/process.py\", line 93, in run\n",
      "    self._target(*self._args, **self._kwargs)\n",
      "  File \"../python/util.py\", line 1234, in _process_chunk\n",
      "    raise UserWarning('Some frames may be skipped in chunk {}.'.format(n))\n",
      "UserWarning: Some frames may be skipped in chunk 5.\n",
      "Process 720.0-780.0 seconds:\n",
      "Traceback (most recent call last):\n",
      "  File \"/home/james/anaconda3/envs/dlc-ubuntu-GPU/lib/python3.6/multiprocessing/process.py\", line 258, in _bootstrap\n",
      "    self.run()\n",
      "  File \"/home/james/anaconda3/envs/dlc-ubuntu-GPU/lib/python3.6/multiprocessing/process.py\", line 93, in run\n",
      "    self._target(*self._args, **self._kwargs)\n",
      "  File \"../python/util.py\", line 1234, in _process_chunk\n",
      "    raise UserWarning('Some frames may be skipped in chunk {}.'.format(n))\n",
      "UserWarning: Some frames may be skipped in chunk 12.\n",
      "Process 900.0-960.0 seconds:\n",
      "Traceback (most recent call last):\n",
      "  File \"/home/james/anaconda3/envs/dlc-ubuntu-GPU/lib/python3.6/multiprocessing/process.py\", line 258, in _bootstrap\n",
      "    self.run()\n",
      "  File \"/home/james/anaconda3/envs/dlc-ubuntu-GPU/lib/python3.6/multiprocessing/process.py\", line 93, in run\n",
      "    self._target(*self._args, **self._kwargs)\n",
      "  File \"../python/util.py\", line 1234, in _process_chunk\n",
      "    raise UserWarning('Some frames may be skipped in chunk {}.'.format(n))\n",
      "UserWarning: Some frames may be skipped in chunk 15.\n",
      "Process 780.0-840.0 seconds:\n",
      "Traceback (most recent call last):\n",
      "  File \"/home/james/anaconda3/envs/dlc-ubuntu-GPU/lib/python3.6/multiprocessing/process.py\", line 258, in _bootstrap\n",
      "    self.run()\n",
      "  File \"/home/james/anaconda3/envs/dlc-ubuntu-GPU/lib/python3.6/multiprocessing/process.py\", line 93, in run\n",
      "    self._target(*self._args, **self._kwargs)\n",
      "  File \"../python/util.py\", line 1234, in _process_chunk\n",
      "    raise UserWarning('Some frames may be skipped in chunk {}.'.format(n))\n",
      "UserWarning: Some frames may be skipped in chunk 13.\n",
      "Process 840.0-900.0 seconds:\n",
      "Traceback (most recent call last):\n",
      "  File \"/home/james/anaconda3/envs/dlc-ubuntu-GPU/lib/python3.6/multiprocessing/process.py\", line 258, in _bootstrap\n",
      "    self.run()\n",
      "  File \"/home/james/anaconda3/envs/dlc-ubuntu-GPU/lib/python3.6/multiprocessing/process.py\", line 93, in run\n",
      "    self._target(*self._args, **self._kwargs)\n",
      "  File \"../python/util.py\", line 1234, in _process_chunk\n",
      "    raise UserWarning('Some frames may be skipped in chunk {}.'.format(n))\n",
      "UserWarning: Some frames may be skipped in chunk 14.\n",
      "Process 1320.0-1380.0 seconds:\n",
      "Traceback (most recent call last):\n",
      "  File \"/home/james/anaconda3/envs/dlc-ubuntu-GPU/lib/python3.6/multiprocessing/process.py\", line 258, in _bootstrap\n",
      "    self.run()\n",
      "  File \"/home/james/anaconda3/envs/dlc-ubuntu-GPU/lib/python3.6/multiprocessing/process.py\", line 93, in run\n",
      "    self._target(*self._args, **self._kwargs)\n",
      "  File \"../python/util.py\", line 1234, in _process_chunk\n",
      "    raise UserWarning('Some frames may be skipped in chunk {}.'.format(n))\n",
      "UserWarning: Some frames may be skipped in chunk 22.\n",
      "Process 1260.0-1320.0 seconds:\n",
      "Traceback (most recent call last):\n",
      "  File \"/home/james/anaconda3/envs/dlc-ubuntu-GPU/lib/python3.6/multiprocessing/process.py\", line 258, in _bootstrap\n",
      "    self.run()\n",
      "  File \"/home/james/anaconda3/envs/dlc-ubuntu-GPU/lib/python3.6/multiprocessing/process.py\", line 93, in run\n",
      "    self._target(*self._args, **self._kwargs)\n",
      "  File \"../python/util.py\", line 1234, in _process_chunk\n",
      "    raise UserWarning('Some frames may be skipped in chunk {}.'.format(n))\n",
      "UserWarning: Some frames may be skipped in chunk 21.\n",
      "Process 1860.0-1920.0 seconds:\n",
      "Traceback (most recent call last):\n",
      "  File \"/home/james/anaconda3/envs/dlc-ubuntu-GPU/lib/python3.6/multiprocessing/process.py\", line 258, in _bootstrap\n",
      "    self.run()\n",
      "  File \"/home/james/anaconda3/envs/dlc-ubuntu-GPU/lib/python3.6/multiprocessing/process.py\", line 93, in run\n",
      "    self._target(*self._args, **self._kwargs)\n",
      "  File \"../python/util.py\", line 1218, in _process_chunk\n",
      "    fig = self._annotate_frame(n_frame, frame)\n",
      "  File \"../python/util.py\", line 1262, in _annotate_frame\n",
      "    self._annotate_fn(n_frame, ax, **self._annotate_kwargs)\n",
      "  File \"<ipython-input-136-e81b74d51e50>\", line 3, in annotate\n",
      "    xy = np.array([pos[n, 0], pos[n, 1]])\n",
      "IndexError: index 56416 is out of bounds for axis 0 with size 56416\n",
      "Process 1800.0-1860.0 seconds:\n",
      "Traceback (most recent call last):\n",
      "  File \"/home/james/anaconda3/envs/dlc-ubuntu-GPU/lib/python3.6/multiprocessing/process.py\", line 258, in _bootstrap\n",
      "    self.run()\n",
      "  File \"/home/james/anaconda3/envs/dlc-ubuntu-GPU/lib/python3.6/multiprocessing/process.py\", line 93, in run\n",
      "    self._target(*self._args, **self._kwargs)\n",
      "  File \"../python/util.py\", line 1234, in _process_chunk\n",
      "    raise UserWarning('Some frames may be skipped in chunk {}.'.format(n))\n",
      "UserWarning: Some frames may be skipped in chunk 30.\n"
     ]
    },
    {
     "name": "stdout",
     "output_type": "stream",
     "text": [
      "Finished in 4664.25 seconds.\n",
      "\n",
      "Loading position data in /home/james/Documents/Projects/foraging/code/foraging-analysis/dlc/freely-moving/freely-moving-james-2019-10-03/evaluation-results/iteration-0/freely-movingOct3-trainset95shuffle1/R002_d50_2019-10-03-1323_vDeepCut_resnet50_freely-movingOct3shuffle1_1030000.csv...\n",
      "Column headers:\n",
      "scorer DeepCut_resnet50_freely-movingOct3shuffle1_1030000 DeepCut_resnet50_freely-movingOct3shuffle1_1030000 DeepCut_resnet50_freely-movingOct3shuffle1_1030000 DeepCut_resnet50_freely-movingOct3shuffle1_1030000 DeepCut_resnet50_freely-movingOct3shuffle1_1030000 DeepCut_resnet50_freely-movingOct3shuffle1_1030000\n",
      "bodyparts head head head tail tail tail\n",
      "coords x y likelihood x y likelihood\n",
      "Shape: (53537, 7)\n",
      "Starting to annotate video in /media/james/data/foraging/linear_track/raw/19-10-03/R002_d50_2019-10-03-1323_v.mp4...\n"
     ]
    },
    {
     "name": "stderr",
     "output_type": "stream",
     "text": [
      "Process 240.0-300.0 seconds:\n",
      "Traceback (most recent call last):\n",
      "  File \"/home/james/anaconda3/envs/dlc-ubuntu-GPU/lib/python3.6/multiprocessing/process.py\", line 258, in _bootstrap\n",
      "    self.run()\n",
      "  File \"/home/james/anaconda3/envs/dlc-ubuntu-GPU/lib/python3.6/multiprocessing/process.py\", line 93, in run\n",
      "    self._target(*self._args, **self._kwargs)\n",
      "  File \"../python/util.py\", line 1234, in _process_chunk\n",
      "    raise UserWarning('Some frames may be skipped in chunk {}.'.format(n))\n",
      "UserWarning: Some frames may be skipped in chunk 4.\n",
      "Process 300.0-360.0 seconds:\n",
      "Traceback (most recent call last):\n",
      "  File \"/home/james/anaconda3/envs/dlc-ubuntu-GPU/lib/python3.6/multiprocessing/process.py\", line 258, in _bootstrap\n",
      "    self.run()\n",
      "  File \"/home/james/anaconda3/envs/dlc-ubuntu-GPU/lib/python3.6/multiprocessing/process.py\", line 93, in run\n",
      "    self._target(*self._args, **self._kwargs)\n",
      "  File \"../python/util.py\", line 1234, in _process_chunk\n",
      "    raise UserWarning('Some frames may be skipped in chunk {}.'.format(n))\n",
      "UserWarning: Some frames may be skipped in chunk 5.\n",
      "Process 360.0-420.0 seconds:\n",
      "Traceback (most recent call last):\n",
      "  File \"/home/james/anaconda3/envs/dlc-ubuntu-GPU/lib/python3.6/multiprocessing/process.py\", line 258, in _bootstrap\n",
      "    self.run()\n",
      "  File \"/home/james/anaconda3/envs/dlc-ubuntu-GPU/lib/python3.6/multiprocessing/process.py\", line 93, in run\n",
      "    self._target(*self._args, **self._kwargs)\n",
      "  File \"../python/util.py\", line 1234, in _process_chunk\n",
      "    raise UserWarning('Some frames may be skipped in chunk {}.'.format(n))\n",
      "UserWarning: Some frames may be skipped in chunk 6.\n",
      "Process 780.0-840.0 seconds:\n",
      "Traceback (most recent call last):\n",
      "  File \"/home/james/anaconda3/envs/dlc-ubuntu-GPU/lib/python3.6/multiprocessing/process.py\", line 258, in _bootstrap\n",
      "    self.run()\n",
      "  File \"/home/james/anaconda3/envs/dlc-ubuntu-GPU/lib/python3.6/multiprocessing/process.py\", line 93, in run\n",
      "    self._target(*self._args, **self._kwargs)\n",
      "  File \"../python/util.py\", line 1234, in _process_chunk\n",
      "    raise UserWarning('Some frames may be skipped in chunk {}.'.format(n))\n",
      "UserWarning: Some frames may be skipped in chunk 13.\n",
      "Process 960.0-1020.0 seconds:\n",
      "Traceback (most recent call last):\n",
      "  File \"/home/james/anaconda3/envs/dlc-ubuntu-GPU/lib/python3.6/multiprocessing/process.py\", line 258, in _bootstrap\n",
      "    self.run()\n",
      "  File \"/home/james/anaconda3/envs/dlc-ubuntu-GPU/lib/python3.6/multiprocessing/process.py\", line 93, in run\n",
      "    self._target(*self._args, **self._kwargs)\n",
      "  File \"../python/util.py\", line 1234, in _process_chunk\n",
      "    raise UserWarning('Some frames may be skipped in chunk {}.'.format(n))\n",
      "UserWarning: Some frames may be skipped in chunk 16.\n",
      "Process 840.0-900.0 seconds:\n",
      "Traceback (most recent call last):\n",
      "  File \"/home/james/anaconda3/envs/dlc-ubuntu-GPU/lib/python3.6/multiprocessing/process.py\", line 258, in _bootstrap\n",
      "    self.run()\n",
      "  File \"/home/james/anaconda3/envs/dlc-ubuntu-GPU/lib/python3.6/multiprocessing/process.py\", line 93, in run\n",
      "    self._target(*self._args, **self._kwargs)\n",
      "  File \"../python/util.py\", line 1234, in _process_chunk\n",
      "    raise UserWarning('Some frames may be skipped in chunk {}.'.format(n))\n",
      "UserWarning: Some frames may be skipped in chunk 14.\n",
      "Process 900.0-960.0 seconds:\n",
      "Traceback (most recent call last):\n",
      "  File \"/home/james/anaconda3/envs/dlc-ubuntu-GPU/lib/python3.6/multiprocessing/process.py\", line 258, in _bootstrap\n",
      "    self.run()\n",
      "  File \"/home/james/anaconda3/envs/dlc-ubuntu-GPU/lib/python3.6/multiprocessing/process.py\", line 93, in run\n",
      "    self._target(*self._args, **self._kwargs)\n",
      "  File \"../python/util.py\", line 1234, in _process_chunk\n",
      "    raise UserWarning('Some frames may be skipped in chunk {}.'.format(n))\n",
      "UserWarning: Some frames may be skipped in chunk 15.\n",
      "Process 1380.0-1440.0 seconds:\n",
      "Traceback (most recent call last):\n",
      "  File \"/home/james/anaconda3/envs/dlc-ubuntu-GPU/lib/python3.6/multiprocessing/process.py\", line 258, in _bootstrap\n",
      "    self.run()\n",
      "  File \"/home/james/anaconda3/envs/dlc-ubuntu-GPU/lib/python3.6/multiprocessing/process.py\", line 93, in run\n",
      "    self._target(*self._args, **self._kwargs)\n",
      "  File \"../python/util.py\", line 1234, in _process_chunk\n",
      "    raise UserWarning('Some frames may be skipped in chunk {}.'.format(n))\n",
      "UserWarning: Some frames may be skipped in chunk 23.\n",
      "Process 1320.0-1380.0 seconds:\n",
      "Traceback (most recent call last):\n",
      "  File \"/home/james/anaconda3/envs/dlc-ubuntu-GPU/lib/python3.6/multiprocessing/process.py\", line 258, in _bootstrap\n",
      "    self.run()\n",
      "  File \"/home/james/anaconda3/envs/dlc-ubuntu-GPU/lib/python3.6/multiprocessing/process.py\", line 93, in run\n",
      "    self._target(*self._args, **self._kwargs)\n",
      "  File \"../python/util.py\", line 1234, in _process_chunk\n",
      "    raise UserWarning('Some frames may be skipped in chunk {}.'.format(n))\n",
      "UserWarning: Some frames may be skipped in chunk 22.\n",
      "Process 1740.0-1800.0 seconds:\n",
      "Traceback (most recent call last):\n",
      "  File \"/home/james/anaconda3/envs/dlc-ubuntu-GPU/lib/python3.6/multiprocessing/process.py\", line 258, in _bootstrap\n",
      "    self.run()\n",
      "  File \"/home/james/anaconda3/envs/dlc-ubuntu-GPU/lib/python3.6/multiprocessing/process.py\", line 93, in run\n",
      "    self._target(*self._args, **self._kwargs)\n",
      "  File \"../python/util.py\", line 1218, in _process_chunk\n",
      "    fig = self._annotate_frame(n_frame, frame)\n",
      "  File \"../python/util.py\", line 1259, in _annotate_frame\n",
      "    ax.imshow(frame)\n",
      "  File \"/home/james/anaconda3/envs/dlc-ubuntu-GPU/lib/python3.6/site-packages/matplotlib/__init__.py\", line 1810, in inner\n",
      "    return func(ax, *args, **kwargs)\n",
      "  File \"/home/james/anaconda3/envs/dlc-ubuntu-GPU/lib/python3.6/site-packages/matplotlib/axes/_axes.py\", line 5494, in imshow\n",
      "    im.set_data(X)\n",
      "  File \"/home/james/anaconda3/envs/dlc-ubuntu-GPU/lib/python3.6/site-packages/matplotlib/image.py\", line 634, in set_data\n",
      "    raise TypeError(\"Image data cannot be converted to float\")\n",
      "TypeError: Image data cannot be converted to float\n",
      "Process 1500.0-1560.0 seconds:\n",
      "Traceback (most recent call last):\n",
      "  File \"/home/james/anaconda3/envs/dlc-ubuntu-GPU/lib/python3.6/multiprocessing/process.py\", line 258, in _bootstrap\n",
      "    self.run()\n",
      "  File \"/home/james/anaconda3/envs/dlc-ubuntu-GPU/lib/python3.6/multiprocessing/process.py\", line 93, in run\n",
      "    self._target(*self._args, **self._kwargs)\n",
      "  File \"../python/util.py\", line 1234, in _process_chunk\n",
      "    raise UserWarning('Some frames may be skipped in chunk {}.'.format(n))\n",
      "UserWarning: Some frames may be skipped in chunk 25.\n"
     ]
    },
    {
     "name": "stdout",
     "output_type": "stream",
     "text": [
      "Finished in 4016.29 seconds.\n",
      "\n",
      "Loading position data in /home/james/Documents/Projects/foraging/code/foraging-analysis/dlc/freely-moving/freely-moving-james-2019-10-03/evaluation-results/iteration-0/freely-movingOct3-trainset95shuffle1/R001_d59_2019-10-16-1140_vDeepCut_resnet50_freely-movingOct3shuffle1_1030000.csv...\n",
      "Column headers:\n",
      "scorer DeepCut_resnet50_freely-movingOct3shuffle1_1030000 DeepCut_resnet50_freely-movingOct3shuffle1_1030000 DeepCut_resnet50_freely-movingOct3shuffle1_1030000 DeepCut_resnet50_freely-movingOct3shuffle1_1030000 DeepCut_resnet50_freely-movingOct3shuffle1_1030000 DeepCut_resnet50_freely-movingOct3shuffle1_1030000\n",
      "bodyparts head head head tail tail tail\n",
      "coords x y likelihood x y likelihood\n",
      "Shape: (53300, 7)\n",
      "Starting to annotate video in /media/james/data/foraging/linear_track/raw/19-10-16/R001_d59_2019-10-16-1140_v.mp4...\n"
     ]
    },
    {
     "name": "stderr",
     "output_type": "stream",
     "text": [
      "Process 0.0-60.0 seconds:\n",
      "Traceback (most recent call last):\n",
      "  File \"/home/james/anaconda3/envs/dlc-ubuntu-GPU/lib/python3.6/multiprocessing/process.py\", line 258, in _bootstrap\n",
      "    self.run()\n",
      "  File \"/home/james/anaconda3/envs/dlc-ubuntu-GPU/lib/python3.6/multiprocessing/process.py\", line 93, in run\n",
      "    self._target(*self._args, **self._kwargs)\n",
      "  File \"../python/util.py\", line 1234, in _process_chunk\n",
      "    raise UserWarning('Some frames may be skipped in chunk {}.'.format(n))\n",
      "UserWarning: Some frames may be skipped in chunk 0.\n",
      "Process 60.0-120.0 seconds:\n",
      "Traceback (most recent call last):\n",
      "  File \"/home/james/anaconda3/envs/dlc-ubuntu-GPU/lib/python3.6/multiprocessing/process.py\", line 258, in _bootstrap\n",
      "    self.run()\n",
      "  File \"/home/james/anaconda3/envs/dlc-ubuntu-GPU/lib/python3.6/multiprocessing/process.py\", line 93, in run\n",
      "    self._target(*self._args, **self._kwargs)\n",
      "  File \"../python/util.py\", line 1234, in _process_chunk\n",
      "    raise UserWarning('Some frames may be skipped in chunk {}.'.format(n))\n",
      "UserWarning: Some frames may be skipped in chunk 1.\n",
      "Process 480.0-540.0 seconds:\n",
      "Traceback (most recent call last):\n",
      "  File \"/home/james/anaconda3/envs/dlc-ubuntu-GPU/lib/python3.6/multiprocessing/process.py\", line 258, in _bootstrap\n",
      "    self.run()\n",
      "  File \"/home/james/anaconda3/envs/dlc-ubuntu-GPU/lib/python3.6/multiprocessing/process.py\", line 93, in run\n",
      "    self._target(*self._args, **self._kwargs)\n",
      "  File \"../python/util.py\", line 1234, in _process_chunk\n",
      "    raise UserWarning('Some frames may be skipped in chunk {}.'.format(n))\n",
      "UserWarning: Some frames may be skipped in chunk 8.\n",
      "Process 540.0-600.0 seconds:\n",
      "Traceback (most recent call last):\n",
      "  File \"/home/james/anaconda3/envs/dlc-ubuntu-GPU/lib/python3.6/multiprocessing/process.py\", line 258, in _bootstrap\n",
      "    self.run()\n",
      "  File \"/home/james/anaconda3/envs/dlc-ubuntu-GPU/lib/python3.6/multiprocessing/process.py\", line 93, in run\n",
      "    self._target(*self._args, **self._kwargs)\n",
      "  File \"../python/util.py\", line 1234, in _process_chunk\n",
      "    raise UserWarning('Some frames may be skipped in chunk {}.'.format(n))\n",
      "UserWarning: Some frames may be skipped in chunk 9.\n",
      "Process 600.0-660.0 seconds:\n",
      "Traceback (most recent call last):\n",
      "  File \"/home/james/anaconda3/envs/dlc-ubuntu-GPU/lib/python3.6/multiprocessing/process.py\", line 258, in _bootstrap\n",
      "    self.run()\n",
      "  File \"/home/james/anaconda3/envs/dlc-ubuntu-GPU/lib/python3.6/multiprocessing/process.py\", line 93, in run\n",
      "    self._target(*self._args, **self._kwargs)\n",
      "  File \"../python/util.py\", line 1234, in _process_chunk\n",
      "    raise UserWarning('Some frames may be skipped in chunk {}.'.format(n))\n",
      "UserWarning: Some frames may be skipped in chunk 10.\n",
      "Process 1020.0-1080.0 seconds:\n",
      "Traceback (most recent call last):\n",
      "  File \"/home/james/anaconda3/envs/dlc-ubuntu-GPU/lib/python3.6/multiprocessing/process.py\", line 258, in _bootstrap\n",
      "    self.run()\n",
      "  File \"/home/james/anaconda3/envs/dlc-ubuntu-GPU/lib/python3.6/multiprocessing/process.py\", line 93, in run\n",
      "    self._target(*self._args, **self._kwargs)\n",
      "  File \"../python/util.py\", line 1234, in _process_chunk\n",
      "    raise UserWarning('Some frames may be skipped in chunk {}.'.format(n))\n",
      "UserWarning: Some frames may be skipped in chunk 17.\n",
      "Process 1080.0-1140.0 seconds:\n",
      "Traceback (most recent call last):\n",
      "  File \"/home/james/anaconda3/envs/dlc-ubuntu-GPU/lib/python3.6/multiprocessing/process.py\", line 258, in _bootstrap\n",
      "    self.run()\n",
      "  File \"/home/james/anaconda3/envs/dlc-ubuntu-GPU/lib/python3.6/multiprocessing/process.py\", line 93, in run\n",
      "    self._target(*self._args, **self._kwargs)\n",
      "  File \"../python/util.py\", line 1234, in _process_chunk\n",
      "    raise UserWarning('Some frames may be skipped in chunk {}.'.format(n))\n",
      "UserWarning: Some frames may be skipped in chunk 18.\n",
      "Process 1140.0-1200.0 seconds:\n",
      "Traceback (most recent call last):\n",
      "  File \"/home/james/anaconda3/envs/dlc-ubuntu-GPU/lib/python3.6/multiprocessing/process.py\", line 258, in _bootstrap\n",
      "    self.run()\n",
      "  File \"/home/james/anaconda3/envs/dlc-ubuntu-GPU/lib/python3.6/multiprocessing/process.py\", line 93, in run\n",
      "    self._target(*self._args, **self._kwargs)\n",
      "  File \"../python/util.py\", line 1234, in _process_chunk\n",
      "    raise UserWarning('Some frames may be skipped in chunk {}.'.format(n))\n",
      "UserWarning: Some frames may be skipped in chunk 19.\n",
      "Process 1740.0-1800.0 seconds:\n",
      "Traceback (most recent call last):\n",
      "  File \"/home/james/anaconda3/envs/dlc-ubuntu-GPU/lib/python3.6/multiprocessing/process.py\", line 258, in _bootstrap\n",
      "    self.run()\n",
      "  File \"/home/james/anaconda3/envs/dlc-ubuntu-GPU/lib/python3.6/multiprocessing/process.py\", line 93, in run\n",
      "    self._target(*self._args, **self._kwargs)\n",
      "  File \"../python/util.py\", line 1218, in _process_chunk\n",
      "    fig = self._annotate_frame(n_frame, frame)\n",
      "  File \"../python/util.py\", line 1259, in _annotate_frame\n",
      "    ax.imshow(frame)\n",
      "  File \"/home/james/anaconda3/envs/dlc-ubuntu-GPU/lib/python3.6/site-packages/matplotlib/__init__.py\", line 1810, in inner\n",
      "    return func(ax, *args, **kwargs)\n",
      "  File \"/home/james/anaconda3/envs/dlc-ubuntu-GPU/lib/python3.6/site-packages/matplotlib/axes/_axes.py\", line 5494, in imshow\n",
      "    im.set_data(X)\n",
      "  File \"/home/james/anaconda3/envs/dlc-ubuntu-GPU/lib/python3.6/site-packages/matplotlib/image.py\", line 634, in set_data\n",
      "    raise TypeError(\"Image data cannot be converted to float\")\n",
      "TypeError: Image data cannot be converted to float\n",
      "Process 1620.0-1680.0 seconds:\n",
      "Traceback (most recent call last):\n",
      "  File \"/home/james/anaconda3/envs/dlc-ubuntu-GPU/lib/python3.6/multiprocessing/process.py\", line 258, in _bootstrap\n",
      "    self.run()\n",
      "  File \"/home/james/anaconda3/envs/dlc-ubuntu-GPU/lib/python3.6/multiprocessing/process.py\", line 93, in run\n",
      "    self._target(*self._args, **self._kwargs)\n",
      "  File \"../python/util.py\", line 1234, in _process_chunk\n",
      "    raise UserWarning('Some frames may be skipped in chunk {}.'.format(n))\n",
      "UserWarning: Some frames may be skipped in chunk 27.\n",
      "Process 1560.0-1620.0 seconds:\n",
      "Traceback (most recent call last):\n",
      "  File \"/home/james/anaconda3/envs/dlc-ubuntu-GPU/lib/python3.6/multiprocessing/process.py\", line 258, in _bootstrap\n",
      "    self.run()\n",
      "  File \"/home/james/anaconda3/envs/dlc-ubuntu-GPU/lib/python3.6/multiprocessing/process.py\", line 93, in run\n",
      "    self._target(*self._args, **self._kwargs)\n",
      "  File \"../python/util.py\", line 1234, in _process_chunk\n",
      "    raise UserWarning('Some frames may be skipped in chunk {}.'.format(n))\n",
      "UserWarning: Some frames may be skipped in chunk 26.\n"
     ]
    },
    {
     "name": "stdout",
     "output_type": "stream",
     "text": [
      "Finished in 3978.09 seconds.\n",
      "\n"
     ]
    }
   ],
   "source": [
    "# Annotate settings\n",
    "num_workers = 6\n",
    "chunk_size = 60.0\n",
    "frame_limit = 200\n",
    "\n",
    "# Annotate each video\n",
    "for video_file, pos_file in zip(video_filenames, pos_filenames):\n",
    "    # Load csv data\n",
    "    print('Loading position data in {}...'.format(pos_file))\n",
    "    with open(pos_file, 'r') as f:\n",
    "        reader = csv.reader(f)\n",
    "        print('Column headers:')\n",
    "        for i in range(3):\n",
    "            text = next(reader, None)\n",
    "            print(' '.join(text))\n",
    "    pos = np.loadtxt(pos_file, skiprows=3, delimiter=',')\n",
    "    print('Shape:', pos.shape)  \n",
    "    \n",
    "    # Smooth position data\n",
    "    pos = preprocess_position(pos)\n",
    "    \n",
    "    # Annotate video\n",
    "    print('Starting to annotate video in {}...'.format(video_file))\n",
    "    vid = util.VideoAnnotator(video_file,\n",
    "                              annotate_fn=annotate,\n",
    "                              annotate_kwargs={'pos': pos, 'thresh': 0.9},\n",
    "                              chunk_size=chunk_size,\n",
    "                              output_filename=None,\n",
    "                              output_resolution=[640, 360],\n",
    "                              frame_limit=frame_limit)\n",
    "    t = time.time()\n",
    "    vid.run(max_workers=num_workers, verbose=False)\n",
    "    print('Finished in {:.2f} seconds.\\n'.format(time.time() - t))"
   ]
  },
  {
   "cell_type": "markdown",
   "metadata": {},
   "source": [
    "## Video compression\n",
    "The webcam videos may be recorded in 'MJPEG' format, which preserves quality at the expense of very large file sizes. We need to pull down videos from Google Drive, compress them locally, and re-upload the compressed version to the same Google Drive folder."
   ]
  },
  {
   "cell_type": "markdown",
   "metadata": {},
   "source": [
    "### Imports"
   ]
  },
  {
   "cell_type": "code",
   "execution_count": 1,
   "metadata": {},
   "outputs": [
    {
     "name": "stdout",
     "output_type": "stream",
     "text": [
      "pygame 1.9.6\n",
      "Hello from the pygame community. https://www.pygame.org/contribute.html\n",
      "mountainlab_pytools module not installed. Some functions from the ephys package may not be available.\n"
     ]
    }
   ],
   "source": [
    "# Numerical tools\n",
    "import numpy as np\n",
    "import math\n",
    "\n",
    "# Plotting tools\n",
    "import matplotlib.pyplot as plt\n",
    "\n",
    "# OS tools\n",
    "import os\n",
    "from tempfile import TemporaryFile\n",
    "import time\n",
    "import subprocess as sp\n",
    "import getpass\n",
    "\n",
    "# Video tools\n",
    "import moviepy\n",
    "import moviepy.editor\n",
    "\n",
    "# Custom modules\n",
    "import sys\n",
    "sys.path.insert(0, '../python/')\n",
    "import util\n",
    "import session\n",
    "import plot\n",
    "import analysis"
   ]
  },
  {
   "cell_type": "markdown",
   "metadata": {
    "tags": []
   },
   "source": [
    "### Load video file"
   ]
  },
  {
   "cell_type": "code",
   "execution_count": 33,
   "metadata": {},
   "outputs": [
    {
     "data": {
      "text/plain": [
       "<module 'util' from '../python/util.py'>"
      ]
     },
     "execution_count": 33,
     "metadata": {},
     "output_type": "execute_result"
    }
   ],
   "source": [
    "import importlib\n",
    "importlib.reload(util)"
   ]
  },
  {
   "cell_type": "code",
   "execution_count": 34,
   "metadata": {},
   "outputs": [],
   "source": [
    "service = util.GoogleDriveService()"
   ]
  },
  {
   "cell_type": "code",
   "execution_count": 20,
   "metadata": {},
   "outputs": [],
   "source": [
    "folder_id = service.get_file_ids(filename='Projects',\n",
    "                                 mime_type='application/vnd.google-apps.folder',\n",
    "                                 exact_match=True)[0]"
   ]
  },
  {
   "cell_type": "code",
   "execution_count": 27,
   "metadata": {},
   "outputs": [],
   "source": [
    "# Have to do this the hard way...\n",
    "# https://stackoverflow.com/a/62655764\n",
    "filepath = '/Projects/foraging/data/freely_moving/'\n",
    "folders = [f for f in filepath.split('/') if len(f) > 0]"
   ]
  },
  {
   "cell_type": "code",
   "execution_count": 35,
   "metadata": {},
   "outputs": [],
   "source": [
    "folder_ids = service.get_file_ids(mime_type='application/vnd.google-apps.folder',\n",
    "                                  pageSize=1000)"
   ]
  },
  {
   "cell_type": "code",
   "execution_count": null,
   "metadata": {},
   "outputs": [],
   "source": [
    "media_dir = '/media/james/data/foraging/linear_track/raw/19-10-03/' # where to download\n",
    "base_filename = 'R002_d50_2019-10-03-1323'\n",
    "cam_filename = base_filename + '_cam-1.mkv' # if comparing to behavior session\n",
    "#cam_filename = base_filename + '.mkv' # if comparing videos"
   ]
  },
  {
   "cell_type": "code",
   "execution_count": null,
   "metadata": {},
   "outputs": [],
   "source": [
    "# Allow read/write permissions from directory\n",
    "password = getpass.getpass()\n",
    "command = 'sudo -S chmod 777 %s' % media_dir # -S enables input from stdin\n",
    "os.system('echo %s | %s' % (password, command));"
   ]
  },
  {
   "cell_type": "code",
   "execution_count": null,
   "metadata": {},
   "outputs": [],
   "source": [
    "# Download video file\n",
    "with open(media_dir + cam_filename, 'wb') as f:\n",
    "    service.download(filename=cam_filename,\n",
    "                     chunk_size=1024*1024*100,\n",
    "                     file_object=f)"
   ]
  },
  {
   "cell_type": "markdown",
   "metadata": {},
   "source": [
    "#### Preprocess video"
   ]
  },
  {
   "cell_type": "code",
   "execution_count": null,
   "metadata": {},
   "outputs": [],
   "source": [
    "# Convert to mp4 format if not already\n",
    "if not cam_filename.lower().endswith('.mp4'):\n",
    "    new_filename = '.'.join(cam_filename.split('.')[:-1]) + '.mp4'\n",
    "    cmd = ['ffmpeg',\n",
    "           '-i', media_dir + cam_filename,\n",
    "           '-codec', 'copy',\n",
    "           '-copyts',\n",
    "           '-vsync', 'vfr',\n",
    "           media_dir + new_filename]\n",
    "    cam_filename = new_filename\n",
    "    with sp.Popen(cmd) as p:\n",
    "        p.wait()"
   ]
  },
  {
   "cell_type": "code",
   "execution_count": null,
   "metadata": {},
   "outputs": [],
   "source": [
    "# Get frame rate using ffprobe\n",
    "cmd = ['ffprobe',\n",
    "       '-i', media_dir + cam_filename,\n",
    "       '-select_streams', 'v',\n",
    "       '-show_streams',\n",
    "       '-show_entries', 'stream=avg_frame_rate',\n",
    "       '-of', 'csv=p=0']\n",
    "with sp.Popen(cmd, bufsize=100, stdout=sp.PIPE, stderr=sp.PIPE) as p:\n",
    "    p.wait() # waits until process has terminated\n",
    "    s = p.stdout.read(100)\n",
    "    fps = s.decode().split(',')[0].strip(' \\n')\n",
    "    fps = round(float(fps.split('/')[0]) / float(fps.split('/')[1]))\n",
    "    \n",
    "print(fps)"
   ]
  },
  {
   "cell_type": "code",
   "execution_count": null,
   "metadata": {},
   "outputs": [],
   "source": [
    "# Get start time using ffprobe\n",
    "cmd = ['ffprobe',\n",
    "       '-i', media_dir + cam_filename,\n",
    "       '-select_streams', 'v',\n",
    "       '-show_entries', 'stream=start_time',\n",
    "       '-of', 'csv=p=0']\n",
    "with sp.Popen(cmd, bufsize=100, stdout=sp.PIPE, stderr=sp.PIPE) as p:\n",
    "    p.wait() # waits until process has terminated\n",
    "    s = p.stdout.read(100)\n",
    "    t_start = float(s.decode().strip(' \\n'))"
   ]
  },
  {
   "cell_type": "code",
   "execution_count": null,
   "metadata": {},
   "outputs": [],
   "source": [
    "# Extract timestamps\n",
    "# https://superuser.com/questions/841872/how-do-i-extract-the-timestamps-associated-with-frames-ffmpeg-extracts-from-a-vi\n",
    "ts_filename = base_filename + '_ts.csv'\n",
    "cmd = ['ffprobe',\n",
    "       '-i', media_dir + cam_filename,\n",
    "       '-select_streams', 'v',\n",
    "       '-show_frames',\n",
    "       '-show_entries', 'frame=pkt_pts_time',\n",
    "       '-of', 'csv=p=0']\n",
    "with open(media_dir+ts_filename, 'w') as f, \\\n",
    "     sp.Popen(cmd, stdout=f, stderr=sp.PIPE) as p:\n",
    "    p.wait()"
   ]
  },
  {
   "cell_type": "code",
   "execution_count": null,
   "metadata": {},
   "outputs": [],
   "source": [
    "# Load timestamps\n",
    "ts = np.loadtxt(media_dir + ts_filename)\n",
    "assert ts[0] == t_start\n",
    "duration = ts[-1] - ts[0]"
   ]
  },
  {
   "cell_type": "code",
   "execution_count": null,
   "metadata": {},
   "outputs": [],
   "source": []
  },
  {
   "cell_type": "code",
   "execution_count": null,
   "metadata": {},
   "outputs": [],
   "source": []
  },
  {
   "cell_type": "markdown",
   "metadata": {},
   "source": [
    "## Appendix"
   ]
  },
  {
   "cell_type": "markdown",
   "metadata": {},
   "source": [
    "### Seeking in mkv files\n",
    "File seeking in `mkv` (for instance, in the `VideoFileClip.get_frame` method) is unreliable for some reason. There could be a couple of explanations for this. The stack trace (top-down) for a seek call using the `-ss` flag is as follows:\n",
    "\n",
    "Note how start time is added to the requested timestamp (value after `-ss`).\n",
    "```c\n",
    "static int open_input_file(OptionsContext *o, const char *filename\n",
    "{\n",
    "    ...\n",
    "    timestamp = (o->start_time == AV_NOPTS_VALUE) ? 0 : o->start_time;\n",
    "    /* add the stream start time */\n",
    "    if (!o->seek_timestamp && ic->start_time != AV_NOPTS_VALUE)\n",
    "        timestamp += ic->start_time;\n",
    "\n",
    "    /* if seeking requested, we execute it */\n",
    "    if (o->start_time != AV_NOPTS_VALUE) {\n",
    "        int64_t seek_timestamp = timestamp;\n",
    "\n",
    "        if (!(ic->iformat->flags & AVFMT_SEEK_TO_PTS)) {\n",
    "            int dts_heuristic = 0;\n",
    "            for (i=0; i<ic->nb_streams; i++) {\n",
    "                const AVCodecParameters *par = ic->streams[i]->codecpar;\n",
    "                if (par->video_delay) {\n",
    "                    dts_heuristic = 1;\n",
    "                    break;\n",
    "                }\n",
    "            }\n",
    "            if (dts_heuristic) {\n",
    "                seek_timestamp -= 3*AV_TIME_BASE / 23;\n",
    "            }\n",
    "        }\n",
    "        ret = avformat_seek_file(ic, -1, INT64_MIN, seek_timestamp, seek_timestamp, 0);\n",
    "        if (ret < 0) {\n",
    "            av_log(NULL, AV_LOG_WARNING, \"%s: could not seek to position %0.3f\\n\",\n",
    "                   filename, (double)timestamp / AV_TIME_BASE);\n",
    "        }\n",
    "    }\n",
    "    ...\n",
    "}\n",
    "``` \n",
    "[link](https://github.com/FFmpeg/FFmpeg/blob/master/fftools/ffmpeg_opt.c#L1160-1187)\n",
    "\n",
    "Because we get the warning \"could not seek to position\", we know that `avformat_seek_file` must at some point return `-1`. This method attempts to call a `read_seek2` if the `AVFormatContext` (in this case `MatroskaDemuxContext`) has it; otherwise, it falls back on the original `read_seek` method.\n",
    "```c\n",
    "int avformat_seek_file(AVFormatContext *s, int stream_index, int64_t min_ts,\n",
    "                       int64_t ts, int64_t max_ts, int flags)\n",
    "{\n",
    "    ...\n",
    "    if (s->iformat->read_seek2) {\n",
    "        ...\n",
    "    }\n",
    "    ...\n",
    "    if (s->iformat->read_timestamp) {\n",
    "        // try to seek via read_timestamp()\n",
    "    }\n",
    "\n",
    "    // Fall back on old API if new is not implemented but old is.\n",
    "    // Note the old API has somewhat different semantics.\n",
    "    if (s->iformat->read_seek || 1) {\n",
    "        int dir = (ts - (uint64_t)min_ts > (uint64_t)max_ts - ts ? AVSEEK_FLAG_BACKWARD : 0);\n",
    "        int ret = av_seek_frame(s, stream_index, ts, flags | dir);\n",
    "        if (ret<0 && ts != min_ts && max_ts != ts) {\n",
    "            ret = av_seek_frame(s, stream_index, dir ? max_ts : min_ts, flags | dir);\n",
    "            if (ret >= 0)\n",
    "                ret = av_seek_frame(s, stream_index, ts, flags | (dir^AVSEEK_FLAG_BACKWARD));\n",
    "        }\n",
    "        return ret;\n",
    "    } \n",
    "    ...\n",
    "}\n",
    "```\n",
    "\n",
    "As can be seen from the `MatroskaDemuxContext`, only a `read_seek` method is defined:\n",
    "```c\n",
    "AVInputFormat ff_matroska_demuxer = {\n",
    "    .name           = \"matroska,webm\",\n",
    "    .long_name      = NULL_IF_CONFIG_SMALL(\"Matroska / WebM\"),\n",
    "    .extensions     = \"mkv,mk3d,mka,mks\",\n",
    "    .priv_data_size = sizeof(MatroskaDemuxContext),\n",
    "    .read_probe     = matroska_probe,\n",
    "    .read_header    = matroska_read_header,\n",
    "    .read_packet    = matroska_read_packet,\n",
    "    .read_close     = matroska_read_close,\n",
    "    .read_seek      = matroska_read_seek,\n",
    "    .mime_type      = \"audio/webm,audio/x-matroska,video/webm,video/x-matroska\"\n",
    "};\n",
    "```\n",
    "[link](https://github.com/FFmpeg/FFmpeg/blob/master/libavformat/matroskadec.c#L4050)\n",
    "\n",
    "So `read_seek` called from `avformat_seek_file` goes to (`av_seek_file`, which goes to `seek_frame_internal`, which calls) `matroska_read_seek`:\n",
    "```c\n",
    "static int matroska_read_seek(AVFormatContext *s, int stream_index,\n",
    "                              int64_t timestamp, int flags)\n",
    "{\n",
    "    ...\n",
    "    timestamp = FFMAX(timestamp, st->index_entries[0].timestamp);\n",
    "\n",
    "    if ((index = av_index_search_timestamp(st, timestamp, flags)) < 0 || index == st->nb_index_entries - 1) {\n",
    "        matroska_reset_status(matroska, 0, st->index_entries[st->nb_index_entries - 1].pos);\n",
    "        while ((index = av_index_search_timestamp(st, timestamp, flags)) < 0 || index == st->nb_index_entries - 1) {\n",
    "            matroska_clear_queue(matroska);\n",
    "            if (matroska_parse_cluster(matroska) < 0)\n",
    "                break;\n",
    "        }\n",
    "    }\n",
    "\n",
    "    matroska_clear_queue(matroska);\n",
    "    if (index < 0 || (matroska->cues_parsing_deferred < 0 && index == st->nb_index_entries - 1))\n",
    "        goto err;\n",
    "\n",
    "    tracks = matroska->tracks.elem;\n",
    "    for (i = 0; i < matroska->tracks.nb_elem; i++) {\n",
    "        tracks[i].audio.pkt_cnt        = 0;\n",
    "        tracks[i].audio.sub_packet_cnt = 0;\n",
    "        tracks[i].audio.buf_timecode   = AV_NOPTS_VALUE;\n",
    "        tracks[i].end_timecode         = 0;\n",
    "    }\n",
    "\n",
    "    /* We seek to a level 1 element, so set the appropriate status. */\n",
    "    matroska_reset_status(matroska, 0, st->index_entries[index].pos);\n",
    "    if (flags & AVSEEK_FLAG_ANY) {\n",
    "        st->skip_to_keyframe = 0;\n",
    "        matroska->skip_to_timecode = timestamp;\n",
    "    } else {\n",
    "        st->skip_to_keyframe = 1;\n",
    "        matroska->skip_to_timecode = st->index_entries[index].timestamp;\n",
    "    }\n",
    "    matroska->skip_to_keyframe = 1;\n",
    "    matroska->done             = 0;\n",
    "    ff_update_cur_dts(s, st, st->index_entries[index].timestamp);\n",
    "    return 0;\n",
    "err:\n",
    "    // slightly hackish but allows proper fallback to\n",
    "    // the generic seeking code.\n",
    "    matroska_reset_status(matroska, 0, -1);\n",
    "    matroska->resync_pos = -1;\n",
    "    matroska_clear_queue(matroska);\n",
    "    st->skip_to_keyframe =\n",
    "    matroska->skip_to_keyframe = 0;\n",
    "    matroska->done = 0;\n",
    "    return -1;\n",
    "}\n",
    "```\n",
    "[link](https://github.com/FFmpeg/FFmpeg/blob/master/libavformat/matroskadec.c#L3765-3811)\n",
    "\n",
    "This function has to return `-1` at some point, which means that it must go to `err`. The `index` returned by `av_index_search_timestamp` comes from `ff_index_search_timestamp`, which performs a binary search of the time window:\n",
    "\n",
    "```c\n",
    "int ff_index_search_timestamp(const AVIndexEntry *entries, int nb_entries,\n",
    "                              int64_t wanted_timestamp, int flags)\n",
    "{\n",
    "    int a, b, m;\n",
    "    int64_t timestamp;\n",
    "\n",
    "    a = -1;\n",
    "    b = nb_entries;\n",
    "\n",
    "    // Optimize appending index entries at the end.\n",
    "    if (b && entries[b - 1].timestamp < wanted_timestamp)\n",
    "        a = b - 1;\n",
    "\n",
    "    while (b - a > 1) {\n",
    "        m         = (a + b) >> 1;\n",
    "\n",
    "        // Search for the next non-discarded packet.\n",
    "        while ((entries[m].flags & AVINDEX_DISCARD_FRAME) && m < b && m < nb_entries - 1) {\n",
    "            m++;\n",
    "            if (m == b && entries[m].timestamp >= wanted_timestamp) {\n",
    "                m = b - 1;\n",
    "                break;\n",
    "            }\n",
    "        }\n",
    "\n",
    "        timestamp = entries[m].timestamp;\n",
    "        if (timestamp >= wanted_timestamp)\n",
    "            b = m;\n",
    "        if (timestamp <= wanted_timestamp)\n",
    "            a = m;\n",
    "    }\n",
    "    m = (flags & AVSEEK_FLAG_BACKWARD) ? a : b;\n",
    "\n",
    "    if (!(flags & AVSEEK_FLAG_ANY))\n",
    "        while (m >= 0 && m < nb_entries &&\n",
    "               !(entries[m].flags & AVINDEX_KEYFRAME))\n",
    "            m += (flags & AVSEEK_FLAG_BACKWARD) ? -1 : 1;\n",
    "\n",
    "    if (m == nb_entries)\n",
    "        return -1;\n",
    "    return m;\n",
    "}\n",
    "```\n",
    "[link](https://github.com/FFmpeg/FFmpeg/blob/master/libavformat/utils.c#L2053-2094)\n",
    "\n",
    "\n",
    "This could be resulting in `index = -1` and leading us to `err`. However, we also get the following warning in the `ffmpeg` output:\n",
    "\n",
    "```shell\n",
    "[matroska,webm @ 0x19cd9e0] Invalid EBML number size tag 0x01 at pos 782 (0x30e)\n",
    "```\n",
    "\n",
    "Note the call to `matroska_parse_cluster` in `matroska_read_seek`; particularly, if it returns `-1`, this could also lead to `err`. `matroska_parse_cluster` calls `ebml_parse`([link](https://github.com/FFmpeg/FFmpeg/blob/master/libavformat/matroskadec.c#L1163)), which, depending on the version of `ffmpeg`, can lead to the warning shown above.\n",
    "\n",
    "So in conclusion, the issue with seeking in matroska files is probably due to one of two things: either a problem with reformatting timestamps in the `read_seek` code block instead of `read_seek2`, or a problem parsing EBML numbers for some frames (why, I'm not sure). In any case, remuxing (but *not* transcoding) to `mp4` seems to fix the seeking issues:\n",
    "\n",
    "```shell\n",
    "ffmpeg -i <filename>.mkv -codec copy -copyts -vsync vfr <filename>.mp4\n",
    "```\n",
    "\n",
    "The `-copyts` flag is important; otherwise, `pts` will be re-encoded from zero in the new file. Additionally, setting `-vsync` to `vfr` allows frames to pass through with their timestamps rather than being duplicated or dropped to maintain a constant frame rate (`cfr`). Although this doesn't appear to make a difference on videos re-muxed so far, the `mp4` demuxer defaults to `cfr`, whereas the `mkv` muxer defaults to `vfr`, so it's probably worth specifying `vfr` just to be safe. The internal frame rate (`r_frame_rate`) may increase to better match timestamps, but this won't affect the actual number of frames. (see [here](https://superuser.com/questions/602950/problems-with-frame-rate-on-video-conversion-using-ffmpeg-with-libx264) or [here](https://video.stackexchange.com/questions/20789/ffmpeg-default-output-frame-rate) for more details) The `pts` may change as well, but that is due to a change in `time_base`; `pkt_pts_time` and `pkt_dts_time` should remain the same, since `pkt_pts` = `time_base` * `pkt_pts_time`."
   ]
  },
  {
   "cell_type": "code",
   "execution_count": null,
   "metadata": {},
   "outputs": [],
   "source": [
    "pts_audio = np.loadtxt('/media/james/data/foraging/linear_track/raw/19-10-03/pts_audio.txt')\n",
    "pts_video = np.loadtxt('/media/james/data/foraging/linear_track/raw/19-10-03/pts_video.txt')"
   ]
  },
  {
   "cell_type": "code",
   "execution_count": null,
   "metadata": {},
   "outputs": [],
   "source": [
    "plt.plot(np.arange(len(pts_audio))[:500]/len(pts_audio), pts_audio[:500])\n",
    "plt.plot(np.arange(len(pts_video))[:500]/len(pts_video), pts_video[:500])"
   ]
  },
  {
   "cell_type": "code",
   "execution_count": null,
   "metadata": {},
   "outputs": [],
   "source": [
    "import scipy\n",
    "pts_audio_interp = scipy.interpolate.interp1d(np.arange(len(pts_audio))/len(pts_audio), pts_audio)\n",
    "pts_video_interp = scipy.interpolate.interp1d(np.arange(len(pts_video))/len(pts_video), pts_video)"
   ]
  },
  {
   "cell_type": "code",
   "execution_count": null,
   "metadata": {},
   "outputs": [],
   "source": [
    "tt = np.linspace(0.0, 0.99, 10000)\n",
    "plt.plot(pts_video_interp(tt) - pts_audio_interp(tt))"
   ]
  },
  {
   "cell_type": "code",
   "execution_count": null,
   "metadata": {},
   "outputs": [],
   "source": [
    "from scipy.io import wavfile\n",
    "\n",
    "audio_filename = '/media/james/data/foraging/linear_track/raw/19-10-03/audio.wav'\n",
    "fs, data = wavfile.read(audio_filename)"
   ]
  },
  {
   "cell_type": "code",
   "execution_count": null,
   "metadata": {},
   "outputs": [],
   "source": [
    "plt.plot(data/2**15)"
   ]
  }
 ],
 "metadata": {
  "kernelspec": {
   "display_name": "Python (behavior)",
   "language": "python",
   "name": "behavior"
  },
  "language_info": {
   "codemirror_mode": {
    "name": "ipython",
    "version": 3
   },
   "file_extension": ".py",
   "mimetype": "text/x-python",
   "name": "python",
   "nbconvert_exporter": "python",
   "pygments_lexer": "ipython3",
   "version": "3.7.3"
  }
 },
 "nbformat": 4,
 "nbformat_minor": 4
}
