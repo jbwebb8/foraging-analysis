{
 "cells": [
  {
   "cell_type": "markdown",
   "metadata": {},
   "source": [
    "## Temporary free-lick task analysis"
   ]
  },
  {
   "cell_type": "markdown",
   "metadata": {},
   "source": [
    "### Initial setup"
   ]
  },
  {
   "cell_type": "code",
   "execution_count": 19,
   "metadata": {},
   "outputs": [],
   "source": [
    "# Global imports\n",
    "import numpy as np\n",
    "import matplotlib.pyplot as plt\n",
    "% matplotlib inline\n",
    "\n",
    "# Math packages\n",
    "import math\n",
    "from scipy.optimize import broyden1\n",
    "import scipy.signal as signal\n",
    "from scipy.signal import spectrogram\n",
    "\n",
    "# Data file processing\n",
    "import os\n",
    "import re\n",
    "import h5py # if using -v7.3 mat data\n",
    "#import scipy.io as sio # if using -v7 mat data\n",
    "from scipy.stats import norm # for z-score calculation"
   ]
  },
  {
   "cell_type": "code",
   "execution_count": 2,
   "metadata": {},
   "outputs": [],
   "source": [
    "# Recursive algorithm for finding files\n",
    "def find_files(path, files):\n",
    "    # If path is file, then append to list\n",
    "    if os.path.isfile(path):\n",
    "        files.append(path)\n",
    "        return\n",
    "    \n",
    "    # Otherwise, iterate through all children (files/subdirectories)\n",
    "    for f in os.listdir(path):\n",
    "        _ = find_files(os.path.join(path, f), files)    \n",
    "        \n",
    "    return files"
   ]
  },
  {
   "cell_type": "code",
   "execution_count": 3,
   "metadata": {},
   "outputs": [],
   "source": [
    "def flatten_list(a):\n",
    "    \"\"\"Converts list of arrays into single 1D array\"\"\"\n",
    "    # Determine total number of elements in list\n",
    "    n = 0\n",
    "    for a_i in a:\n",
    "        n += a_i.size\n",
    "        \n",
    "    # Build flattened array\n",
    "    a_flat = np.zeros(n)\n",
    "    j = 0\n",
    "    for i, a_i in enumerate(a):\n",
    "        a_flat[j:j+a_i.size] = a_i.flatten()\n",
    "        j += a_i.size\n",
    "    \n",
    "    return a_flat"
   ]
  },
  {
   "cell_type": "code",
   "execution_count": 4,
   "metadata": {},
   "outputs": [],
   "source": [
    "def remove_outliers(a, thresh=2.0):\n",
    "    mean = np.mean(a)\n",
    "    std = np.std(a)\n",
    "    return a[np.logical_and(a > mean-thresh*std, a < mean+thresh*std)]"
   ]
  },
  {
   "cell_type": "code",
   "execution_count": 5,
   "metadata": {},
   "outputs": [],
   "source": [
    "cmap = plt.get_cmap('Greys')"
   ]
  },
  {
   "cell_type": "markdown",
   "metadata": {},
   "source": [
    "### Create filelist"
   ]
  },
  {
   "cell_type": "code",
   "execution_count": 9,
   "metadata": {},
   "outputs": [],
   "source": [
    "# Experiment parameters\n",
    "mouse_id = 'j6z5'\n",
    "exp_name = 'free_lick\\\\%s' % mouse_id\n",
    "exp_desc = 'data shape = [session, reward_thresh, num_sims]\\n' \\\n",
    "           + 'included only first few sessions for old walk-bout data'\n",
    "results_dir = 'G:\\\\My Drive\\\\Projects\\\\foraging\\\\data\\\\simulation_data\\\\%s\\\\' % exp_name\n",
    "if not os.path.isdir(results_dir):\n",
    "    os.mkdir(results_dir)"
   ]
  },
  {
   "cell_type": "code",
   "execution_count": 10,
   "metadata": {},
   "outputs": [
    {
     "name": "stdout",
     "output_type": "stream",
     "text": [
      "Files to analyze:\n",
      "Day  Filename\n",
      " 2:  Y:\\James\\data\\ChamberB\\12-21-18\\j6z5_d02_2018_12_21_11_42_36.mat\n",
      " 3:  Y:\\James\\data\\ChamberB\\12-27-18\\j6z5_d03_2018_12_27_14_55_25.mat\n",
      " 4:  Y:\\James\\data\\ChamberA\\12-28-18\\j6z5_d04_2018_12_28_15_01_30.mat\n",
      " 5:  Y:\\James\\data\\ChamberB\\12-31-18\\j6z5_d05_2018_12_31_14_32_59.mat\n",
      " 6:  Y:\\James\\data\\ChamberB\\01-02-19\\j6z5_d06_2019_01_02_14_56_10.mat\n",
      " 9:  Y:\\James\\data\\ChamberA\\01-07-19\\j6z5_d09_2019_01_07_09_41_51.mat\n",
      "10:  Y:\\James\\data\\ChamberA\\01-08-19\\j6z5_d10_2019_01_08_14_54_05.mat\n",
      "12:  Y:\\James\\data\\ChamberA\\01-10-19\\j6z5_d12_2019_01_10_16_05_41.mat\n",
      "13:  Y:\\James\\data\\ChamberB\\01-11-19\\j6z5_d13_2019_01_11_12_36_54.mat\n",
      "14:  Y:\\James\\data\\ChamberA\\01-14-19\\j6z5_d14_2019_01_14_11_33_17.mat\n",
      "15:  Y:\\James\\data\\ChamberA\\01-15-19\\j6z5_d15_2019_01_15_10_49_29.mat\n",
      "16:  Y:\\James\\data\\ChamberB\\01-16-19\\j6z5_d16_2019_01_16_11_13_15.mat\n",
      "17:  Y:\\James\\data\\ChamberA\\01-17-19\\j6z5_d17_2019_01_17_12_35_28.mat\n",
      "21:  Y:\\James\\data\\ChamberB\\01-29-19\\j6z5_d21_2019_01_29_12_33_05.mat\n",
      "22:  Y:\\James\\data\\ChamberB\\1-30-19\\j6z5_d22_2019_01_30_15_45_40.mat\n",
      "24:  Y:\\James\\data\\ChamberA\\2-1-19\\j6z5_d24_2019_02_01_13_57_46.mat\n",
      "25:  Y:\\James\\data\\ChamberA\\2-4-19\\j6z5_d25_2019_02_04_13_06_14.mat\n"
     ]
    }
   ],
   "source": [
    "# Settings\n",
    "root = 'Y:\\\\James\\\\data\\\\' # root directory of all data files\n",
    "exclude_str = 'Sound'\n",
    "\n",
    "# Filter files by matlab extension, mouse ID\n",
    "files = find_files(root, [])\n",
    "filelist = []\n",
    "ext = '.mat'\n",
    "for file in files:\n",
    "    if (file.endswith(ext)\n",
    "        and mouse_id in file\n",
    "        and exclude_str not in file):\n",
    "        filelist.append(file)\n",
    "\n",
    "# Find training days of all files\n",
    "training_days = np.zeros(len(filelist), dtype=np.int16)\n",
    "for i, f in enumerate(filelist):\n",
    "    match = re.search('_d[0-9]+_', f)\n",
    "    if match is not None:\n",
    "        training_days[i] = int(match.group()[2:-1])\n",
    "    else:\n",
    "        training_days[i] = -1\n",
    "\n",
    "# Sort filenames and save associated training days\n",
    "keep_idx = (training_days >= 0)\n",
    "training_days = training_days[keep_idx]\n",
    "filelist = [f for i, f in enumerate(filelist) if keep_idx[i]]\n",
    "sort_idx = np.argsort(training_days)\n",
    "filelist = [filelist[i] for i in sort_idx]\n",
    "training_days = np.sort(training_days)\n",
    "\n",
    "# Check filelist\n",
    "print('Files to analyze:')\n",
    "print('Day  Filename')\n",
    "for day, f in zip(training_days, filelist):\n",
    "    print('%2d: ' % day, f)"
   ]
  },
  {
   "cell_type": "markdown",
   "metadata": {},
   "source": [
    "### Harvest rate"
   ]
  },
  {
   "cell_type": "code",
   "execution_count": 11,
   "metadata": {},
   "outputs": [
    {
     "name": "stdout",
     "output_type": "stream",
     "text": [
      "Processing session 2 of 25...\n",
      "Processing session 3 of 25...\n",
      "Processing session 4 of 25...\n",
      "Processing session 5 of 25...\n",
      "Processing session 6 of 25...\n",
      "Processing session 9 of 25...\n",
      "Processing session 10 of 25...\n",
      "Processing session 12 of 25...\n",
      "Processing session 13 of 25...\n",
      "Processing session 14 of 25...\n",
      "Processing session 15 of 25...\n",
      "Processing session 16 of 25...\n",
      "Processing session 17 of 25...\n",
      "Processing session 21 of 25...\n",
      "Processing session 22 of 25...\n",
      "Processing session 24 of 25...\n",
      "Processing session 25 of 25...\n"
     ]
    }
   ],
   "source": [
    "hr = np.zeros(len(filelist))\n",
    "for i, filename in enumerate(filelist):\n",
    "    with h5py.File(filename) as f:\n",
    "        print('Processing session %d of %d...' % (training_days[i], training_days[-1]))\n",
    "        \n",
    "        t_total = (f['UntitledWheelTime']['Data'][0, -1])\n",
    "        r_total = np.sum(f['UntitledRewarduL']['Data'])\n",
    "        hr[i] = r_total / t_total"
   ]
  },
  {
   "cell_type": "markdown",
   "metadata": {},
   "source": [
    "### Patch residence time and travel time"
   ]
  },
  {
   "cell_type": "code",
   "execution_count": 12,
   "metadata": {},
   "outputs": [
    {
     "name": "stdout",
     "output_type": "stream",
     "text": [
      "Processing session 2 of 25...\n",
      "Processing session 3 of 25...\n",
      "Processing session 4 of 25...\n",
      "Processing session 5 of 25...\n",
      "Processing session 6 of 25...\n",
      "Processing session 9 of 25...\n",
      "Processing session 10 of 25...\n",
      "Processing session 12 of 25...\n",
      "Processing session 13 of 25...\n",
      "Processing session 14 of 25...\n",
      "Processing session 15 of 25...\n",
      "Processing session 16 of 25...\n",
      "Processing session 17 of 25...\n",
      "Processing session 21 of 25...\n",
      "Processing session 22 of 25...\n",
      "Processing session 24 of 25...\n",
      "Processing session 25 of 25...\n"
     ]
    }
   ],
   "source": [
    "dt_patch = []\n",
    "dt_interpatch = []\n",
    "for i, filename in enumerate(filelist):\n",
    "    with h5py.File(filename) as f:\n",
    "        print('Processing session %d of %d...' % (training_days[i], training_days[-1]))\n",
    "        \n",
    "        dt_patch_ = f['UntitledPatchTime']['Data'][0, :]\n",
    "        dt_patch.append(dt_patch_)\n",
    "        \n",
    "        t_patch_start = (f['UntitledPatchStartms']['Data'][0, :] - f['UntitledAIStartms']['Data'][0])/1000.0\n",
    "        if len(dt_patch_) > 1:\n",
    "            t_patch_end = (f['UntitledPatchEndms']['Data'][0, :] - f['UntitledAIStartms']['Data'][0])/1000.0\n",
    "        else:\n",
    "            t_patch_end = [None]\n",
    "        # If end in patch, count all interpatches\n",
    "        if len(t_patch_start) == (len(t_patch_end) + 1):\n",
    "            dt_interpatch.append(t_patch_start[1:] - t_patch_end)\n",
    "\n",
    "        # If end in interpatch, drop last interpatch\n",
    "        elif len(t_patch_start) == len(t_patch_end):\n",
    "            dt_interpatch.append(t_patch_start[1:] - t_patch_end[:-1])\n",
    "\n",
    "        else:\n",
    "            raise ValueError('Patch/interpatch timestamps not understood: '\n",
    "                             + '# patch starts = %d, # patch ends = %d' % (len(t_patch_start), len(t_patch_end)))"
   ]
  },
  {
   "cell_type": "markdown",
   "metadata": {},
   "source": [
    "### Find optimal values"
   ]
  },
  {
   "cell_type": "code",
   "execution_count": 13,
   "metadata": {},
   "outputs": [],
   "source": [
    "def cumulative_reward(t_p, R_0, r_0, tau):\n",
    "    return r_0 * tau * (1.0 - np.exp(-t_p / tau)) + R_0\n",
    "    \n",
    "def get_optimal_values(t_t, R_0, r_0, tau):\n",
    "    # Minimum travel time: R_0 / r_0\n",
    "    if t_t < (R_0 / r_0):\n",
    "        print('Travel time is less than minimum. Ignoring R_0.')\n",
    "        R_0 = 0.0\n",
    "    \n",
    "    # Solve non-linear equation for residence time\n",
    "    F = lambda x: (r_0 * np.exp(-x/tau) * (t_t + x + tau)) - (r_0 * tau) - R_0\n",
    "    #t_p = scipy.optimize.broyden1(F, -100) # negative solution\n",
    "    t_p_opt = broyden1(F, 10*tau) # positive solution\n",
    "    \n",
    "    # Calculate total harvested reward for optimal residence time\n",
    "    r_opt = cumulative_reward(t_p_opt, R_0, r_0, tau)\n",
    "    \n",
    "    return t_p_opt, r_opt"
   ]
  },
  {
   "cell_type": "code",
   "execution_count": 14,
   "metadata": {},
   "outputs": [
    {
     "name": "stdout",
     "output_type": "stream",
     "text": [
      "Processing session 2 of 25...\n",
      "Travel time is less than minimum. Ignoring R_0.\n",
      "Processing session 3 of 25...\n",
      "Travel time is less than minimum. Ignoring R_0.\n",
      "Processing session 4 of 25...\n",
      "Travel time is less than minimum. Ignoring R_0.\n",
      "Processing session 5 of 25...\n",
      "Travel time is less than minimum. Ignoring R_0.\n",
      "Processing session 6 of 25...\n",
      "Travel time is less than minimum. Ignoring R_0.\n",
      "Processing session 9 of 25...\n",
      "Travel time is less than minimum. Ignoring R_0.\n",
      "Processing session 10 of 25...\n",
      "Travel time is less than minimum. Ignoring R_0.\n",
      "Processing session 12 of 25...\n",
      "Travel time is less than minimum. Ignoring R_0.\n",
      "Processing session 13 of 25...\n",
      "Travel time is less than minimum. Ignoring R_0.\n",
      "Processing session 14 of 25...\n",
      "Travel time is less than minimum. Ignoring R_0.\n"
     ]
    },
    {
     "name": "stderr",
     "output_type": "stream",
     "text": [
      "C:\\Users\\Mcginley_Lab\\Anaconda3\\lib\\site-packages\\scipy\\optimize\\nonlin.py:1000: RuntimeWarning: invalid value encountered in true_divide\n",
      "  d = v / vdot(df, v)\n"
     ]
    },
    {
     "name": "stdout",
     "output_type": "stream",
     "text": [
      "Processing session 15 of 25...\n",
      "Travel time is less than minimum. Ignoring R_0.\n",
      "Processing session 16 of 25...\n",
      "Travel time is less than minimum. Ignoring R_0.\n",
      "Processing session 17 of 25...\n",
      "Travel time is less than minimum. Ignoring R_0.\n",
      "Processing session 21 of 25...\n",
      "Travel time is less than minimum. Ignoring R_0.\n",
      "Processing session 22 of 25...\n",
      "Travel time is less than minimum. Ignoring R_0.\n",
      "Processing session 24 of 25...\n",
      "Travel time is less than minimum. Ignoring R_0.\n",
      "Processing session 25 of 25...\n",
      "Travel time is less than minimum. Ignoring R_0.\n"
     ]
    }
   ],
   "source": [
    "dt_patch_opt = np.zeros(len(filelist))\n",
    "hr_opt = np.zeros(len(filelist))\n",
    "r_diff = []\n",
    "for i, filename in enumerate(filelist):\n",
    "    with h5py.File(filename) as f:\n",
    "        print('Processing session %d of %d...' % (training_days[i], training_days[-1]))\n",
    "        \n",
    "        velocity = 3.0 # cm/s\n",
    "        \n",
    "        # Environment parameters\n",
    "        struct = f['Settings']['Property'] # matlab data structure\n",
    "        d_interpatch = struct['SoundConfigurationRunConfigInterPatchDistcm'] # char array\n",
    "        d_interpatch = float([u''.join(chr(c) for c in d_interpatch)][0]) # float\n",
    "        R_0 = float([u''.join(chr(c) for c in struct['SoundConfigurationRunConfigIniVoluL'])][0])\n",
    "        r_0 = float([u''.join(chr(c) for c in struct['SoundConfigurationRunConfigIniRateuLsec'])][0])\n",
    "        tau = float([u''.join(chr(c) for c in struct['SoundConfigurationRunConfigTCsec'])][0])\n",
    "        \n",
    "        # Optimal behavior\n",
    "        t_t = d_interpatch / velocity\n",
    "        t_p_opt, r_opt = get_optimal_values(t_t, R_0, r_0, tau)\n",
    "        dt_patch_opt[i] = t_p_opt\n",
    "        hr_opt[i] = r_opt / (t_p_opt + t_t)        "
   ]
  },
  {
   "cell_type": "markdown",
   "metadata": {},
   "source": [
    "### Lick and motor analysis"
   ]
  },
  {
   "cell_type": "code",
   "execution_count": 15,
   "metadata": {},
   "outputs": [],
   "source": [
    "def med_filt(x, n=3):\n",
    "    X = np.zeros([n, len(x)])\n",
    "    for i in range(n):\n",
    "        X[i] = np.roll(x, -n//2 + i)\n",
    "    \n",
    "    x_filt = np.median(X, axis=0)\n",
    "    for i in range(n//2):\n",
    "        x_filt[i] = np.median(X[(n//2 - i):, i])\n",
    "        x_filt[-(i+1)] = np.median(X[:(n//2 + i), -(i+1)])\n",
    "   \n",
    "    return x_filt\n",
    "\n",
    "def lowpass_butter_filter(s, fs, fc, order=5):\n",
    "    \"\"\"Apply low-pass butter filter to signal.\"\"\"\n",
    "    nyq = 0.5 * fs\n",
    "    fc = fc / nyq\n",
    "    b, a = signal.butter(order, fc, btype='low')\n",
    "    y = signal.lfilter(b, a, s)\n",
    "    \n",
    "    return y\n",
    "\n",
    "def preprocess_sound(wf, fs, med_filter_size=30, butter_filter_fc=10):\n",
    "    f_s, t_s, s = spectrogram(wf, fs=fs)\n",
    "    #s_var = np.sum((s - np.mean(s, axis=0, keepdims=True))**2, axis=0)\n",
    "    s_var = np.median(np.abs(np.diff(s, axis=0)), axis=0)\n",
    "    fs_s = fs * (len(s_var)/len(wf))\n",
    "    s_var_smooth = med_filt(s_var, n=med_filter_size)\n",
    "    s_var_smooth = lowpass_butter_filter(s_var_smooth, fs_s, butter_filter_fc)\n",
    "    \n",
    "    return fs_s, t_s, s_var_smooth\n",
    "\n",
    "def in_interval(t, t1, t2):\n",
    "    gt_t1 = (t[np.newaxis, :] > t1[:, np.newaxis])\n",
    "    lt_t2 = (t[np.newaxis, :] < t2[:, np.newaxis])\n",
    "    \n",
    "    return np.sum(np.logical_and(gt_t1, lt_t2).astype(np.int32), axis=0)\n",
    "\n",
    "def _get_patches_from_sound(s, fs, thresh):\n",
    "    # Determine data points in patch based on sound variance\n",
    "    in_patch = (s < thresh).astype(np.int32)\n",
    "    \n",
    "    # Find patch start points\n",
    "    t_patch_start = np.argwhere((in_patch - np.roll(in_patch, -1)) == -1).flatten()\n",
    "    if (in_patch[-1] == 0) and (in_patch[0] == 1):\n",
    "        # Correct wrap-around error\n",
    "        t_patch_start = t_patch_start[:-1]\n",
    "    if (np.sum(in_patch[:2]) == 2):\n",
    "        # Correct first data point\n",
    "        t_patch_start = np.insert(t_patch_start, 0, 0.0)\n",
    "    \n",
    "    # Find patch end points\n",
    "    t_patch_end = np.argwhere((in_patch - np.roll(in_patch, -1)) == 1).flatten()\n",
    "    if (in_patch[-1] == 1) and (in_patch[0] == 0):\n",
    "        # Correct wrap-around error\n",
    "        t_patch_end = t_patch_end[:-1]\n",
    "    if t_patch_end[0] < t_patch_start[0]:\n",
    "        # Correct initial error\n",
    "        t_patch_end = t_patch_end[1:]\n",
    "    \n",
    "    # Drop last patch-interpatch sequence\n",
    "    if len(t_patch_start) > len(t_patch_end):\n",
    "        # End in patch: drop last patch\n",
    "        t_stop = t_patch_start[-1]\n",
    "        t_patch_start = t_patch_start[:-1]\n",
    "    elif len(t_patch_start) == len(t_patch_end):\n",
    "        # End in interpatch: drop last patch and interpatch\n",
    "        t_stop = t_patch_start[-1]\n",
    "        t_patch_start = t_patch_start[:-1]\n",
    "        t_patch_end = t_patch_end[:-1]\n",
    "    else:\n",
    "        raise ValueError('Timestamps not understood: %d patch starts, %d patch stops'\n",
    "                         % (len(t_patch_start), len(t_patch_end)))\n",
    "        \n",
    "    t_patch_start = t_patch_start.astype(np.float64) / fs\n",
    "    t_patch_end = t_patch_end.astype(np.float64) / fs\n",
    "    t_stop = t_stop.astype(np.float64) / fs\n",
    "    \n",
    "    return t_patch_start, t_patch_end, in_patch, t_stop\n",
    "\n",
    "def get_patches_from_sound(s, \n",
    "                           dt_patch=None, \n",
    "                           auto_thresh=True, \n",
    "                           init_thresh=5.0e-9):\n",
    "    # Get initial threshold\n",
    "    if auto_thresh:\n",
    "        thresh = find_threshold(s)\n",
    "    else:\n",
    "        thresh = init_thresh\n",
    "    print('Variance threshold: %.2e' % thresh)\n",
    "    \n",
    "    # Attempt to extract patches with initial threshold\n",
    "    t_patch_start, t_patch_end, in_patch, t_stop = \\\n",
    "        _get_patches_from_sound(s=s, \n",
    "                                fs=(len(s)/len(wf))*fs, \n",
    "                                thresh=thresh)\n",
    "    \n",
    "    if dt_patch is not None:\n",
    "        # Check for agreement if patch durations provided\n",
    "        if not compare_patch_times(t_patch_end - t_patch_start, dt_patch):\n",
    "            print('Initial threshold failed. Trying range of values...')\n",
    "            \n",
    "            # Try range of values for threshold until agreement reached\n",
    "            thresh_range = np.linspace(0.2*thresh, 5*thresh, 50)\n",
    "            for thresh in thresh_range:\n",
    "                try:\n",
    "                    t_patch_start, t_patch_end, in_patch, t_stop = \\\n",
    "                        _get_patches_from_sound(s=s, \n",
    "                                                fs=(len(s)/len(wf))*fs, \n",
    "                                                thresh=thresh)\n",
    "                except IndexError: # empty array handling\n",
    "                    pass\n",
    "                if compare_patch_times(t_patch_end - t_patch_start, dt_patch):\n",
    "                    print('Successful threshold found: %.2e' % thresh)\n",
    "                    break\n",
    "\n",
    "    return t_patch_start, t_patch_end, in_patch, t_stop\n",
    "\n",
    "def compare_patch_times(dt_patch_1, dt_patch_2, tol=1.0):\n",
    "    \"\"\"\n",
    "    Compare patch durations from two sources \n",
    "    (e.g. sound waveform analysis vs. logged data)\n",
    "    \n",
    "    Note: When comparing to logged data, the number of patches alone\n",
    "    is not sufficient to check for the correct handling of the sound \n",
    "    waveform. Comparing times directly is not only more robust, but \n",
    "    if the session ended in a patch, it is not clear when that patch\n",
    "    duration is logged, meaning the number of patches can differ by \n",
    "    one even with correct waveform analysis.\n",
    "    \"\"\"\n",
    "    idx_last = min(len(dt_patch_1), len(dt_patch_2))\n",
    "    return np.isclose(dt_patch_1[:idx_last], \n",
    "                      dt_patch_2[:idx_last],\n",
    "                      atol=tol).all()\n",
    "\n",
    "def find_threshold(s, n_bins=25):\n",
    "    \"\"\"\n",
    "    Finds threshold between two values for noisy binary function.\n",
    "    Note: Fitting to two Gaussians often ignored the pink noise peak\n",
    "    since it was proportionally much smaller.\n",
    "    \"\"\"\n",
    "    # Create histogram of values\n",
    "    hist, bin_edges = np.histogram(s, bins=n_bins)\n",
    "    \n",
    "    # Find local peaks\n",
    "    peaks = []\n",
    "    idx_peaks = []\n",
    "    if hist[0] > hist[1]:\n",
    "        peaks.append(hist[0])\n",
    "        idx_peaks.append(0)\n",
    "    for j in range(1, len(hist)-1):\n",
    "        if hist[j] > hist[j-1] and hist[j] > hist[j+1]:\n",
    "            peaks.append(hist[j])\n",
    "            idx_peaks.append(j)\n",
    "    if hist[-1] > hist[-2]:\n",
    "        peaks.append(hist[-1])\n",
    "        idx_peaks.append(-1)\n",
    "\n",
    "    # Find values associated with greatest two local peaks\n",
    "    idx_sort = np.argsort(np.asarray(peaks))\n",
    "    idx_peaks = np.asarray(idx_peaks)[idx_sort[-2:]]\n",
    "    bin_width = bin_edges[1] - bin_edges[0]\n",
    "    x = bin_edges + 0.5*bin_width\n",
    "    x_peaks = x[idx_peaks]\n",
    "\n",
    "    # Return threshold halfway between two peaks\n",
    "    return np.mean(x_peaks)"
   ]
  },
  {
   "cell_type": "code",
   "execution_count": 20,
   "metadata": {},
   "outputs": [
    {
     "name": "stdout",
     "output_type": "stream",
     "text": [
      "Processing session 2 of 25...\n",
      "Variance threshold: 5.09e-09\n"
     ]
    },
    {
     "ename": "NameError",
     "evalue": "name 'dt_motor' is not defined",
     "output_type": "error",
     "traceback": [
      "\u001b[1;31m---------------------------------------------------------------------------\u001b[0m",
      "\u001b[1;31mNameError\u001b[0m                                 Traceback (most recent call last)",
      "\u001b[1;32m<ipython-input-20-03c5518b7866>\u001b[0m in \u001b[0;36m<module>\u001b[1;34m()\u001b[0m\n\u001b[0;32m     71\u001b[0m         \u001b[0mr_patch_log\u001b[0m \u001b[1;33m=\u001b[0m \u001b[0mf\u001b[0m\u001b[1;33m[\u001b[0m\u001b[1;34m'UntitledRewarduL'\u001b[0m\u001b[1;33m]\u001b[0m\u001b[1;33m[\u001b[0m\u001b[1;34m'Data'\u001b[0m\u001b[1;33m]\u001b[0m\u001b[1;33m[\u001b[0m\u001b[1;36m0\u001b[0m\u001b[1;33m,\u001b[0m \u001b[1;33m:\u001b[0m\u001b[1;33m]\u001b[0m\u001b[1;33m\u001b[0m\u001b[0m\n\u001b[0;32m     72\u001b[0m         m = ( (np.max(r_patch_log) - np.min(r_patch_log[r_patch_log > 0]))\n\u001b[1;32m---> 73\u001b[1;33m                / (np.max(dt_motor) - np.min(dt_motor)) )\n\u001b[0m\u001b[0;32m     74\u001b[0m         \u001b[0mr_motor\u001b[0m \u001b[1;33m=\u001b[0m \u001b[1;32mlambda\u001b[0m \u001b[0mdt\u001b[0m\u001b[1;33m:\u001b[0m \u001b[0mm\u001b[0m\u001b[1;33m*\u001b[0m\u001b[0mdt\u001b[0m \u001b[1;33m-\u001b[0m \u001b[0mm\u001b[0m\u001b[1;33m*\u001b[0m\u001b[0mnp\u001b[0m\u001b[1;33m.\u001b[0m\u001b[0mmax\u001b[0m\u001b[1;33m(\u001b[0m\u001b[0mdt_motor\u001b[0m\u001b[1;33m)\u001b[0m \u001b[1;33m+\u001b[0m \u001b[0mnp\u001b[0m\u001b[1;33m.\u001b[0m\u001b[0mmax\u001b[0m\u001b[1;33m(\u001b[0m\u001b[0mr_patch_log\u001b[0m\u001b[1;33m)\u001b[0m\u001b[1;33m\u001b[0m\u001b[0m\n\u001b[0;32m     75\u001b[0m \u001b[1;33m\u001b[0m\u001b[0m\n",
      "\u001b[1;31mNameError\u001b[0m: name 'dt_motor' is not defined"
     ]
    }
   ],
   "source": [
    "auto_thresh = True\n",
    "init_thresh = 1e-12\n",
    "fc = 10.0 # critical freq in Hz\n",
    "\n",
    "\n",
    "dt_lick = []\n",
    "n_lick_patch = []\n",
    "n_lick_total =  []\n",
    "r_patch_max = []\n",
    "r_patch_obs = []\n",
    "keep_idx = np.ones(len(filelist), dtype=np.bool)\n",
    "for i, filename in enumerate(filelist):\n",
    "    with h5py.File(filename) as f:\n",
    "        print('Processing session %d of %d...' % (training_days[i], training_days[-1]))\n",
    "        \n",
    "        ### Session settings ###\n",
    "        struct = f['Settings']['Property'] # matlab data structure\n",
    "        chamber_id = str([u''.join(chr(c) for c in struct['ChamberID'])][0])[-2:]\n",
    "        d_interpatch = struct['SoundConfigurationRunConfigInterPatchDistcm'] # char array\n",
    "        d_interpatch = float([u''.join(chr(c) for c in d_interpatch)][0]) # float\n",
    "        R_0 = float([u''.join(chr(c) for c in struct['SoundConfigurationRunConfigIniVoluL'])][0])\n",
    "        r_0 = float([u''.join(chr(c) for c in struct['SoundConfigurationRunConfigIniRateuLsec'])][0])\n",
    "        tau = float([u''.join(chr(c) for c in struct['SoundConfigurationRunConfigTCsec'])][0])\n",
    "        flow_rate = float([u''.join(chr(c) for c in struct['DAQConfigurationPumpFlowRatemLmin'])][0])\n",
    "        flow_rate = flow_rate * 1000 / 60 # uL/s\n",
    "        \n",
    "        ### Process sound waveform ###\n",
    "        # Grab and preprocess sound waveform\n",
    "        wf = f['UntitledSound' + chamber_id[-1]]['Data'][0, :]\n",
    "        dt_wf = f['UntitledSound' + chamber_id[-1]]['Property']['wf_increment'][0, 0]\n",
    "        fs = 1.0 / dt_wf\n",
    "        fs_s, t_s, s_var_smooth = preprocess_sound(wf, fs, butter_filter_fc=fc)\n",
    "        \n",
    "        # Calculate patch start and end points from smoothed spectrogram variance\n",
    "        # Note: We will always drop the last patch-interpatch sequence\n",
    "        t_patch_start, t_patch_end, in_patch, t_stop = \\\n",
    "            get_patches_from_sound(s_var_smooth, dt_patch=dt_patch[i])\n",
    "        if not compare_patch_times(t_patch_end - t_patch_start, dt_patch[i]):\n",
    "            #raise ValueError('Number of patches from sound and log file do not match (%d vs. %d)'\n",
    "            #                 % (len(t_patch_start), num_patches))\n",
    "            print('No threshold found. Skipping file.')\n",
    "            keep_idx[i] = False\n",
    "            continue\n",
    "        idx_stop = int(t_stop * fs) # idx of end of last interpatch\n",
    "        dt_patch[i] = dt_patch[i][:len(t_patch_start)]\n",
    "        dt_patch_wf = t_patch_end - t_patch_start\n",
    "        \n",
    "        ### Process lick trace ###\n",
    "        # Grab lick data and determine lick times\n",
    "        lick = f['UntitledLick' + chamber_id[-1]]['Data'][0, :idx_stop]\n",
    "        thresh = np.max(lick) / 2\n",
    "        idx_licking = (lick > thresh).astype(np.int32)\n",
    "        idx_lick = (np.argwhere((idx_licking - np.roll(idx_licking, -1)) == -1) + 1).flatten()\n",
    "        t_lick = idx_lick / fs\n",
    "        \n",
    "        # Make lick histogram of inter-lick interval\n",
    "        dt_lick.append(np.diff(t_lick))\n",
    "        \n",
    "        # Plot licks vs. in or out of patch\n",
    "        iti = 2.0 # seconds between licks\n",
    "        t_lick_1 = t_lick[np.argwhere(np.diff(t_lick) > iti).flatten()]\n",
    "        t_lick_1 = np.insert(t_lick_1, 0, t_lick[0])\n",
    "        n_lick_patch.append(np.sum(in_interval(t_lick_1, t_patch_start, t_patch_end)))\n",
    "        n_lick_total.append(len(t_lick_1))        \n",
    "        \n",
    "        ### Process pump trace ###\n",
    "        # Calculate maximum possible reward from residence times\n",
    "        r_patch_max.append(cumulative_reward(dt_patch_wf, R_0, r_0, tau))\n",
    "        \n",
    "        # Create linear map from motor duration to reward volume\n",
    "        # (V = duration x flow_rate is not reliable)\n",
    "        r_patch_log = f['UntitledRewarduL']['Data'][0, :]\n",
    "        m = ( (np.max(r_patch_log) - np.min(r_patch_log[r_patch_log > 0]))\n",
    "               / (np.max(dt_motor) - np.min(dt_motor)) )\n",
    "        r_motor = lambda dt: m*dt - m*np.max(dt_motor) + np.max(r_patch_log)\n",
    "        \n",
    "        # Determine motor timestamps and durations\n",
    "        motor = f['UntitledMotor' + chamber_id[-1]]['Data'][0, :idx_stop]\n",
    "        thresh = 0.9 * np.max(motor)\n",
    "        is_pump = (motor > thresh).astype(np.int32)\n",
    "        idx_pump_start = (np.argwhere((is_pump - np.roll(is_pump, -1)) == -1) + 1).flatten()\n",
    "        idx_pump_end = (np.argwhere((is_pump - np.roll(is_pump, -1)) == 1) + 1).flatten()\n",
    "        t_motor = idx_pump_start / fs\n",
    "        dt_motor = (idx_pump_end - idx_pump_start) / fs\n",
    "        \n",
    "        # Calculate observed reward per patch\n",
    "        pad = 0.5 # padding in seconds\n",
    "        gt_t1 = t_motor[np.newaxis, :] > t_patch_start[:, np.newaxis] - pad\n",
    "        lt_t2 = t_motor[np.newaxis, :] < t_patch_end[:, np.newaxis] + pad\n",
    "        idx_patch = np.argwhere(np.logical_and(gt_t1, lt_t2))[:, 0]\n",
    "        r_patch_obs_ = np.zeros(len(t_patch_start))\n",
    "        for i in range(len(t_patch_start)):\n",
    "            #r_patch_obs_[i] = np.sum(dt_motor[idx_patch == i] * flow_rate)\n",
    "            r_patch_obs_[i] = np.sum(r_motor(dt_motor[idx_patch == i]))\n",
    "        r_patch_obs.append(r_patch_obs_)\n",
    "\n",
    "n_lick_patch = np.asarray(n_lick_patch)\n",
    "n_lick_total = np.asarray(n_lick_total)\n",
    "print('Done.')"
   ]
  },
  {
   "cell_type": "markdown",
   "metadata": {},
   "source": [
    "### Save data"
   ]
  },
  {
   "cell_type": "code",
   "execution_count": null,
   "metadata": {},
   "outputs": [],
   "source": [
    "np.save(results_dir + 'training_days.npy', training_days)\n",
    "np.save(results_dir + 'harvest_rate.npy', hr)\n",
    "np.save(results_dir + 'residence_time.npy', dt_patch)\n",
    "np.save(results_dir + 'travel_time.npy', dt_interpatch)"
   ]
  },
  {
   "cell_type": "markdown",
   "metadata": {},
   "source": [
    "### Plot results"
   ]
  },
  {
   "cell_type": "code",
   "execution_count": null,
   "metadata": {
    "scrolled": false
   },
   "outputs": [],
   "source": [
    "fig, ax = plt.subplots(figsize=(10, 5))\n",
    "ax.plot(training_days, hr, marker='.', markersize=10, color=cmap(1.0))\n",
    "ax.plot(training_days, hr_opt, marker='.', markersize=10, color=cmap(0.5), linestyle='--')\n",
    "ax.set_xlabel('Session')\n",
    "ax.set_ylabel('Harvest rate (uL/s)')\n",
    "ax.set_title('Harvest Rate')\n",
    "\n",
    "plt.savefig(results_dir + 'harvest_rate.png')"
   ]
  },
  {
   "cell_type": "code",
   "execution_count": null,
   "metadata": {
    "scrolled": true
   },
   "outputs": [],
   "source": [
    "fig, ax = plt.subplots(2, 2, figsize=(10, 5))\n",
    "\n",
    "dt_patch_mean = np.zeros(len(filelist))\n",
    "dt_patch_med = np.zeros(len(filelist))\n",
    "for i, [day, pts] in enumerate(zip(training_days, dt_patch)):\n",
    "    ax[0, 0].scatter(np.ones(len(pts))*day, pts, color=cmap(0.5), s=10)\n",
    "    dt_patch_mean[i] = np.mean(pts)\n",
    "    dt_patch_med[i] = np.median(pts)\n",
    "    \n",
    "ax[0, 0].plot(training_days, dt_patch_mean, color=cmap(1.0))\n",
    "ax[0, 0].set_xlabel('Session')\n",
    "ax[0, 0].set_ylabel('Time (s)')\n",
    "ax[0, 0].set_title('Mean Patch Residence Time')\n",
    "ax[0, 0].set_yscale('log')\n",
    "\n",
    "ax[1, 0].plot(training_days, dt_patch_med, color=cmap(1.0))\n",
    "ax[1, 0].plot(training_days, dt_patch_opt, color=cmap(0.5), linestyle='--')\n",
    "ax[1, 0].set_xlabel('Session')\n",
    "ax[1, 0].set_ylabel('Time (s)')\n",
    "ax[1, 0].set_title('Median Patch Residence Time')\n",
    "ax[1, 0].set_yscale('log')\n",
    "\n",
    "dt_interpatch_mean = np.zeros(len(filelist))\n",
    "dt_interpatch_med = np.zeros(len(filelist))\n",
    "for i, [day, pts] in enumerate(zip(training_days, dt_interpatch)):\n",
    "    ax[0, 1].scatter(np.ones(len(pts))*day, pts, color=cmap(0.5), s=10)\n",
    "    dt_interpatch_mean[i] = np.mean(pts)\n",
    "    dt_interpatch_med[i] = np.median(pts)\n",
    "    \n",
    "ax[0, 1].plot(training_days, dt_interpatch_mean, color=cmap(1.0))\n",
    "ax[0, 1].set_xlabel('Session')\n",
    "ax[0, 1].set_ylabel('Time (s)')\n",
    "ax[0, 1].set_title('Mean Travel Time')\n",
    "ax[0, 1].set_yscale('log')\n",
    "\n",
    "ax[1, 1].plot(training_days, dt_interpatch_med, color=cmap(1.0))\n",
    "ax[1, 1].set_xlabel('Session')\n",
    "ax[1, 1].set_ylabel('Time (s)')\n",
    "ax[1, 1].set_title('Median Travel Time')\n",
    "ax[1, 1].set_yscale('log')\n",
    "\n",
    "plt.tight_layout()\n",
    "plt.savefig(results_dir + 'patch_interpatch_times.png')"
   ]
  },
  {
   "cell_type": "code",
   "execution_count": null,
   "metadata": {},
   "outputs": [],
   "source": [
    "# Lick histogram\n",
    "dt_lick_all = flatten_list(dt_lick)\n",
    "fig, ax = plt.subplots(1, 3, figsize=(10, 5))\n",
    "nbins = 25\n",
    "\n",
    "ax[0].hist(dt_lick_all, bins=nbins, range=[0.0, 1.0], color=cmap(0.8))\n",
    "ax[0].set_title('Inter-lick interval (0-1 seconds)')\n",
    "ax[0].set_xlabel('Inter-lick interval (s)')\n",
    "ax[0].set_ylabel('Count')\n",
    "\n",
    "ax[1].hist(dt_lick_all, bins=nbins, range=[1.0, 25.0], color=cmap(0.8))\n",
    "ax[1].set_title('Inter-lick interval (1-25 seconds)')\n",
    "ax[1].set_xlabel('Inter-lick interval (s)')\n",
    "ax[1].set_ylabel('Count')\n",
    "\n",
    "ax[2].hist(dt_lick_all, bins=nbins, range=[25.0, 200.0], color=cmap(0.8))\n",
    "ax[2].set_title('Inter-lick interval (25-200 seconds)')\n",
    "ax[2].set_xlabel('Inter-lick interval (s)')\n",
    "ax[2].set_ylabel('Count')\n",
    "\n",
    "plt.tight_layout()\n",
    "plt.savefig(results_dir + 'inter_lick_interval.png')"
   ]
  },
  {
   "cell_type": "code",
   "execution_count": null,
   "metadata": {},
   "outputs": [],
   "source": [
    "# Licks in patch vs. out of patch\n",
    "fig, ax =  plt.subplots(figsize=(7, 5))\n",
    "ax.plot(training_days[keep_idx], n_lick_patch, color=cmap(0.5), linestyle='--')\n",
    "ax.plot(training_days[keep_idx], n_lick_total, color=cmap(0.5))\n",
    "ax.set_title('Lick Patterns')\n",
    "ax.set_xlabel('Session')\n",
    "ax.set_ylabel('Number of licks')\n",
    "\n",
    "ax2 = ax.twinx()\n",
    "ax2.plot(training_days[keep_idx], n_lick_patch / n_lick_total, color=cmap(1.0))\n",
    "ax2.set_xlabel('Fraction in patch')\n",
    "\n",
    "plt.savefig(results_dir + 'lick_patterns.png')"
   ]
  },
  {
   "cell_type": "code",
   "execution_count": null,
   "metadata": {},
   "outputs": [],
   "source": [
    "fig, ax = plt.subplots(figsize=(7, 5))\n",
    "\n",
    "r_diff = np.zeros(len(training_days))\n",
    "for i, day in enumerate(training_days):\n",
    "    num_patches = len(r_patch_max[i])\n",
    "    r_diff_ = np.maximum(r_patch_max[i] - r_patch_obs[i], 0.0)\n",
    "    ax.scatter(day*np.ones([num_patches]), r_diff_, color=cmap(0.5), s=10)\n",
    "    r_diff[i] = np.median(r_diff_)\n",
    "\n",
    "ax.plot(training_days[keep_idx], r_diff, color=cmap(1.0), markersize=10, marker='.')\n",
    "ax.set_yscale('log')\n",
    "ax.set_title('Difference between Potential and Actual Reward per Patch')\n",
    "ax.set_xlabel('Session')\n",
    "ax.set_ylabel('r_max - r_obs')\n",
    "\n",
    "plt.savefig(results_dir + 'r_diff.png')"
   ]
  },
  {
   "cell_type": "code",
   "execution_count": 665,
   "metadata": {},
   "outputs": [
    {
     "data": {
      "text/plain": [
       "array([13.55590849,  1.36316173,  1.86753362,  2.69192426,  0.        ,\n",
       "       32.95763121,  1.3360174 ,  0.32458137,  0.05941499,  0.37237432,\n",
       "        0.        ,  1.49656344,  0.88175462,  1.58722759,  0.17310185,\n",
       "       12.5694031 ,  2.40362648,  1.93662742,  0.06878164,  1.06890602])"
      ]
     },
     "execution_count": 665,
     "metadata": {},
     "output_type": "execute_result"
    }
   ],
   "source": [
    "np.maximum(r_patch_max[i] - r_patch_obs[i], 0.0)"
   ]
  },
  {
   "cell_type": "code",
   "execution_count": null,
   "metadata": {},
   "outputs": [],
   "source": []
  },
  {
   "cell_type": "code",
   "execution_count": 449,
   "metadata": {},
   "outputs": [
    {
     "data": {
      "text/plain": [
       "[<matplotlib.lines.Line2D at 0x1f3a3508cc0>]"
      ]
     },
     "execution_count": 449,
     "metadata": {},
     "output_type": "execute_result"
    },
    {
     "data": {
      "image/png": "[encoded data removed]",
      "text/plain": [
       "<Figure size 432x288 with 1 Axes>"
      ]
     },
     "metadata": {},
     "output_type": "display_data"
    }
   ],
   "source": [
    "f = h5py.File(filename)\n",
    "r_ = f['UntitledRewarduL']['Data'][0, :]\n",
    "plt.plot(r_[r_>0])\n",
    "plt.plot(dt_motor*12.0/dt_motor[0])"
   ]
  },
  {
   "cell_type": "code",
   "execution_count": 448,
   "metadata": {},
   "outputs": [],
   "source": [
    "motor = f['UntitledMotor' + chamber_id[-1]]['Data'][0, :stop_idx]\n",
    "thresh = 0.10 * np.max(motor)\n",
    "is_pump = (motor > thresh).astype(np.int32)\n",
    "idx_pump_start = (np.argwhere((is_pump - np.roll(is_pump, -1)) == -1) + 1).flatten()\n",
    "idx_pump_end = (np.argwhere((is_pump - np.roll(is_pump, -1)) == 1) + 1).flatten()\n",
    "t_motor = idx_pump_start / fs\n",
    "dt_motor = (idx_pump_end - idx_pump_start) / fs"
   ]
  },
  {
   "cell_type": "code",
   "execution_count": 434,
   "metadata": {},
   "outputs": [
    {
     "data": {
      "text/plain": [
       "0.11018897999999994"
      ]
     },
     "execution_count": 434,
     "metadata": {},
     "output_type": "execute_result"
    }
   ],
   "source": [
    "np.min(dt_motor)"
   ]
  },
  {
   "cell_type": "code",
   "execution_count": 440,
   "metadata": {},
   "outputs": [],
   "source": [
    "m = ((12.0 - 2.0)/(np.max(dt_motor) - np.min(dt_motor)))\n",
    "r_motor = lambda dt: m*dt - m*np.max(dt_motor) + 12.0"
   ]
  },
  {
   "cell_type": "markdown",
   "metadata": {},
   "source": [
    "### Batch analysis"
   ]
  },
  {
   "cell_type": "code",
   "execution_count": 103,
   "metadata": {},
   "outputs": [],
   "source": [
    "base_dir = 'G:\\\\My Drive\\\\Projects\\\\foraging\\\\data\\\\simulation_data\\\\free_lick\\\\'\n",
    "mouse_ids = ['j6z%d' % i for i in np.arange(1, 8)]\n",
    "exp_names = mouse_ids\n",
    "results_dir = base_dir + 'batch_01-15-19\\\\'\n",
    "if not os.path.isdir(results_dir):\n",
    "    os.mkdir(results_dir)"
   ]
  },
  {
   "cell_type": "code",
   "execution_count": 125,
   "metadata": {},
   "outputs": [],
   "source": [
    "training_days = []\n",
    "harvest_rate = []\n",
    "dt_patch = []\n",
    "dt_interpatch = []\n",
    "\n",
    "for exp_name in exp_names:\n",
    "    training_days.append(np.load(base_dir + exp_name + '\\\\training_days.npy'))\n",
    "    harvest_rate.append(np.load(base_dir + exp_name + '\\\\harvest_rate.npy'))\n",
    "    dt_patch.append(np.load(base_dir + exp_name + '\\\\residence_time.npy'))\n",
    "    dt_interpatch.append(np.load(base_dir + exp_name + '\\\\travel_time.npy'))"
   ]
  },
  {
   "cell_type": "code",
   "execution_count": 161,
   "metadata": {},
   "outputs": [
    {
     "data": {
      "image/png": "[encoded data removed]",
      "text/plain": [
       "<Figure size 504x360 with 1 Axes>"
      ]
     },
     "metadata": {},
     "output_type": "display_data"
    }
   ],
   "source": [
    "fig, ax = plt.subplots(figsize=(7, 5))\n",
    "\n",
    "days = np.unique(flatten_list(training_days))\n",
    "\n",
    "counts = np.zeros(len(days))\n",
    "hr_mean = np.zeros(len(days))\n",
    "for i, [ds, hr] in enumerate(zip(training_days, harvest_rate)):\n",
    "    idx = np.searchsorted(days, ds)\n",
    "    hr_mean[idx] += hr\n",
    "    counts[idx] += 1\n",
    "    \n",
    "    ax.plot(ds, hr, color='black', alpha=0.25)\n",
    "    \n",
    "hr_mean /= counts\n",
    "\n",
    "ax.plot(days, hr_mean, color='black', alpha=1.0)\n",
    "ax.set_title('Harvest Rate')\n",
    "ax.set_xlabel('Session')\n",
    "ax.set_ylabel('Harvest rate (uL/s)')\n",
    "\n",
    "plt.savefig(results_dir + 'harvest_rate_all.png')"
   ]
  },
  {
   "cell_type": "code",
   "execution_count": null,
   "metadata": {},
   "outputs": [],
   "source": []
  }
 ],
 "metadata": {
  "kernelspec": {
   "display_name": "Python 3",
   "language": "python",
   "name": "python3"
  },
  "language_info": {
   "codemirror_mode": {
    "name": "ipython",
    "version": 3
   },
   "file_extension": ".py",
   "mimetype": "text/x-python",
   "name": "python",
   "nbconvert_exporter": "python",
   "pygments_lexer": "ipython3",
   "version": "3.6.5"
  }
 },
 "nbformat": 4,
 "nbformat_minor": 2
}
